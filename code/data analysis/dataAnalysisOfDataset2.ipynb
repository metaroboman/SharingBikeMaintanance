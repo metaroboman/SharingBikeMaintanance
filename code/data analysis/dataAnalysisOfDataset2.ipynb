{
 "cells": [
  {
   "cell_type": "code",
   "execution_count": 1,
   "metadata": {},
   "outputs": [],
   "source": [
    "import numpy as np\n",
    "import pandas as pd\n",
    "import pyecharts as pe\n",
    "import matplotlib.pyplot as plt\n"
   ]
  },
  {
   "cell_type": "code",
   "execution_count": 3,
   "metadata": {},
   "outputs": [
    {
     "data": {
      "text/html": [
       "<div>\n",
       "<style scoped>\n",
       "    .dataframe tbody tr th:only-of-type {\n",
       "        vertical-align: middle;\n",
       "    }\n",
       "\n",
       "    .dataframe tbody tr th {\n",
       "        vertical-align: top;\n",
       "    }\n",
       "\n",
       "    .dataframe thead th {\n",
       "        text-align: right;\n",
       "    }\n",
       "</style>\n",
       "<table border=\"1\" class=\"dataframe\">\n",
       "  <thead>\n",
       "    <tr style=\"text-align: right;\">\n",
       "      <th></th>\n",
       "      <th>0210125956</th>\n",
       "      <th>0210125956_3111527_12133462</th>\n",
       "      <th>31.1152741717505</th>\n",
       "      <th>121.334628950817</th>\n",
       "      <th>2017-6-22 07:40:39</th>\n",
       "      <th>2017-6-22 14:52:26</th>\n",
       "      <th>1</th>\n",
       "    </tr>\n",
       "  </thead>\n",
       "  <tbody>\n",
       "    <tr>\n",
       "      <th>0</th>\n",
       "      <td>216510744</td>\n",
       "      <td>0216510744_3119302_12135127</td>\n",
       "      <td>31.193024</td>\n",
       "      <td>121.351276</td>\n",
       "      <td>2017-6-22 07:40:33</td>\n",
       "      <td>2017-6-22 07:40:33</td>\n",
       "      <td>1</td>\n",
       "    </tr>\n",
       "    <tr>\n",
       "      <th>1</th>\n",
       "      <td>216040928</td>\n",
       "      <td>0216040928_3115497_12134864</td>\n",
       "      <td>31.154979</td>\n",
       "      <td>121.348648</td>\n",
       "      <td>2017-6-22 07:40:36</td>\n",
       "      <td>2017-6-22 07:40:36</td>\n",
       "      <td>2</td>\n",
       "    </tr>\n",
       "    <tr>\n",
       "      <th>2</th>\n",
       "      <td>216040439</td>\n",
       "      <td>0216040439_3126342_12154057</td>\n",
       "      <td>31.263420</td>\n",
       "      <td>121.540571</td>\n",
       "      <td>2017-6-22 07:18:05</td>\n",
       "      <td>2017-6-22 07:40:38</td>\n",
       "      <td>2</td>\n",
       "    </tr>\n",
       "    <tr>\n",
       "      <th>3</th>\n",
       "      <td>216503594</td>\n",
       "      <td>0216503594_3121289_12152278</td>\n",
       "      <td>31.212896</td>\n",
       "      <td>121.522780</td>\n",
       "      <td>2017-6-25 00:26:17</td>\n",
       "      <td>2017-6-25 00:56:07</td>\n",
       "      <td>1</td>\n",
       "    </tr>\n",
       "    <tr>\n",
       "      <th>4</th>\n",
       "      <td>210074871</td>\n",
       "      <td>0210074871_3127076_12146792</td>\n",
       "      <td>31.270768</td>\n",
       "      <td>121.467924</td>\n",
       "      <td>2017-6-22 07:40:58</td>\n",
       "      <td>2017-6-22 07:40:58</td>\n",
       "      <td>1</td>\n",
       "    </tr>\n",
       "  </tbody>\n",
       "</table>\n",
       "</div>"
      ],
      "text/plain": [
       "   0210125956  0210125956_3111527_12133462  31.1152741717505  \\\n",
       "0   216510744  0216510744_3119302_12135127         31.193024   \n",
       "1   216040928  0216040928_3115497_12134864         31.154979   \n",
       "2   216040439  0216040439_3126342_12154057         31.263420   \n",
       "3   216503594  0216503594_3121289_12152278         31.212896   \n",
       "4   210074871  0210074871_3127076_12146792         31.270768   \n",
       "\n",
       "   121.334628950817  2017-6-22 07:40:39  2017-6-22 14:52:26  1  \n",
       "0        121.351276  2017-6-22 07:40:33  2017-6-22 07:40:33  1  \n",
       "1        121.348648  2017-6-22 07:40:36  2017-6-22 07:40:36  2  \n",
       "2        121.540571  2017-6-22 07:18:05  2017-6-22 07:40:38  2  \n",
       "3        121.522780  2017-6-25 00:26:17  2017-6-25 00:56:07  1  \n",
       "4        121.467924  2017-6-22 07:40:58  2017-6-22 07:40:58  1  "
      ]
     },
     "execution_count": 3,
     "metadata": {},
     "output_type": "execute_result"
    }
   ],
   "source": [
    "data2 = pd.read_csv('/Users/valarian/SJTU/SJTU/毕业论文/Data/data/单车数据/mobike_6-19_7-3/mobike_fast_73_utc.csv', names = None)\n",
    "data2.head()"
   ]
  },
  {
   "cell_type": "code",
   "execution_count": 81,
   "metadata": {},
   "outputs": [
    {
     "data": {
      "text/html": [
       "<div>\n",
       "<style scoped>\n",
       "    .dataframe tbody tr th:only-of-type {\n",
       "        vertical-align: middle;\n",
       "    }\n",
       "\n",
       "    .dataframe tbody tr th {\n",
       "        vertical-align: top;\n",
       "    }\n",
       "\n",
       "    .dataframe thead th {\n",
       "        text-align: right;\n",
       "    }\n",
       "</style>\n",
       "<table border=\"1\" class=\"dataframe\">\n",
       "  <thead>\n",
       "    <tr style=\"text-align: right;\">\n",
       "      <th></th>\n",
       "      <th>0210125956</th>\n",
       "      <th>31.1152741717505</th>\n",
       "      <th>121.334628950817</th>\n",
       "      <th>1</th>\n",
       "    </tr>\n",
       "  </thead>\n",
       "  <tbody>\n",
       "    <tr>\n",
       "      <th>count</th>\n",
       "      <td>2.877775e+07</td>\n",
       "      <td>2.877775e+07</td>\n",
       "      <td>2.877775e+07</td>\n",
       "      <td>2.877775e+07</td>\n",
       "    </tr>\n",
       "    <tr>\n",
       "      <th>mean</th>\n",
       "      <td>9.758651e+08</td>\n",
       "      <td>3.123697e+01</td>\n",
       "      <td>1.214717e+02</td>\n",
       "      <td>3.675736e+01</td>\n",
       "    </tr>\n",
       "    <tr>\n",
       "      <th>std</th>\n",
       "      <td>2.411285e+09</td>\n",
       "      <td>5.823448e-02</td>\n",
       "      <td>7.166706e-02</td>\n",
       "      <td>1.847923e+02</td>\n",
       "    </tr>\n",
       "    <tr>\n",
       "      <th>min</th>\n",
       "      <td>1.000407e+08</td>\n",
       "      <td>3.110781e+01</td>\n",
       "      <td>1.213251e+02</td>\n",
       "      <td>1.000000e+00</td>\n",
       "    </tr>\n",
       "    <tr>\n",
       "      <th>25%</th>\n",
       "      <td>2.160510e+08</td>\n",
       "      <td>3.119544e+01</td>\n",
       "      <td>1.214190e+02</td>\n",
       "      <td>1.000000e+00</td>\n",
       "    </tr>\n",
       "    <tr>\n",
       "      <th>50%</th>\n",
       "      <td>2.165516e+08</td>\n",
       "      <td>3.123774e+01</td>\n",
       "      <td>1.214704e+02</td>\n",
       "      <td>1.000000e+00</td>\n",
       "    </tr>\n",
       "    <tr>\n",
       "      <th>75%</th>\n",
       "      <td>2.167330e+08</td>\n",
       "      <td>3.127971e+01</td>\n",
       "      <td>1.215227e+02</td>\n",
       "      <td>2.000000e+00</td>\n",
       "    </tr>\n",
       "    <tr>\n",
       "      <th>max</th>\n",
       "      <td>8.716531e+09</td>\n",
       "      <td>3.137240e+01</td>\n",
       "      <td>1.216617e+02</td>\n",
       "      <td>9.990000e+02</td>\n",
       "    </tr>\n",
       "  </tbody>\n",
       "</table>\n",
       "</div>"
      ],
      "text/plain": [
       "         0210125956  31.1152741717505  121.334628950817             1\n",
       "count  2.877775e+07      2.877775e+07      2.877775e+07  2.877775e+07\n",
       "mean   9.758651e+08      3.123697e+01      1.214717e+02  3.675736e+01\n",
       "std    2.411285e+09      5.823448e-02      7.166706e-02  1.847923e+02\n",
       "min    1.000407e+08      3.110781e+01      1.213251e+02  1.000000e+00\n",
       "25%    2.160510e+08      3.119544e+01      1.214190e+02  1.000000e+00\n",
       "50%    2.165516e+08      3.123774e+01      1.214704e+02  1.000000e+00\n",
       "75%    2.167330e+08      3.127971e+01      1.215227e+02  2.000000e+00\n",
       "max    8.716531e+09      3.137240e+01      1.216617e+02  9.990000e+02"
      ]
     },
     "execution_count": 81,
     "metadata": {},
     "output_type": "execute_result"
    }
   ],
   "source": [
    "data2.describe()"
   ]
  },
  {
   "cell_type": "code",
   "execution_count": 4,
   "metadata": {
    "scrolled": false
   },
   "outputs": [
    {
     "data": {
      "text/plain": [
       "0"
      ]
     },
     "execution_count": 4,
     "metadata": {},
     "output_type": "execute_result"
    }
   ],
   "source": [
    "data2 = pd.read_csv('/Users/valarian/SJTU/SJTU/毕业论文/Data/data/单车数据/mobike_6-19_7-3/mobike_fast_73_utc.csv', \\\n",
    "                    names = ['bid', 'lat', 'lng'], usecols = [0, 2, 3])\n",
    "data2.duplicated().sum()\n",
    "# day = pd.Series([int(d.split('-')[-1].split(' ')[0]) for d in data2.time])\n",
    "# data2['day'] = day\n",
    "# hour = pd.Series([int(h[-8:-6]) for h in data2.time])\n",
    "# data2['hour'] = hour\n",
    "# data2.head()"
   ]
  },
  {
   "cell_type": "code",
   "execution_count": 8,
   "metadata": {},
   "outputs": [
    {
     "data": {
      "text/plain": [
       "422307"
      ]
     },
     "execution_count": 8,
     "metadata": {},
     "output_type": "execute_result"
    }
   ],
   "source": [
    "len(set(data2.bid))"
   ]
  },
  {
   "cell_type": "code",
   "execution_count": 75,
   "metadata": {},
   "outputs": [
    {
     "name": "stdout",
     "output_type": "stream",
     "text": [
      "121.661724557909 121.32505522224301 31.372404487095103 31.107806226554604\n"
     ]
    }
   ],
   "source": [
    "print(max(data2.lng), min(data2.lng), max(data2.lat), min(data2.lat))"
   ]
  },
  {
   "cell_type": "code",
   "execution_count": 69,
   "metadata": {},
   "outputs": [
    {
     "data": {
      "text/plain": [
       "1675511"
      ]
     },
     "execution_count": 69,
     "metadata": {},
     "output_type": "execute_result"
    }
   ],
   "source": [
    "data2[data2.hour == 1].count()[0]"
   ]
  },
  {
   "cell_type": "code",
   "execution_count": 74,
   "metadata": {},
   "outputs": [
    {
     "data": {
      "text/html": [
       "<script>\n",
       "    require.config({\n",
       "        paths: {\n",
       "            'echarts':'http://assets.pyecharts.org/assets/echarts.min'\n",
       "        }\n",
       "    });\n",
       "</script>\n",
       "\n",
       "    <div id=\"43966596ac8749c88c12e9f048e44af3\" style=\"width:900px; height:500px;\"></div>\n",
       "\n",
       "\n",
       "<script>\n",
       "    require(['echarts'], function(echarts) {\n",
       "        var chart_43966596ac8749c88c12e9f048e44af3 = echarts.init(\n",
       "            document.getElementById('43966596ac8749c88c12e9f048e44af3'), 'white', {renderer: 'canvas'});\n",
       "        var option_43966596ac8749c88c12e9f048e44af3 = {\n",
       "    \"color\": [\n",
       "        \"#c23531\",\n",
       "        \"#2f4554\",\n",
       "        \"#61a0a8\",\n",
       "        \"#d48265\",\n",
       "        \"#749f83\",\n",
       "        \"#ca8622\",\n",
       "        \"#bda29a\",\n",
       "        \"#6e7074\",\n",
       "        \"#546570\",\n",
       "        \"#c4ccd3\",\n",
       "        \"#f05b72\",\n",
       "        \"#ef5b9c\",\n",
       "        \"#f47920\",\n",
       "        \"#905a3d\",\n",
       "        \"#fab27b\",\n",
       "        \"#2a5caa\",\n",
       "        \"#444693\",\n",
       "        \"#726930\",\n",
       "        \"#b2d235\",\n",
       "        \"#6d8346\",\n",
       "        \"#ac6767\",\n",
       "        \"#1d953f\",\n",
       "        \"#6950a1\",\n",
       "        \"#918597\"\n",
       "    ],\n",
       "    \"series\": [\n",
       "        {\n",
       "            \"type\": \"line\",\n",
       "            \"name\": \"\\u8bb0\\u5f55\\u6570\",\n",
       "            \"symbolSize\": 4,\n",
       "            \"showSymbol\": false,\n",
       "            \"smooth\": false,\n",
       "            \"step\": false,\n",
       "            \"data\": [\n",
       "                [\n",
       "                    0,\n",
       "                    139314.35714285713\n",
       "                ],\n",
       "                [\n",
       "                    1,\n",
       "                    119679.35714285714\n",
       "                ],\n",
       "                [\n",
       "                    2,\n",
       "                    59589.21428571428\n",
       "                ],\n",
       "                [\n",
       "                    3,\n",
       "                    55457.78571428572\n",
       "                ],\n",
       "                [\n",
       "                    4,\n",
       "                    120838.07142857143\n",
       "                ],\n",
       "                [\n",
       "                    5,\n",
       "                    104660.78571428571\n",
       "                ],\n",
       "                [\n",
       "                    6,\n",
       "                    55567.21428571428\n",
       "                ],\n",
       "                [\n",
       "                    7,\n",
       "                    52942.5\n",
       "                ],\n",
       "                [\n",
       "                    8,\n",
       "                    115917.85714285714\n",
       "                ],\n",
       "                [\n",
       "                    9,\n",
       "                    115307.71428571429\n",
       "                ],\n",
       "                [\n",
       "                    10,\n",
       "                    82474.71428571429\n",
       "                ],\n",
       "                [\n",
       "                    11,\n",
       "                    74043.28571428571\n",
       "                ],\n",
       "                [\n",
       "                    12,\n",
       "                    126732.35714285714\n",
       "                ],\n",
       "                [\n",
       "                    13,\n",
       "                    129334.85714285714\n",
       "                ],\n",
       "                [\n",
       "                    14,\n",
       "                    57025.5\n",
       "                ],\n",
       "                [\n",
       "                    15,\n",
       "                    41031.28571428572\n",
       "                ],\n",
       "                [\n",
       "                    16,\n",
       "                    127381.28571428571\n",
       "                ],\n",
       "                [\n",
       "                    17,\n",
       "                    101268.71428571429\n",
       "                ],\n",
       "                [\n",
       "                    18,\n",
       "                    40708.28571428572\n",
       "                ],\n",
       "                [\n",
       "                    19,\n",
       "                    32650.428571428572\n",
       "                ],\n",
       "                [\n",
       "                    20,\n",
       "                    113639.21428571429\n",
       "                ],\n",
       "                [\n",
       "                    21,\n",
       "                    96649.5\n",
       "                ],\n",
       "                [\n",
       "                    22,\n",
       "                    39612.42857142857\n",
       "                ],\n",
       "                [\n",
       "                    23,\n",
       "                    53726.71428571428\n",
       "                ]\n",
       "            ],\n",
       "            \"label\": {\n",
       "                \"show\": true,\n",
       "                \"position\": \"top\",\n",
       "                \"fontSize\": 12\n",
       "            },\n",
       "            \"lineStyle\": {\n",
       "                \"width\": 1,\n",
       "                \"opacity\": 1,\n",
       "                \"curveness\": 0,\n",
       "                \"type\": \"solid\"\n",
       "            },\n",
       "            \"areaStyle\": {\n",
       "                \"opacity\": 0\n",
       "            }\n",
       "        }\n",
       "    ],\n",
       "    \"legend\": [\n",
       "        {\n",
       "            \"data\": [\n",
       "                \"\\u8bb0\\u5f55\\u6570\"\n",
       "            ],\n",
       "            \"selected\": {\n",
       "                \"\\u8bb0\\u5f55\\u6570\": true\n",
       "            },\n",
       "            \"show\": true\n",
       "        }\n",
       "    ],\n",
       "    \"tooltip\": {\n",
       "        \"trigger\": \"item\",\n",
       "        \"triggerOn\": \"mousemove|click\",\n",
       "        \"axisPointer\": {\n",
       "            \"type\": \"line\"\n",
       "        },\n",
       "        \"textStyle\": {\n",
       "            \"fontSize\": 14\n",
       "        },\n",
       "        \"borderWidth\": 0\n",
       "    },\n",
       "    \"yAxis\": [\n",
       "        {\n",
       "            \"show\": true,\n",
       "            \"scale\": false,\n",
       "            \"nameLocation\": \"end\",\n",
       "            \"nameGap\": 15,\n",
       "            \"gridIndex\": 0,\n",
       "            \"inverse\": false,\n",
       "            \"splitLine\": {\n",
       "                \"show\": false,\n",
       "                \"lineStyle\": {\n",
       "                    \"width\": 1,\n",
       "                    \"opacity\": 1,\n",
       "                    \"curveness\": 0,\n",
       "                    \"type\": \"solid\"\n",
       "                }\n",
       "            },\n",
       "            \"axisLine\": {\n",
       "                \"lineStyle\": {\n",
       "                    \"width\": 1,\n",
       "                    \"opacity\": 1,\n",
       "                    \"curveness\": 0,\n",
       "                    \"type\": \"solid\"\n",
       "                }\n",
       "            }\n",
       "        }\n",
       "    ],\n",
       "    \"xAxis\": [\n",
       "        {\n",
       "            \"show\": true,\n",
       "            \"scale\": false,\n",
       "            \"nameLocation\": \"end\",\n",
       "            \"nameGap\": 15,\n",
       "            \"gridIndex\": 0,\n",
       "            \"inverse\": false,\n",
       "            \"splitLine\": {\n",
       "                \"show\": false,\n",
       "                \"lineStyle\": {\n",
       "                    \"width\": 1,\n",
       "                    \"opacity\": 1,\n",
       "                    \"curveness\": 0,\n",
       "                    \"type\": \"solid\"\n",
       "                }\n",
       "            },\n",
       "            \"axisLine\": {\n",
       "                \"lineStyle\": {\n",
       "                    \"width\": 1,\n",
       "                    \"opacity\": 1,\n",
       "                    \"curveness\": 0,\n",
       "                    \"type\": \"solid\"\n",
       "                }\n",
       "            },\n",
       "            \"data\": [\n",
       "                0,\n",
       "                1,\n",
       "                2,\n",
       "                3,\n",
       "                4,\n",
       "                5,\n",
       "                6,\n",
       "                7,\n",
       "                8,\n",
       "                9,\n",
       "                10,\n",
       "                11,\n",
       "                12,\n",
       "                13,\n",
       "                14,\n",
       "                15,\n",
       "                16,\n",
       "                17,\n",
       "                18,\n",
       "                19,\n",
       "                20,\n",
       "                21,\n",
       "                22,\n",
       "                23\n",
       "            ]\n",
       "        }\n",
       "    ],\n",
       "    \"title\": [\n",
       "        {\n",
       "            \"text\": \"\\u5e73\\u5747\\u6bcf\\u65e5\\u6bcf\\u4e2a\\u5c0f\\u65f6\\u95f4\\u9694\\u6570\\u636e\\u91cf\\u7edf\\u8ba1\"\n",
       "        }\n",
       "    ]\n",
       "};\n",
       "        chart_43966596ac8749c88c12e9f048e44af3.setOption(option_43966596ac8749c88c12e9f048e44af3);\n",
       "    });\n",
       "</script>\n"
      ],
      "text/plain": [
       "<pyecharts.render.display.HTML at 0x1179d6ba8>"
      ]
     },
     "execution_count": 74,
     "metadata": {},
     "output_type": "execute_result"
    }
   ],
   "source": [
    "line = (\n",
    "    pe.charts.Line()\n",
    "    .add_xaxis(list(range(24)))\n",
    "    .add_yaxis('记录数', [data2[data2.hour == x].count()[0]/14 for x in range(24)], is_symbol_show = False)\n",
    "    .set_global_opts(\n",
    "        title_opts=pe.options.TitleOpts(title=\"平均每日每个小时间隔数据量统计\"),\n",
    "    )\n",
    ")\n",
    "line.render_notebook()"
   ]
  },
  {
   "cell_type": "code",
   "execution_count": 1,
   "metadata": {
    "scrolled": true
   },
   "outputs": [
    {
     "ename": "NameError",
     "evalue": "name 'data2' is not defined",
     "output_type": "error",
     "traceback": [
      "\u001b[0;31m---------------------------------------------------------------------------\u001b[0m",
      "\u001b[0;31mNameError\u001b[0m                                 Traceback (most recent call last)",
      "\u001b[0;32m<ipython-input-1-3c5d3866c806>\u001b[0m in \u001b[0;36m<module>\u001b[0;34m\u001b[0m\n\u001b[0;32m----> 1\u001b[0;31m \u001b[0mdata2\u001b[0m\u001b[0;34m.\u001b[0m\u001b[0misnull\u001b[0m\u001b[0;34m(\u001b[0m\u001b[0;34m)\u001b[0m\u001b[0;34m.\u001b[0m\u001b[0msum\u001b[0m\u001b[0;34m(\u001b[0m\u001b[0;34m)\u001b[0m\u001b[0;34m\u001b[0m\u001b[0;34m\u001b[0m\u001b[0m\n\u001b[0m",
      "\u001b[0;31mNameError\u001b[0m: name 'data2' is not defined"
     ]
    }
   ],
   "source": [
    "data2.isnull().sum()"
   ]
  },
  {
   "cell_type": "code",
   "execution_count": 12,
   "metadata": {},
   "outputs": [
    {
     "name": "stdout",
     "output_type": "stream",
     "text": [
      "31.372404487095103 31.107806226554604 121.661724557909 121.32505522224301\n",
      "2017-6-18 16:11:09 2017-7-2 15:59:59\n"
     ]
    }
   ],
   "source": [
    "print(max(data2.lat), min(data2.lat), max(data2.lng), min(data2.lng))\n",
    "print(min(data2.time), max(data2.time))"
   ]
  },
  {
   "cell_type": "code",
   "execution_count": 39,
   "metadata": {
    "scrolled": false
   },
   "outputs": [
    {
     "data": {
      "text/html": [
       "<div>\n",
       "<style scoped>\n",
       "    .dataframe tbody tr th:only-of-type {\n",
       "        vertical-align: middle;\n",
       "    }\n",
       "\n",
       "    .dataframe tbody tr th {\n",
       "        vertical-align: top;\n",
       "    }\n",
       "\n",
       "    .dataframe thead th {\n",
       "        text-align: right;\n",
       "    }\n",
       "</style>\n",
       "<table border=\"1\" class=\"dataframe\">\n",
       "  <thead>\n",
       "    <tr style=\"text-align: right;\">\n",
       "      <th></th>\n",
       "      <th>bid</th>\n",
       "      <th>lat</th>\n",
       "      <th>lng</th>\n",
       "      <th>time</th>\n",
       "      <th>geometry</th>\n",
       "    </tr>\n",
       "  </thead>\n",
       "  <tbody>\n",
       "    <tr>\n",
       "      <th>0</th>\n",
       "      <td>210125956</td>\n",
       "      <td>31.115274</td>\n",
       "      <td>121.334629</td>\n",
       "      <td>2017-6-22 07:40:39</td>\n",
       "      <td>POINT (121.334628950817 31.1152741717505)</td>\n",
       "    </tr>\n",
       "    <tr>\n",
       "      <th>1</th>\n",
       "      <td>216510744</td>\n",
       "      <td>31.193024</td>\n",
       "      <td>121.351276</td>\n",
       "      <td>2017-6-22 07:40:33</td>\n",
       "      <td>POINT (121.351276305658 31.1930235978593)</td>\n",
       "    </tr>\n",
       "    <tr>\n",
       "      <th>2</th>\n",
       "      <td>216040928</td>\n",
       "      <td>31.154979</td>\n",
       "      <td>121.348648</td>\n",
       "      <td>2017-6-22 07:40:36</td>\n",
       "      <td>POINT (121.348648460998 31.1549786031044)</td>\n",
       "    </tr>\n",
       "    <tr>\n",
       "      <th>3</th>\n",
       "      <td>216040439</td>\n",
       "      <td>31.263420</td>\n",
       "      <td>121.540571</td>\n",
       "      <td>2017-6-22 07:18:05</td>\n",
       "      <td>POINT (121.54057103206 31.263420198073)</td>\n",
       "    </tr>\n",
       "    <tr>\n",
       "      <th>4</th>\n",
       "      <td>216503594</td>\n",
       "      <td>31.212896</td>\n",
       "      <td>121.522780</td>\n",
       "      <td>2017-6-25 00:26:17</td>\n",
       "      <td>POINT (121.522780264395 31.2128963515667)</td>\n",
       "    </tr>\n",
       "  </tbody>\n",
       "</table>\n",
       "</div>"
      ],
      "text/plain": [
       "         bid        lat         lng                time  \\\n",
       "0  210125956  31.115274  121.334629  2017-6-22 07:40:39   \n",
       "1  216510744  31.193024  121.351276  2017-6-22 07:40:33   \n",
       "2  216040928  31.154979  121.348648  2017-6-22 07:40:36   \n",
       "3  216040439  31.263420  121.540571  2017-6-22 07:18:05   \n",
       "4  216503594  31.212896  121.522780  2017-6-25 00:26:17   \n",
       "\n",
       "                                    geometry  \n",
       "0  POINT (121.334628950817 31.1152741717505)  \n",
       "1  POINT (121.351276305658 31.1930235978593)  \n",
       "2  POINT (121.348648460998 31.1549786031044)  \n",
       "3    POINT (121.54057103206 31.263420198073)  \n",
       "4  POINT (121.522780264395 31.2128963515667)  "
      ]
     },
     "execution_count": 39,
     "metadata": {},
     "output_type": "execute_result"
    }
   ],
   "source": [
    "sample = data2[:5]\n",
    "sample"
   ]
  },
  {
   "cell_type": "code",
   "execution_count": 60,
   "metadata": {
    "scrolled": true
   },
   "outputs": [],
   "source": [
    "d = pd.Series([int(x.split('-')[-1].split(' ')[0]) for x in data2.time])\n",
    "data2['day'] = d"
   ]
  },
  {
   "cell_type": "code",
   "execution_count": 59,
   "metadata": {},
   "outputs": [
    {
     "name": "stderr",
     "output_type": "stream",
     "text": [
      "/Users/valarian/python/miniconda3/lib/python3.7/site-packages/ipykernel_launcher.py:2: SettingWithCopyWarning: \n",
      "A value is trying to be set on a copy of a slice from a DataFrame.\n",
      "Try using .loc[row_indexer,col_indexer] = value instead\n",
      "\n",
      "See the caveats in the documentation: http://pandas.pydata.org/pandas-docs/stable/indexing.html#indexing-view-versus-copy\n",
      "  \n"
     ]
    },
    {
     "data": {
      "text/html": [
       "<div>\n",
       "<style scoped>\n",
       "    .dataframe tbody tr th:only-of-type {\n",
       "        vertical-align: middle;\n",
       "    }\n",
       "\n",
       "    .dataframe tbody tr th {\n",
       "        vertical-align: top;\n",
       "    }\n",
       "\n",
       "    .dataframe thead th {\n",
       "        text-align: right;\n",
       "    }\n",
       "</style>\n",
       "<table border=\"1\" class=\"dataframe\">\n",
       "  <thead>\n",
       "    <tr style=\"text-align: right;\">\n",
       "      <th></th>\n",
       "      <th>bid</th>\n",
       "      <th>lat</th>\n",
       "      <th>lng</th>\n",
       "      <th>time</th>\n",
       "      <th>geometry</th>\n",
       "      <th>day</th>\n",
       "      <th>hour</th>\n",
       "    </tr>\n",
       "  </thead>\n",
       "  <tbody>\n",
       "    <tr>\n",
       "      <th>0</th>\n",
       "      <td>210125956</td>\n",
       "      <td>31.115274</td>\n",
       "      <td>121.334629</td>\n",
       "      <td>2017-6-22 07:40:39</td>\n",
       "      <td>POINT (121.334628950817 31.1152741717505)</td>\n",
       "      <td>22</td>\n",
       "      <td>7</td>\n",
       "    </tr>\n",
       "    <tr>\n",
       "      <th>1</th>\n",
       "      <td>216510744</td>\n",
       "      <td>31.193024</td>\n",
       "      <td>121.351276</td>\n",
       "      <td>2017-6-22 07:40:33</td>\n",
       "      <td>POINT (121.351276305658 31.1930235978593)</td>\n",
       "      <td>22</td>\n",
       "      <td>7</td>\n",
       "    </tr>\n",
       "    <tr>\n",
       "      <th>2</th>\n",
       "      <td>216040928</td>\n",
       "      <td>31.154979</td>\n",
       "      <td>121.348648</td>\n",
       "      <td>2017-6-22 07:40:36</td>\n",
       "      <td>POINT (121.348648460998 31.1549786031044)</td>\n",
       "      <td>22</td>\n",
       "      <td>7</td>\n",
       "    </tr>\n",
       "    <tr>\n",
       "      <th>3</th>\n",
       "      <td>216040439</td>\n",
       "      <td>31.263420</td>\n",
       "      <td>121.540571</td>\n",
       "      <td>2017-6-22 07:18:05</td>\n",
       "      <td>POINT (121.54057103206 31.263420198073)</td>\n",
       "      <td>22</td>\n",
       "      <td>7</td>\n",
       "    </tr>\n",
       "    <tr>\n",
       "      <th>4</th>\n",
       "      <td>216503594</td>\n",
       "      <td>31.212896</td>\n",
       "      <td>121.522780</td>\n",
       "      <td>2017-6-25 00:26:17</td>\n",
       "      <td>POINT (121.522780264395 31.2128963515667)</td>\n",
       "      <td>25</td>\n",
       "      <td>0</td>\n",
       "    </tr>\n",
       "  </tbody>\n",
       "</table>\n",
       "</div>"
      ],
      "text/plain": [
       "         bid        lat         lng                time  \\\n",
       "0  210125956  31.115274  121.334629  2017-6-22 07:40:39   \n",
       "1  216510744  31.193024  121.351276  2017-6-22 07:40:33   \n",
       "2  216040928  31.154979  121.348648  2017-6-22 07:40:36   \n",
       "3  216040439  31.263420  121.540571  2017-6-22 07:18:05   \n",
       "4  216503594  31.212896  121.522780  2017-6-25 00:26:17   \n",
       "\n",
       "                                    geometry  day  hour  \n",
       "0  POINT (121.334628950817 31.1152741717505)   22     7  \n",
       "1  POINT (121.351276305658 31.1930235978593)   22     7  \n",
       "2  POINT (121.348648460998 31.1549786031044)   22     7  \n",
       "3    POINT (121.54057103206 31.263420198073)   22     7  \n",
       "4  POINT (121.522780264395 31.2128963515667)   25     0  "
      ]
     },
     "execution_count": 59,
     "metadata": {},
     "output_type": "execute_result"
    }
   ],
   "source": [
    "h = pd.Series([int(x[-8:-6]) for x in sample.time])\n",
    "sample['hour'] = h\n",
    "sample"
   ]
  },
  {
   "cell_type": "code",
   "execution_count": null,
   "metadata": {
    "scrolled": true
   },
   "outputs": [],
   "source": [
    "data2.drop(['geometry'], axis =1)"
   ]
  },
  {
   "cell_type": "code",
   "execution_count": 14,
   "metadata": {
    "scrolled": true
   },
   "outputs": [
    {
     "data": {
      "text/html": [
       "<div>\n",
       "<style scoped>\n",
       "    .dataframe tbody tr th:only-of-type {\n",
       "        vertical-align: middle;\n",
       "    }\n",
       "\n",
       "    .dataframe tbody tr th {\n",
       "        vertical-align: top;\n",
       "    }\n",
       "\n",
       "    .dataframe thead th {\n",
       "        text-align: right;\n",
       "    }\n",
       "</style>\n",
       "<table border=\"1\" class=\"dataframe\">\n",
       "  <thead>\n",
       "    <tr style=\"text-align: right;\">\n",
       "      <th></th>\n",
       "      <th>bid</th>\n",
       "      <th>lat</th>\n",
       "      <th>lng</th>\n",
       "    </tr>\n",
       "  </thead>\n",
       "  <tbody>\n",
       "    <tr>\n",
       "      <th>count</th>\n",
       "      <td>2.877775e+07</td>\n",
       "      <td>2.877775e+07</td>\n",
       "      <td>2.877775e+07</td>\n",
       "    </tr>\n",
       "    <tr>\n",
       "      <th>mean</th>\n",
       "      <td>9.758651e+08</td>\n",
       "      <td>3.123697e+01</td>\n",
       "      <td>1.214717e+02</td>\n",
       "    </tr>\n",
       "    <tr>\n",
       "      <th>std</th>\n",
       "      <td>2.411285e+09</td>\n",
       "      <td>5.823448e-02</td>\n",
       "      <td>7.166706e-02</td>\n",
       "    </tr>\n",
       "    <tr>\n",
       "      <th>min</th>\n",
       "      <td>1.000407e+08</td>\n",
       "      <td>3.110781e+01</td>\n",
       "      <td>1.213251e+02</td>\n",
       "    </tr>\n",
       "    <tr>\n",
       "      <th>25%</th>\n",
       "      <td>2.160510e+08</td>\n",
       "      <td>3.119544e+01</td>\n",
       "      <td>1.214190e+02</td>\n",
       "    </tr>\n",
       "    <tr>\n",
       "      <th>50%</th>\n",
       "      <td>2.165516e+08</td>\n",
       "      <td>3.123774e+01</td>\n",
       "      <td>1.214704e+02</td>\n",
       "    </tr>\n",
       "    <tr>\n",
       "      <th>75%</th>\n",
       "      <td>2.167330e+08</td>\n",
       "      <td>3.127971e+01</td>\n",
       "      <td>1.215227e+02</td>\n",
       "    </tr>\n",
       "    <tr>\n",
       "      <th>max</th>\n",
       "      <td>8.716531e+09</td>\n",
       "      <td>3.137240e+01</td>\n",
       "      <td>1.216617e+02</td>\n",
       "    </tr>\n",
       "  </tbody>\n",
       "</table>\n",
       "</div>"
      ],
      "text/plain": [
       "                bid           lat           lng\n",
       "count  2.877775e+07  2.877775e+07  2.877775e+07\n",
       "mean   9.758651e+08  3.123697e+01  1.214717e+02\n",
       "std    2.411285e+09  5.823448e-02  7.166706e-02\n",
       "min    1.000407e+08  3.110781e+01  1.213251e+02\n",
       "25%    2.160510e+08  3.119544e+01  1.214190e+02\n",
       "50%    2.165516e+08  3.123774e+01  1.214704e+02\n",
       "75%    2.167330e+08  3.127971e+01  1.215227e+02\n",
       "max    8.716531e+09  3.137240e+01  1.216617e+02"
      ]
     },
     "execution_count": 14,
     "metadata": {},
     "output_type": "execute_result"
    }
   ],
   "source": [
    "data2.describe()"
   ]
  },
  {
   "cell_type": "code",
   "execution_count": null,
   "metadata": {},
   "outputs": [],
   "source": [
    "#按id统计\n",
    "id_df = data2.groupby('bid')\n"
   ]
  },
  {
   "cell_type": "code",
   "execution_count": 11,
   "metadata": {},
   "outputs": [
    {
     "data": {
      "text/plain": [
       "bid\n",
       "100040745     25\n",
       "106094970    181\n",
       "200010028    144\n",
       "200010138    111\n",
       "200010245     74\n",
       "dtype: int64"
      ]
     },
     "execution_count": 11,
     "metadata": {},
     "output_type": "execute_result"
    }
   ],
   "source": [
    "id_df.size().head()"
   ]
  },
  {
   "cell_type": "code",
   "execution_count": null,
   "metadata": {
    "scrolled": true
   },
   "outputs": [],
   "source": [
    "id_df.mean()"
   ]
  },
  {
   "cell_type": "code",
   "execution_count": 6,
   "metadata": {},
   "outputs": [
    {
     "data": {
      "text/plain": [
       "<matplotlib.axes._subplots.AxesSubplot at 0x11bc1b438>"
      ]
     },
     "execution_count": 6,
     "metadata": {},
     "output_type": "execute_result"
    },
    {
     "data": {
      "image/png": "[encoded data removed]",
      "text/plain": [
       "<Figure size 432x288 with 1 Axes>"
      ]
     },
     "metadata": {
      "needs_background": "light"
     },
     "output_type": "display_data"
    }
   ],
   "source": [
    "df = pd.DataFrame(id_dataFrame)\n",
    "df.plot(kind = 'kde', xlim = (0,max(id_dataFrame)), legend = False)"
   ]
  },
  {
   "cell_type": "code",
   "execution_count": null,
   "metadata": {},
   "outputs": [
    {
     "name": "stderr",
     "output_type": "stream",
     "text": [
      "No handles with labels found to put in legend.\n"
     ]
    },
    {
     "data": {
      "text/plain": [
       "<matplotlib.legend.Legend at 0x21020455f8>"
      ]
     },
     "execution_count": 85,
     "metadata": {},
     "output_type": "execute_result"
    },
    {
     "data": {
      "image/png": "[encoded data removed]",
      "text/plain": [
       "<Figure size 288x288 with 1 Axes>"
      ]
     },
     "metadata": {
      "needs_background": "light"
     },
     "output_type": "display_data"
    }
   ],
   "source": [
    "import pandas as pd\n",
    "import matplotlib.pyplot as plt\n",
    "import descartes\n",
    "import geopandas as gpd\n",
    "from shapely.geometry import Point, Polygon\n",
    "\n",
    "%matplotlib inline\n",
    "city_map = gpd.read_file('/Users/valarian/SJTU/SJTU/Data/shanghaitown/shanghaitown.shp')\n",
    "geometry = [Point(xy) for xy in zip(data2.lng, data2.lat)]\n",
    "geo_df = gpd.GeoDataFrame(data2, geometry = geometry)\n",
    "#fig, ax = plt.subplots(10,3,figsize = (15,60))\n",
    "days = set(geo_df['day'])\n",
    "for i in days:\n",
    "    fig, ax = plt.subplots(1,1,figsize = (4,4))\n",
    "    city_map.plot(ax = ax, alpha = 0.4)#, alpha = 0.4, color = 'grey')\n",
    "    geo_df[geo_df['day'] == i].plot(ax =ax, markersize = 0.2)\n",
    "    ax.set_title('day of month '+str(i))\n",
    "    plt.savefig('./mobike/eachday' + str(i) +'.png')\n",
    "\n",
    "# city_map.plot(ax = ax[i], alpha = 0.4)#, alpha = 0.4, color = 'grey')\n",
    "# geo_df[geo_df['hour'] == i].plot(ax =ax[i], markersize = 0.2)\n",
    "# ax[i].set_title(i+1)\n",
    "\n",
    "plt.legend(prop={'size':15})"
   ]
  }
 ],
 "metadata": {
  "kernelspec": {
   "display_name": "Python 3",
   "language": "python",
   "name": "python3"
  },
  "language_info": {
   "codemirror_mode": {
    "name": "ipython",
    "version": 3
   },
   "file_extension": ".py",
   "mimetype": "text/x-python",
   "name": "python",
   "nbconvert_exporter": "python",
   "pygments_lexer": "ipython3",
   "version": "3.7.1"
  }
 },
 "nbformat": 4,
 "nbformat_minor": 2
}
