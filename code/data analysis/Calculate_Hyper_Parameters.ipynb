{
 "cells": [
  {
   "cell_type": "code",
   "execution_count": 15,
   "metadata": {},
   "outputs": [],
   "source": [
    "import pandas as pd\n",
    "import numpy as np\n",
    "import seaborn as sb\n",
    "from scipy import stats\n",
    "import random\n",
    "import matplotlib.pyplot as plt\n",
    "from geohash2 import decode_exactly"
   ]
  },
  {
   "cell_type": "code",
   "execution_count": 3,
   "metadata": {},
   "outputs": [
    {
     "name": "stdout",
     "output_type": "stream",
     "text": [
      "Untitled.ipynb \u001b[31mtest.csv\u001b[m\u001b[m       \u001b[31mtrain.csv\u001b[m\u001b[m\r\n"
     ]
    }
   ],
   "source": [
    "!ls"
   ]
  },
  {
   "cell_type": "code",
   "execution_count": 7,
   "metadata": {
    "scrolled": true
   },
   "outputs": [
    {
     "name": "stdout",
     "output_type": "stream",
     "text": [
      "<class 'pandas.core.frame.DataFrame'>\n",
      "RangeIndex: 1048575 entries, 0 to 1048574\n",
      "Data columns (total 11 columns):\n",
      "id           1048575 non-null int64\n",
      "unique_id    1048575 non-null object\n",
      "car_id       1048575 non-null int64\n",
      "bike_type    1048575 non-null int64\n",
      "time         1048575 non-null object\n",
      "lat          1048575 non-null float64\n",
      "lng          1048575 non-null float64\n",
      "center       1048575 non-null object\n",
      "distance     1048575 non-null int64\n",
      "createdAt    1048575 non-null object\n",
      "updatedAt    1048575 non-null object\n",
      "dtypes: float64(2), int64(4), object(5)\n",
      "memory usage: 88.0+ MB\n"
     ]
    }
   ],
   "source": [
    "df = pd.read_csv('/Users/valarian/SJTU/SJTU/毕业论文/Data/data/bike.csv')\n",
    "df.head()\n",
    "df.info()"
   ]
  },
  {
   "cell_type": "code",
   "execution_count": 23,
   "metadata": {},
   "outputs": [
    {
     "data": {
      "text/plain": [
       "(121.6590225, 121.3261686, 31.37167887, 31.10827132)"
      ]
     },
     "execution_count": 23,
     "metadata": {},
     "output_type": "execute_result"
    }
   ],
   "source": [
    "df.lng.max(), df.lng.min(), df.lat.max(), df.lat.min()"
   ]
  },
  {
   "cell_type": "code",
   "execution_count": null,
   "metadata": {},
   "outputs": [],
   "source": [
    "# 人民广场：121.481707,31.239699\n",
    "# 南京东路：121.491508,31.243288\n",
    "# 西藏中路：121.484869,31.2345\n",
    "# 河南中路：121.493286,31.236793"
   ]
  },
  {
   "cell_type": "code",
   "execution_count": 20,
   "metadata": {},
   "outputs": [
    {
     "data": {
      "text/plain": [
       "172"
      ]
     },
     "execution_count": 20,
     "metadata": {},
     "output_type": "execute_result"
    }
   ],
   "source": [
    "test = df.loc[(df.lat<31.239699)&(df.lat>31.2345)&(df.lng<121.3359696)&(df.lng>121.3261686)]\n",
    "len(test.car_id.unique())"
   ]
  },
  {
   "cell_type": "code",
   "execution_count": 2,
   "metadata": {},
   "outputs": [],
   "source": [
    "from math import radians, tan, atan, sin, cos, acos\n",
    "def calcDistance(Lat_A, Lng_A, Lat_B, Lng_B):\n",
    "    '''\n",
    "    input Lat_A 纬度A\n",
    "    input Lng_A 经度A\n",
    "    input Lat_B 纬度B\n",
    "    input Lng_B 经度B\n",
    "    output distance 距离(km)\n",
    "'''\n",
    "    ra = 6378.140  # 赤道半径 (km)\n",
    "    rb = 6356.755  # 极半径 (km)\n",
    "    flatten = (ra - rb) / ra  # 地球扁率\n",
    "    rad_lat_A = radians(Lat_A)\n",
    "    rad_lng_A = radians(Lng_A)\n",
    "    rad_lat_B = radians(Lat_B)\n",
    "    rad_lng_B = radians(Lng_B)\n",
    "    pA = atan(rb / ra * tan(rad_lat_A))\n",
    "    pB = atan(rb / ra * tan(rad_lat_B))\n",
    "    xx = acos(sin(pA) * sin(pB) + cos(pA) * cos(pB) * cos(rad_lng_A - rad_lng_B))\n",
    "    c1 = (sin(xx) - xx) * (sin(pA) + sin(pB)) ** 2 / cos(xx / 2) ** 2\n",
    "    c2 = (sin(xx) + xx) * (sin(pA) - sin(pB)) ** 2 / sin(xx / 2) ** 2\n",
    "    dr = flatten / 8 * (c1 - c2)\n",
    "    distance = ra * (xx + dr)\n",
    "    return distance"
   ]
  },
  {
   "cell_type": "code",
   "execution_count": 51,
   "metadata": {},
   "outputs": [],
   "source": [
    "def calcManhattan(Lat_A, Lng_A, Lat_B, Lng_B):\n",
    "    if Lat_A == Lat_B or Lng_A == Lng_B:\n",
    "        #print('by1')\n",
    "        return calcDistance(Lat_A, Lng_A, Lat_B, Lng_B)\n",
    "    else:\n",
    "        #print('by2')\n",
    "        horiz = calcDistance(Lat_A, Lng_A, Lat_A, Lng_B)\n",
    "        verti = calcDistance(Lat_A, Lng_B, Lat_B, Lng_B)\n",
    "        return (horiz**2+verti**2)**0.5"
   ]
  },
  {
   "cell_type": "code",
   "execution_count": 44,
   "metadata": {},
   "outputs": [
    {
     "name": "stdout",
     "output_type": "stream",
     "text": [
      "by2\n"
     ]
    },
    {
     "data": {
      "text/plain": [
       "15.596325952066666"
      ]
     },
     "execution_count": 44,
     "metadata": {},
     "output_type": "execute_result"
    }
   ],
   "source": [
    "# calculate the edge length of the area, then get the density of bicycles in this area\n",
    "calcManhattan(121.6790225, 31.37167887, 121.6590225, 31.10827132)"
   ]
  },
  {
   "cell_type": "code",
   "execution_count": 45,
   "metadata": {},
   "outputs": [
    {
     "data": {
      "text/plain": [
       "15.592011886738868"
      ]
     },
     "execution_count": 45,
     "metadata": {},
     "output_type": "execute_result"
    }
   ],
   "source": [
    "calcDistance(121.6790225, 31.37167887, 121.6590225, 31.10827132)"
   ]
  },
  {
   "cell_type": "code",
   "execution_count": 30,
   "metadata": {},
   "outputs": [
    {
     "data": {
      "text/plain": [
       "37.07542508331029"
      ]
     },
     "execution_count": 30,
     "metadata": {},
     "output_type": "execute_result"
    }
   ],
   "source": [
    "calcDistance(121.3261686, 31.37167887, 121.6590225, 31.37167887)"
   ]
  },
  {
   "cell_type": "code",
   "execution_count": 22,
   "metadata": {
    "scrolled": true
   },
   "outputs": [
    {
     "data": {
      "text/plain": [
       "308837"
      ]
     },
     "execution_count": 22,
     "metadata": {},
     "output_type": "execute_result"
    }
   ],
   "source": [
    "len(df.car_id.unique())"
   ]
  },
  {
   "cell_type": "code",
   "execution_count": 31,
   "metadata": {},
   "outputs": [
    {
     "data": {
      "text/plain": [
       "539.9357271096242"
      ]
     },
     "execution_count": 31,
     "metadata": {},
     "output_type": "execute_result"
    }
   ],
   "source": [
    "#density of sharing bicycles in Shanghai: 540\n",
    "308837/15.42769770986269/37.07542508331029"
   ]
  },
  {
   "cell_type": "code",
   "execution_count": 140,
   "metadata": {
    "scrolled": true
   },
   "outputs": [
    {
     "name": "stdout",
     "output_type": "stream",
     "text": [
      "<class 'pandas.core.frame.DataFrame'>\n",
      "RangeIndex: 3214096 entries, 0 to 3214095\n",
      "Data columns (total 7 columns):\n",
      "orderid                int64\n",
      "userid                 int64\n",
      "bikeid                 int64\n",
      "biketype               int64\n",
      "starttime              object\n",
      "geohashed_start_loc    object\n",
      "geohashed_end_loc      object\n",
      "dtypes: int64(4), object(3)\n",
      "memory usage: 171.7+ MB\n"
     ]
    }
   ],
   "source": [
    "df1 = pd.read_csv('train.csv')\n",
    "df1.info()"
   ]
  },
  {
   "cell_type": "code",
   "execution_count": 87,
   "metadata": {
    "scrolled": true
   },
   "outputs": [
    {
     "data": {
      "text/html": [
       "<div>\n",
       "<style scoped>\n",
       "    .dataframe tbody tr th:only-of-type {\n",
       "        vertical-align: middle;\n",
       "    }\n",
       "\n",
       "    .dataframe tbody tr th {\n",
       "        vertical-align: top;\n",
       "    }\n",
       "\n",
       "    .dataframe thead th {\n",
       "        text-align: right;\n",
       "    }\n",
       "</style>\n",
       "<table border=\"1\" class=\"dataframe\">\n",
       "  <thead>\n",
       "    <tr style=\"text-align: right;\">\n",
       "      <th></th>\n",
       "      <th>orderid</th>\n",
       "      <th>userid</th>\n",
       "      <th>bikeid</th>\n",
       "      <th>biketype</th>\n",
       "      <th>starttime</th>\n",
       "      <th>geohashed_start_loc</th>\n",
       "      <th>geohashed_end_loc</th>\n",
       "    </tr>\n",
       "  </thead>\n",
       "  <tbody>\n",
       "    <tr>\n",
       "      <th>0</th>\n",
       "      <td>1893973</td>\n",
       "      <td>451147</td>\n",
       "      <td>210617</td>\n",
       "      <td>2</td>\n",
       "      <td>2017-05-14 22:16:50</td>\n",
       "      <td>wx4snhx</td>\n",
       "      <td>wx4snhj</td>\n",
       "    </tr>\n",
       "    <tr>\n",
       "      <th>1</th>\n",
       "      <td>4657992</td>\n",
       "      <td>1061133</td>\n",
       "      <td>465394</td>\n",
       "      <td>1</td>\n",
       "      <td>2017-05-14 22:16:52</td>\n",
       "      <td>wx4dr59</td>\n",
       "      <td>wx4dquz</td>\n",
       "    </tr>\n",
       "    <tr>\n",
       "      <th>2</th>\n",
       "      <td>2965085</td>\n",
       "      <td>549189</td>\n",
       "      <td>310572</td>\n",
       "      <td>1</td>\n",
       "      <td>2017-05-14 22:16:51</td>\n",
       "      <td>wx4fgur</td>\n",
       "      <td>wx4fu5n</td>\n",
       "    </tr>\n",
       "    <tr>\n",
       "      <th>3</th>\n",
       "      <td>4548579</td>\n",
       "      <td>489720</td>\n",
       "      <td>456688</td>\n",
       "      <td>1</td>\n",
       "      <td>2017-05-14 22:16:51</td>\n",
       "      <td>wx4d5r5</td>\n",
       "      <td>wx4d5r4</td>\n",
       "    </tr>\n",
       "    <tr>\n",
       "      <th>4</th>\n",
       "      <td>3936364</td>\n",
       "      <td>467449</td>\n",
       "      <td>403224</td>\n",
       "      <td>1</td>\n",
       "      <td>2017-05-14 22:16:50</td>\n",
       "      <td>wx4g27p</td>\n",
       "      <td>wx4g266</td>\n",
       "    </tr>\n",
       "  </tbody>\n",
       "</table>\n",
       "</div>"
      ],
      "text/plain": [
       "   orderid   userid  bikeid  biketype            starttime  \\\n",
       "0  1893973   451147  210617         2  2017-05-14 22:16:50   \n",
       "1  4657992  1061133  465394         1  2017-05-14 22:16:52   \n",
       "2  2965085   549189  310572         1  2017-05-14 22:16:51   \n",
       "3  4548579   489720  456688         1  2017-05-14 22:16:51   \n",
       "4  3936364   467449  403224         1  2017-05-14 22:16:50   \n",
       "\n",
       "  geohashed_start_loc geohashed_end_loc  \n",
       "0             wx4snhx           wx4snhj  \n",
       "1             wx4dr59           wx4dquz  \n",
       "2             wx4fgur           wx4fu5n  \n",
       "3             wx4d5r5           wx4d5r4  \n",
       "4             wx4g27p           wx4g266  "
      ]
     },
     "execution_count": 87,
     "metadata": {},
     "output_type": "execute_result"
    }
   ],
   "source": [
    "df1.head()"
   ]
  },
  {
   "cell_type": "code",
   "execution_count": 141,
   "metadata": {
    "scrolled": true
   },
   "outputs": [
    {
     "data": {
      "text/plain": [
       "([[40.10353088378906, 116.28959655761719],\n",
       "  [39.79042053222656, 116.32530212402344],\n",
       "  [39.88243103027344, 116.54228210449219],\n",
       "  [39.76570129394531, 116.16325378417969],\n",
       "  [39.96345520019531, 116.38847351074219]],\n",
       " [[40.10078430175781, 116.28684997558594],\n",
       "  [39.79728698730469, 116.32255554199219],\n",
       "  [39.87556457519531, 116.55189514160156],\n",
       "  [39.76570129394531, 116.16188049316406],\n",
       "  [39.95933532714844, 116.38160705566406]])"
      ]
     },
     "execution_count": 141,
     "metadata": {},
     "output_type": "execute_result"
    }
   ],
   "source": [
    "start = [[float(x[0]), float(x[1])] for x in list(map(decode_exactly, df1.geohashed_start_loc))]\n",
    "end = [[float(x[0]), float(x[1])] for x in list(map(decode_exactly, df1.geohashed_end_loc))]\n",
    "start[:5], end[:5]"
   ]
  },
  {
   "cell_type": "code",
   "execution_count": 142,
   "metadata": {
    "scrolled": true
   },
   "outputs": [],
   "source": [
    "start, end = np.array(start), np.array(end)"
   ]
  },
  {
   "cell_type": "code",
   "execution_count": 143,
   "metadata": {
    "scrolled": true
   },
   "outputs": [
    {
     "data": {
      "text/html": [
       "<div>\n",
       "<style scoped>\n",
       "    .dataframe tbody tr th:only-of-type {\n",
       "        vertical-align: middle;\n",
       "    }\n",
       "\n",
       "    .dataframe tbody tr th {\n",
       "        vertical-align: top;\n",
       "    }\n",
       "\n",
       "    .dataframe thead th {\n",
       "        text-align: right;\n",
       "    }\n",
       "</style>\n",
       "<table border=\"1\" class=\"dataframe\">\n",
       "  <thead>\n",
       "    <tr style=\"text-align: right;\">\n",
       "      <th></th>\n",
       "      <th>orderid</th>\n",
       "      <th>userid</th>\n",
       "      <th>bikeid</th>\n",
       "      <th>biketype</th>\n",
       "      <th>starttime</th>\n",
       "      <th>geohashed_start_loc</th>\n",
       "      <th>geohashed_end_loc</th>\n",
       "      <th>start_lat</th>\n",
       "      <th>start_lng</th>\n",
       "      <th>end_lat</th>\n",
       "      <th>end_lng</th>\n",
       "    </tr>\n",
       "  </thead>\n",
       "  <tbody>\n",
       "    <tr>\n",
       "      <th>0</th>\n",
       "      <td>1893973</td>\n",
       "      <td>451147</td>\n",
       "      <td>210617</td>\n",
       "      <td>2</td>\n",
       "      <td>2017-05-14 22:16:50</td>\n",
       "      <td>wx4snhx</td>\n",
       "      <td>wx4snhj</td>\n",
       "      <td>40.103531</td>\n",
       "      <td>116.289597</td>\n",
       "      <td>40.100784</td>\n",
       "      <td>116.286850</td>\n",
       "    </tr>\n",
       "    <tr>\n",
       "      <th>1</th>\n",
       "      <td>4657992</td>\n",
       "      <td>1061133</td>\n",
       "      <td>465394</td>\n",
       "      <td>1</td>\n",
       "      <td>2017-05-14 22:16:52</td>\n",
       "      <td>wx4dr59</td>\n",
       "      <td>wx4dquz</td>\n",
       "      <td>39.790421</td>\n",
       "      <td>116.325302</td>\n",
       "      <td>39.797287</td>\n",
       "      <td>116.322556</td>\n",
       "    </tr>\n",
       "    <tr>\n",
       "      <th>2</th>\n",
       "      <td>2965085</td>\n",
       "      <td>549189</td>\n",
       "      <td>310572</td>\n",
       "      <td>1</td>\n",
       "      <td>2017-05-14 22:16:51</td>\n",
       "      <td>wx4fgur</td>\n",
       "      <td>wx4fu5n</td>\n",
       "      <td>39.882431</td>\n",
       "      <td>116.542282</td>\n",
       "      <td>39.875565</td>\n",
       "      <td>116.551895</td>\n",
       "    </tr>\n",
       "    <tr>\n",
       "      <th>3</th>\n",
       "      <td>4548579</td>\n",
       "      <td>489720</td>\n",
       "      <td>456688</td>\n",
       "      <td>1</td>\n",
       "      <td>2017-05-14 22:16:51</td>\n",
       "      <td>wx4d5r5</td>\n",
       "      <td>wx4d5r4</td>\n",
       "      <td>39.765701</td>\n",
       "      <td>116.163254</td>\n",
       "      <td>39.765701</td>\n",
       "      <td>116.161880</td>\n",
       "    </tr>\n",
       "    <tr>\n",
       "      <th>4</th>\n",
       "      <td>3936364</td>\n",
       "      <td>467449</td>\n",
       "      <td>403224</td>\n",
       "      <td>1</td>\n",
       "      <td>2017-05-14 22:16:50</td>\n",
       "      <td>wx4g27p</td>\n",
       "      <td>wx4g266</td>\n",
       "      <td>39.963455</td>\n",
       "      <td>116.388474</td>\n",
       "      <td>39.959335</td>\n",
       "      <td>116.381607</td>\n",
       "    </tr>\n",
       "  </tbody>\n",
       "</table>\n",
       "</div>"
      ],
      "text/plain": [
       "   orderid   userid  bikeid  biketype            starttime  \\\n",
       "0  1893973   451147  210617         2  2017-05-14 22:16:50   \n",
       "1  4657992  1061133  465394         1  2017-05-14 22:16:52   \n",
       "2  2965085   549189  310572         1  2017-05-14 22:16:51   \n",
       "3  4548579   489720  456688         1  2017-05-14 22:16:51   \n",
       "4  3936364   467449  403224         1  2017-05-14 22:16:50   \n",
       "\n",
       "  geohashed_start_loc geohashed_end_loc  start_lat   start_lng    end_lat  \\\n",
       "0             wx4snhx           wx4snhj  40.103531  116.289597  40.100784   \n",
       "1             wx4dr59           wx4dquz  39.790421  116.325302  39.797287   \n",
       "2             wx4fgur           wx4fu5n  39.882431  116.542282  39.875565   \n",
       "3             wx4d5r5           wx4d5r4  39.765701  116.163254  39.765701   \n",
       "4             wx4g27p           wx4g266  39.963455  116.388474  39.959335   \n",
       "\n",
       "      end_lng  \n",
       "0  116.286850  \n",
       "1  116.322556  \n",
       "2  116.551895  \n",
       "3  116.161880  \n",
       "4  116.381607  "
      ]
     },
     "execution_count": 143,
     "metadata": {},
     "output_type": "execute_result"
    }
   ],
   "source": [
    "df1['start_lat'], df1['start_lng'], df1['end_lat'], df1['end_lng'] = start[:,0], start[:,1], end[:,0], end[:,1]\n",
    "df1.head()"
   ]
  },
  {
   "cell_type": "code",
   "execution_count": 144,
   "metadata": {},
   "outputs": [
    {
     "data": {
      "text/html": [
       "<div>\n",
       "<style scoped>\n",
       "    .dataframe tbody tr th:only-of-type {\n",
       "        vertical-align: middle;\n",
       "    }\n",
       "\n",
       "    .dataframe tbody tr th {\n",
       "        vertical-align: top;\n",
       "    }\n",
       "\n",
       "    .dataframe thead th {\n",
       "        text-align: right;\n",
       "    }\n",
       "</style>\n",
       "<table border=\"1\" class=\"dataframe\">\n",
       "  <thead>\n",
       "    <tr style=\"text-align: right;\">\n",
       "      <th></th>\n",
       "      <th>orderid</th>\n",
       "      <th>userid</th>\n",
       "      <th>bikeid</th>\n",
       "      <th>biketype</th>\n",
       "      <th>starttime</th>\n",
       "      <th>start_lat</th>\n",
       "      <th>start_lng</th>\n",
       "      <th>end_lat</th>\n",
       "      <th>end_lng</th>\n",
       "    </tr>\n",
       "  </thead>\n",
       "  <tbody>\n",
       "    <tr>\n",
       "      <th>0</th>\n",
       "      <td>1893973</td>\n",
       "      <td>451147</td>\n",
       "      <td>210617</td>\n",
       "      <td>2</td>\n",
       "      <td>2017-05-14 22:16:50</td>\n",
       "      <td>40.103531</td>\n",
       "      <td>116.289597</td>\n",
       "      <td>40.100784</td>\n",
       "      <td>116.286850</td>\n",
       "    </tr>\n",
       "    <tr>\n",
       "      <th>1</th>\n",
       "      <td>4657992</td>\n",
       "      <td>1061133</td>\n",
       "      <td>465394</td>\n",
       "      <td>1</td>\n",
       "      <td>2017-05-14 22:16:52</td>\n",
       "      <td>39.790421</td>\n",
       "      <td>116.325302</td>\n",
       "      <td>39.797287</td>\n",
       "      <td>116.322556</td>\n",
       "    </tr>\n",
       "    <tr>\n",
       "      <th>2</th>\n",
       "      <td>2965085</td>\n",
       "      <td>549189</td>\n",
       "      <td>310572</td>\n",
       "      <td>1</td>\n",
       "      <td>2017-05-14 22:16:51</td>\n",
       "      <td>39.882431</td>\n",
       "      <td>116.542282</td>\n",
       "      <td>39.875565</td>\n",
       "      <td>116.551895</td>\n",
       "    </tr>\n",
       "    <tr>\n",
       "      <th>3</th>\n",
       "      <td>4548579</td>\n",
       "      <td>489720</td>\n",
       "      <td>456688</td>\n",
       "      <td>1</td>\n",
       "      <td>2017-05-14 22:16:51</td>\n",
       "      <td>39.765701</td>\n",
       "      <td>116.163254</td>\n",
       "      <td>39.765701</td>\n",
       "      <td>116.161880</td>\n",
       "    </tr>\n",
       "    <tr>\n",
       "      <th>4</th>\n",
       "      <td>3936364</td>\n",
       "      <td>467449</td>\n",
       "      <td>403224</td>\n",
       "      <td>1</td>\n",
       "      <td>2017-05-14 22:16:50</td>\n",
       "      <td>39.963455</td>\n",
       "      <td>116.388474</td>\n",
       "      <td>39.959335</td>\n",
       "      <td>116.381607</td>\n",
       "    </tr>\n",
       "  </tbody>\n",
       "</table>\n",
       "</div>"
      ],
      "text/plain": [
       "   orderid   userid  bikeid  biketype            starttime  start_lat  \\\n",
       "0  1893973   451147  210617         2  2017-05-14 22:16:50  40.103531   \n",
       "1  4657992  1061133  465394         1  2017-05-14 22:16:52  39.790421   \n",
       "2  2965085   549189  310572         1  2017-05-14 22:16:51  39.882431   \n",
       "3  4548579   489720  456688         1  2017-05-14 22:16:51  39.765701   \n",
       "4  3936364   467449  403224         1  2017-05-14 22:16:50  39.963455   \n",
       "\n",
       "    start_lng    end_lat     end_lng  \n",
       "0  116.289597  40.100784  116.286850  \n",
       "1  116.325302  39.797287  116.322556  \n",
       "2  116.542282  39.875565  116.551895  \n",
       "3  116.163254  39.765701  116.161880  \n",
       "4  116.388474  39.959335  116.381607  "
      ]
     },
     "execution_count": 144,
     "metadata": {},
     "output_type": "execute_result"
    }
   ],
   "source": [
    "df1.drop(labels=['geohashed_start_loc', 'geohashed_end_loc'], axis=1, inplace=True)\n",
    "df1.head()"
   ]
  },
  {
   "cell_type": "code",
   "execution_count": 92,
   "metadata": {},
   "outputs": [
    {
     "data": {
      "text/plain": [
       "(40.65559387207031, 20.017776489257812, 122.12471008300781, 102.65556335449219)"
      ]
     },
     "execution_count": 92,
     "metadata": {},
     "output_type": "execute_result"
    }
   ],
   "source": [
    "max(df1.start_lat), min(df1.start_lat), max(df1.start_lng), min(df1.start_lng)"
   ]
  },
  {
   "cell_type": "code",
   "execution_count": 93,
   "metadata": {
    "scrolled": true
   },
   "outputs": [
    {
     "data": {
      "text/plain": [
       "<matplotlib.collections.PathCollection at 0x117318e48>"
      ]
     },
     "execution_count": 93,
     "metadata": {},
     "output_type": "execute_result"
    },
    {
     "data": {
      "image/png": "[encoded data removed]",
      "text/plain": [
       "<Figure size 432x288 with 1 Axes>"
      ]
     },
     "metadata": {
      "needs_background": "light"
     },
     "output_type": "display_data"
    }
   ],
   "source": [
    "plt.scatter(df1.start_lng, df1.start_lat)"
   ]
  },
  {
   "cell_type": "code",
   "execution_count": 94,
   "metadata": {},
   "outputs": [
    {
     "data": {
      "text/plain": [
       "436954"
      ]
     },
     "execution_count": 94,
     "metadata": {},
     "output_type": "execute_result"
    }
   ],
   "source": [
    "# 116.742814,40.062839， 116.08511,39.782626\n",
    "test = df1.loc[(df1.start_lat<40.062839)&(df1.start_lat>39.782626)&(df1.start_lng<116.742814)&(df1.start_lng>116.08511)]\n",
    "len(test.bikeid.unique())"
   ]
  },
  {
   "cell_type": "code",
   "execution_count": 95,
   "metadata": {},
   "outputs": [
    {
     "data": {
      "text/plain": [
       "<matplotlib.collections.PathCollection at 0x1174cd3c8>"
      ]
     },
     "execution_count": 95,
     "metadata": {},
     "output_type": "execute_result"
    },
    {
     "data": {
      "image/png": "[encoded data removed]",
      "text/plain": [
       "<Figure size 432x288 with 1 Axes>"
      ]
     },
     "metadata": {
      "needs_background": "light"
     },
     "output_type": "display_data"
    }
   ],
   "source": [
    "plt.scatter(test.start_lng, test.start_lat)"
   ]
  },
  {
   "cell_type": "code",
   "execution_count": 96,
   "metadata": {},
   "outputs": [
    {
     "data": {
      "text/plain": [
       "14.074118917312232"
      ]
     },
     "execution_count": 96,
     "metadata": {},
     "output_type": "execute_result"
    }
   ],
   "source": [
    "# calculate the edge length of the area, then get the density of bicycles in this area\n",
    "calcDistance(116.742814, 40.062839, 116.742814, 39.782626)"
   ]
  },
  {
   "cell_type": "code",
   "execution_count": 97,
   "metadata": {
    "scrolled": true
   },
   "outputs": [
    {
     "data": {
      "text/plain": [
       "73.31482238257593"
      ]
     },
     "execution_count": 97,
     "metadata": {},
     "output_type": "execute_result"
    }
   ],
   "source": [
    "calcDistance(116.742814, 40.062839, 116.08511, 40.062839)"
   ]
  },
  {
   "cell_type": "code",
   "execution_count": 98,
   "metadata": {},
   "outputs": [
    {
     "data": {
      "text/plain": [
       "423.4700657831928"
      ]
     },
     "execution_count": 98,
     "metadata": {},
     "output_type": "execute_result"
    }
   ],
   "source": [
    "436954/14.074118917312232/73.31482238257593"
   ]
  },
  {
   "cell_type": "code",
   "execution_count": 99,
   "metadata": {
    "scrolled": true
   },
   "outputs": [
    {
     "data": {
      "text/html": [
       "<div>\n",
       "<style scoped>\n",
       "    .dataframe tbody tr th:only-of-type {\n",
       "        vertical-align: middle;\n",
       "    }\n",
       "\n",
       "    .dataframe tbody tr th {\n",
       "        vertical-align: top;\n",
       "    }\n",
       "\n",
       "    .dataframe thead th {\n",
       "        text-align: right;\n",
       "    }\n",
       "</style>\n",
       "<table border=\"1\" class=\"dataframe\">\n",
       "  <thead>\n",
       "    <tr style=\"text-align: right;\">\n",
       "      <th></th>\n",
       "      <th>orderid</th>\n",
       "      <th>userid</th>\n",
       "      <th>bikeid</th>\n",
       "      <th>biketype</th>\n",
       "      <th>starttime</th>\n",
       "      <th>start_lat</th>\n",
       "      <th>start_lng</th>\n",
       "      <th>end_lat</th>\n",
       "      <th>end_lng</th>\n",
       "    </tr>\n",
       "  </thead>\n",
       "  <tbody>\n",
       "    <tr>\n",
       "      <th>1</th>\n",
       "      <td>4657992</td>\n",
       "      <td>1061133</td>\n",
       "      <td>465394</td>\n",
       "      <td>1</td>\n",
       "      <td>2017-05-14 22:16:52</td>\n",
       "      <td>39.790421</td>\n",
       "      <td>116.325302</td>\n",
       "      <td>39.797287</td>\n",
       "      <td>116.322556</td>\n",
       "    </tr>\n",
       "    <tr>\n",
       "      <th>2</th>\n",
       "      <td>2965085</td>\n",
       "      <td>549189</td>\n",
       "      <td>310572</td>\n",
       "      <td>1</td>\n",
       "      <td>2017-05-14 22:16:51</td>\n",
       "      <td>39.882431</td>\n",
       "      <td>116.542282</td>\n",
       "      <td>39.875565</td>\n",
       "      <td>116.551895</td>\n",
       "    </tr>\n",
       "    <tr>\n",
       "      <th>4</th>\n",
       "      <td>3936364</td>\n",
       "      <td>467449</td>\n",
       "      <td>403224</td>\n",
       "      <td>1</td>\n",
       "      <td>2017-05-14 22:16:50</td>\n",
       "      <td>39.963455</td>\n",
       "      <td>116.388474</td>\n",
       "      <td>39.959335</td>\n",
       "      <td>116.381607</td>\n",
       "    </tr>\n",
       "    <tr>\n",
       "      <th>5</th>\n",
       "      <td>5163705</td>\n",
       "      <td>917620</td>\n",
       "      <td>509044</td>\n",
       "      <td>1</td>\n",
       "      <td>2017-05-14 22:16:53</td>\n",
       "      <td>39.993668</td>\n",
       "      <td>116.470871</td>\n",
       "      <td>39.988174</td>\n",
       "      <td>116.464005</td>\n",
       "    </tr>\n",
       "    <tr>\n",
       "      <th>7</th>\n",
       "      <td>495333</td>\n",
       "      <td>185893</td>\n",
       "      <td>67441</td>\n",
       "      <td>1</td>\n",
       "      <td>2017-05-14 22:16:53</td>\n",
       "      <td>39.966202</td>\n",
       "      <td>116.277237</td>\n",
       "      <td>39.964828</td>\n",
       "      <td>116.274490</td>\n",
       "    </tr>\n",
       "  </tbody>\n",
       "</table>\n",
       "</div>"
      ],
      "text/plain": [
       "   orderid   userid  bikeid  biketype            starttime  start_lat  \\\n",
       "1  4657992  1061133  465394         1  2017-05-14 22:16:52  39.790421   \n",
       "2  2965085   549189  310572         1  2017-05-14 22:16:51  39.882431   \n",
       "4  3936364   467449  403224         1  2017-05-14 22:16:50  39.963455   \n",
       "5  5163705   917620  509044         1  2017-05-14 22:16:53  39.993668   \n",
       "7   495333   185893   67441         1  2017-05-14 22:16:53  39.966202   \n",
       "\n",
       "    start_lng    end_lat     end_lng  \n",
       "1  116.325302  39.797287  116.322556  \n",
       "2  116.542282  39.875565  116.551895  \n",
       "4  116.388474  39.959335  116.381607  \n",
       "5  116.470871  39.988174  116.464005  \n",
       "7  116.277237  39.964828  116.274490  "
      ]
     },
     "execution_count": 99,
     "metadata": {},
     "output_type": "execute_result"
    }
   ],
   "source": [
    "test.head()"
   ]
  },
  {
   "cell_type": "code",
   "execution_count": 145,
   "metadata": {
    "scrolled": false
   },
   "outputs": [
    {
     "data": {
      "text/html": [
       "<div>\n",
       "<style scoped>\n",
       "    .dataframe tbody tr th:only-of-type {\n",
       "        vertical-align: middle;\n",
       "    }\n",
       "\n",
       "    .dataframe tbody tr th {\n",
       "        vertical-align: top;\n",
       "    }\n",
       "\n",
       "    .dataframe thead th {\n",
       "        text-align: right;\n",
       "    }\n",
       "</style>\n",
       "<table border=\"1\" class=\"dataframe\">\n",
       "  <thead>\n",
       "    <tr style=\"text-align: right;\">\n",
       "      <th></th>\n",
       "      <th>orderid</th>\n",
       "      <th>userid</th>\n",
       "      <th>bikeid</th>\n",
       "      <th>biketype</th>\n",
       "      <th>starttime</th>\n",
       "      <th>start_lat</th>\n",
       "      <th>start_lng</th>\n",
       "      <th>end_lat</th>\n",
       "      <th>end_lng</th>\n",
       "      <th>distance</th>\n",
       "    </tr>\n",
       "  </thead>\n",
       "  <tbody>\n",
       "    <tr>\n",
       "      <th>1</th>\n",
       "      <td>4657992</td>\n",
       "      <td>1061133</td>\n",
       "      <td>465394</td>\n",
       "      <td>1</td>\n",
       "      <td>2017-05-14 22:16:52</td>\n",
       "      <td>39.790421</td>\n",
       "      <td>116.325302</td>\n",
       "      <td>39.797287</td>\n",
       "      <td>116.322556</td>\n",
       "      <td>0.797859</td>\n",
       "    </tr>\n",
       "    <tr>\n",
       "      <th>2</th>\n",
       "      <td>2965085</td>\n",
       "      <td>549189</td>\n",
       "      <td>310572</td>\n",
       "      <td>1</td>\n",
       "      <td>2017-05-14 22:16:51</td>\n",
       "      <td>39.882431</td>\n",
       "      <td>116.542282</td>\n",
       "      <td>39.875565</td>\n",
       "      <td>116.551895</td>\n",
       "      <td>1.121351</td>\n",
       "    </tr>\n",
       "    <tr>\n",
       "      <th>4</th>\n",
       "      <td>3936364</td>\n",
       "      <td>467449</td>\n",
       "      <td>403224</td>\n",
       "      <td>1</td>\n",
       "      <td>2017-05-14 22:16:50</td>\n",
       "      <td>39.963455</td>\n",
       "      <td>116.388474</td>\n",
       "      <td>39.959335</td>\n",
       "      <td>116.381607</td>\n",
       "      <td>0.743931</td>\n",
       "    </tr>\n",
       "    <tr>\n",
       "      <th>5</th>\n",
       "      <td>5163705</td>\n",
       "      <td>917620</td>\n",
       "      <td>509044</td>\n",
       "      <td>1</td>\n",
       "      <td>2017-05-14 22:16:53</td>\n",
       "      <td>39.993668</td>\n",
       "      <td>116.470871</td>\n",
       "      <td>39.988174</td>\n",
       "      <td>116.464005</td>\n",
       "      <td>0.846102</td>\n",
       "    </tr>\n",
       "    <tr>\n",
       "      <th>7</th>\n",
       "      <td>495333</td>\n",
       "      <td>185893</td>\n",
       "      <td>67441</td>\n",
       "      <td>1</td>\n",
       "      <td>2017-05-14 22:16:53</td>\n",
       "      <td>39.966202</td>\n",
       "      <td>116.277237</td>\n",
       "      <td>39.964828</td>\n",
       "      <td>116.274490</td>\n",
       "      <td>0.279847</td>\n",
       "    </tr>\n",
       "  </tbody>\n",
       "</table>\n",
       "</div>"
      ],
      "text/plain": [
       "   orderid   userid  bikeid  biketype            starttime  start_lat  \\\n",
       "1  4657992  1061133  465394         1  2017-05-14 22:16:52  39.790421   \n",
       "2  2965085   549189  310572         1  2017-05-14 22:16:51  39.882431   \n",
       "4  3936364   467449  403224         1  2017-05-14 22:16:50  39.963455   \n",
       "5  5163705   917620  509044         1  2017-05-14 22:16:53  39.993668   \n",
       "7   495333   185893   67441         1  2017-05-14 22:16:53  39.966202   \n",
       "\n",
       "    start_lng    end_lat     end_lng  distance  \n",
       "1  116.325302  39.797287  116.322556  0.797859  \n",
       "2  116.542282  39.875565  116.551895  1.121351  \n",
       "4  116.388474  39.959335  116.381607  0.743931  \n",
       "5  116.470871  39.988174  116.464005  0.846102  \n",
       "7  116.277237  39.964828  116.274490  0.279847  "
      ]
     },
     "execution_count": 145,
     "metadata": {},
     "output_type": "execute_result"
    }
   ],
   "source": [
    "test['distance'] = list(map(calcManhattan, test.start_lat, test.start_lng, test.end_lat, test.end_lng))\n",
    "test.head()"
   ]
  },
  {
   "cell_type": "code",
   "execution_count": 129,
   "metadata": {},
   "outputs": [],
   "source": [
    "test = test.loc[(test.distance<15)]"
   ]
  },
  {
   "cell_type": "code",
   "execution_count": 138,
   "metadata": {},
   "outputs": [],
   "source": [
    "test.distance = test.distance/2"
   ]
  },
  {
   "cell_type": "code",
   "execution_count": 130,
   "metadata": {},
   "outputs": [
    {
     "data": {
      "text/plain": [
       "14.989393258890205"
      ]
     },
     "execution_count": 130,
     "metadata": {},
     "output_type": "execute_result"
    }
   ],
   "source": [
    "test.distance.max()"
   ]
  },
  {
   "cell_type": "code",
   "execution_count": 146,
   "metadata": {},
   "outputs": [
    {
     "data": {
      "text/plain": [
       "0.8064264338729599"
      ]
     },
     "execution_count": 146,
     "metadata": {},
     "output_type": "execute_result"
    }
   ],
   "source": [
    "#Manhattan\n",
    "test.distance.mean()"
   ]
  },
  {
   "cell_type": "code",
   "execution_count": 125,
   "metadata": {
    "scrolled": true
   },
   "outputs": [
    {
     "data": {
      "text/plain": [
       "<matplotlib.axes._subplots.AxesSubplot at 0x1161df8d0>"
      ]
     },
     "execution_count": 125,
     "metadata": {},
     "output_type": "execute_result"
    },
    {
     "data": {
      "image/png": "[encoded data removed]",
      "text/plain": [
       "<Figure size 432x288 with 1 Axes>"
      ]
     },
     "metadata": {
      "needs_background": "light"
     },
     "output_type": "display_data"
    }
   ],
   "source": [
    "exp = [random.expovariate(1/1.0371615615596175) for x in range(436954)]\n",
    "exp = [x for x in exp if x > 0.8]\n",
    "sb.distplot(exp)"
   ]
  },
  {
   "cell_type": "code",
   "execution_count": 58,
   "metadata": {},
   "outputs": [
    {
     "data": {
      "text/plain": [
       "0.8137596211308362"
      ]
     },
     "execution_count": 58,
     "metadata": {},
     "output_type": "execute_result"
    }
   ],
   "source": [
    "np.average(exp)"
   ]
  },
  {
   "cell_type": "code",
   "execution_count": 147,
   "metadata": {
    "scrolled": true
   },
   "outputs": [
    {
     "data": {
      "text/plain": [
       "[]"
      ]
     },
     "execution_count": 147,
     "metadata": {},
     "output_type": "execute_result"
    },
    {
     "data": {
      "image/png": "[encoded data removed]",
      "text/plain": [
       "<Figure size 432x288 with 1 Axes>"
      ]
     },
     "metadata": {
      "needs_background": "light"
     },
     "output_type": "display_data"
    }
   ],
   "source": [
    "sb.distplot(test.distance, color='r')\n",
    "#sb.distplot(exp)\n",
    "plt.plot()"
   ]
  },
  {
   "cell_type": "code",
   "execution_count": 107,
   "metadata": {},
   "outputs": [],
   "source": [
    "?stats.kstest"
   ]
  },
  {
   "cell_type": "code",
   "execution_count": 136,
   "metadata": {},
   "outputs": [
    {
     "data": {
      "text/plain": [
       "Ks_2sampResult(statistic=0.22802504185672617, pvalue=0.0)"
      ]
     },
     "execution_count": 136,
     "metadata": {},
     "output_type": "execute_result"
    }
   ],
   "source": [
    "stats.ks_2samp(test.distance, exp)"
   ]
  },
  {
   "cell_type": "code",
   "execution_count": 123,
   "metadata": {},
   "outputs": [
    {
     "data": {
      "text/plain": [
       "KstestResult(statistic=0.37159183457895134, pvalue=0.0)"
      ]
     },
     "execution_count": 123,
     "metadata": {},
     "output_type": "execute_result"
    }
   ],
   "source": [
    "stats.kstest(test.distance, cdf='expon')"
   ]
  },
  {
   "cell_type": "code",
   "execution_count": 109,
   "metadata": {},
   "outputs": [
    {
     "data": {
      "text/plain": [
       "0.8140867129047269"
      ]
     },
     "execution_count": 109,
     "metadata": {},
     "output_type": "execute_result"
    }
   ],
   "source": [
    "test.distance.mean()"
   ]
  },
  {
   "cell_type": "code",
   "execution_count": 103,
   "metadata": {},
   "outputs": [
    {
     "data": {
      "text/plain": [
       "3.2563468516189076"
      ]
     },
     "execution_count": 103,
     "metadata": {},
     "output_type": "execute_result"
    }
   ],
   "source": [
    "#average time of each trip\n",
    "test.distance.mean() * 4"
   ]
  },
  {
   "cell_type": "code",
   "execution_count": 148,
   "metadata": {},
   "outputs": [
    {
     "data": {
      "text/plain": [
       "236.55574830468382"
      ]
     },
     "execution_count": 148,
     "metadata": {},
     "output_type": "execute_result"
    }
   ],
   "source": [
    "1500000/6341"
   ]
  }
 ],
 "metadata": {
  "kernelspec": {
   "display_name": "Python 3",
   "language": "python",
   "name": "python3"
  },
  "language_info": {
   "codemirror_mode": {
    "name": "ipython",
    "version": 3
   },
   "file_extension": ".py",
   "mimetype": "text/x-python",
   "name": "python",
   "nbconvert_exporter": "python",
   "pygments_lexer": "ipython3",
   "version": "3.7.1"
  }
 },
 "nbformat": 4,
 "nbformat_minor": 2
}
