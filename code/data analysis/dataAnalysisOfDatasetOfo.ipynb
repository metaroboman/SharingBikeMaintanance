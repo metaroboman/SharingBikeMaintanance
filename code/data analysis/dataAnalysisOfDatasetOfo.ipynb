{
 "cells": [
  {
   "cell_type": "code",
   "execution_count": 14,
   "metadata": {},
   "outputs": [],
   "source": [
    "import numpy as np\n",
    "import pandas as pd\n",
    "import pyecharts as pe\n",
    "import matplotlib.pyplot as plt"
   ]
  },
  {
   "cell_type": "code",
   "execution_count": 22,
   "metadata": {},
   "outputs": [
    {
     "data": {
      "text/html": [
       "<div>\n",
       "<style scoped>\n",
       "    .dataframe tbody tr th:only-of-type {\n",
       "        vertical-align: middle;\n",
       "    }\n",
       "\n",
       "    .dataframe tbody tr th {\n",
       "        vertical-align: top;\n",
       "    }\n",
       "\n",
       "    .dataframe thead th {\n",
       "        text-align: right;\n",
       "    }\n",
       "</style>\n",
       "<table border=\"1\" class=\"dataframe\">\n",
       "  <thead>\n",
       "    <tr style=\"text-align: right;\">\n",
       "      <th></th>\n",
       "      <th>0</th>\n",
       "      <th>1</th>\n",
       "      <th>2</th>\n",
       "      <th>3</th>\n",
       "      <th>4</th>\n",
       "      <th>5</th>\n",
       "      <th>6</th>\n",
       "    </tr>\n",
       "  </thead>\n",
       "  <tbody>\n",
       "    <tr>\n",
       "      <th>0</th>\n",
       "      <td>100076952</td>\n",
       "      <td>0100076952_3555495_11701820</td>\n",
       "      <td>35.554955</td>\n",
       "      <td>117.018204</td>\n",
       "      <td>2017-6-7 04:32:02</td>\n",
       "      <td>2017-6-7 08:30:34</td>\n",
       "      <td>1</td>\n",
       "    </tr>\n",
       "    <tr>\n",
       "      <th>1</th>\n",
       "      <td>5316539468</td>\n",
       "      <td>5316539468_3560724_11703593</td>\n",
       "      <td>35.607245</td>\n",
       "      <td>117.035931</td>\n",
       "      <td>2017-6-8 08:42:43</td>\n",
       "      <td>2017-6-8 12:41:34</td>\n",
       "      <td>1</td>\n",
       "    </tr>\n",
       "    <tr>\n",
       "      <th>2</th>\n",
       "      <td>100236684</td>\n",
       "      <td>0100236684_3557194_11697951</td>\n",
       "      <td>35.571947</td>\n",
       "      <td>116.979518</td>\n",
       "      <td>2017-6-8 08:51:58</td>\n",
       "      <td>2017-6-8 10:58:18</td>\n",
       "      <td>1</td>\n",
       "    </tr>\n",
       "    <tr>\n",
       "      <th>3</th>\n",
       "      <td>100226493</td>\n",
       "      <td>0100226493_3557195_11697950</td>\n",
       "      <td>35.571953</td>\n",
       "      <td>116.979509</td>\n",
       "      <td>2017-6-8 08:58:06</td>\n",
       "      <td>2017-6-8 09:54:41</td>\n",
       "      <td>1</td>\n",
       "    </tr>\n",
       "    <tr>\n",
       "      <th>4</th>\n",
       "      <td>100240777</td>\n",
       "      <td>0100240777_3558884_11694715</td>\n",
       "      <td>35.588850</td>\n",
       "      <td>116.947152</td>\n",
       "      <td>2017-6-8 08:48:16</td>\n",
       "      <td>2017-6-8 20:46:19</td>\n",
       "      <td>1</td>\n",
       "    </tr>\n",
       "  </tbody>\n",
       "</table>\n",
       "</div>"
      ],
      "text/plain": [
       "            0                            1          2           3  \\\n",
       "0   100076952  0100076952_3555495_11701820  35.554955  117.018204   \n",
       "1  5316539468  5316539468_3560724_11703593  35.607245  117.035931   \n",
       "2   100236684  0100236684_3557194_11697951  35.571947  116.979518   \n",
       "3   100226493  0100226493_3557195_11697950  35.571953  116.979509   \n",
       "4   100240777  0100240777_3558884_11694715  35.588850  116.947152   \n",
       "\n",
       "                   4                  5  6  \n",
       "0  2017-6-7 04:32:02  2017-6-7 08:30:34  1  \n",
       "1  2017-6-8 08:42:43  2017-6-8 12:41:34  1  \n",
       "2  2017-6-8 08:51:58  2017-6-8 10:58:18  1  \n",
       "3  2017-6-8 08:58:06  2017-6-8 09:54:41  1  \n",
       "4  2017-6-8 08:48:16  2017-6-8 20:46:19  1  "
      ]
     },
     "execution_count": 22,
     "metadata": {},
     "output_type": "execute_result"
    }
   ],
   "source": [
    "data5 = pd.read_csv('/Users/valarian/Downloads/单车数据/曲阜数据/5-26 to 6-13/qufu_526_613_utc.csv', names=list(range(7)))\n",
    "data5.head()"
   ]
  },
  {
   "cell_type": "code",
   "execution_count": 18,
   "metadata": {
    "scrolled": true
   },
   "outputs": [
    {
     "data": {
      "text/html": [
       "<div>\n",
       "<style scoped>\n",
       "    .dataframe tbody tr th:only-of-type {\n",
       "        vertical-align: middle;\n",
       "    }\n",
       "\n",
       "    .dataframe tbody tr th {\n",
       "        vertical-align: top;\n",
       "    }\n",
       "\n",
       "    .dataframe thead th {\n",
       "        text-align: right;\n",
       "    }\n",
       "</style>\n",
       "<table border=\"1\" class=\"dataframe\">\n",
       "  <thead>\n",
       "    <tr style=\"text-align: right;\">\n",
       "      <th></th>\n",
       "      <th>bid</th>\n",
       "      <th>lat</th>\n",
       "      <th>lng</th>\n",
       "      <th>time</th>\n",
       "      <th>day</th>\n",
       "      <th>hour</th>\n",
       "    </tr>\n",
       "  </thead>\n",
       "  <tbody>\n",
       "    <tr>\n",
       "      <th>0</th>\n",
       "      <td>100076952</td>\n",
       "      <td>35.554955</td>\n",
       "      <td>117.018204</td>\n",
       "      <td>2017-6-7 04:32:02</td>\n",
       "      <td>7</td>\n",
       "      <td>4</td>\n",
       "    </tr>\n",
       "    <tr>\n",
       "      <th>1</th>\n",
       "      <td>5316539468</td>\n",
       "      <td>35.607245</td>\n",
       "      <td>117.035931</td>\n",
       "      <td>2017-6-8 08:42:43</td>\n",
       "      <td>8</td>\n",
       "      <td>8</td>\n",
       "    </tr>\n",
       "    <tr>\n",
       "      <th>2</th>\n",
       "      <td>100236684</td>\n",
       "      <td>35.571947</td>\n",
       "      <td>116.979518</td>\n",
       "      <td>2017-6-8 08:51:58</td>\n",
       "      <td>8</td>\n",
       "      <td>8</td>\n",
       "    </tr>\n",
       "    <tr>\n",
       "      <th>3</th>\n",
       "      <td>100226493</td>\n",
       "      <td>35.571953</td>\n",
       "      <td>116.979509</td>\n",
       "      <td>2017-6-8 08:58:06</td>\n",
       "      <td>8</td>\n",
       "      <td>8</td>\n",
       "    </tr>\n",
       "    <tr>\n",
       "      <th>4</th>\n",
       "      <td>100240777</td>\n",
       "      <td>35.588850</td>\n",
       "      <td>116.947152</td>\n",
       "      <td>2017-6-8 08:48:16</td>\n",
       "      <td>8</td>\n",
       "      <td>8</td>\n",
       "    </tr>\n",
       "  </tbody>\n",
       "</table>\n",
       "</div>"
      ],
      "text/plain": [
       "          bid        lat         lng               time  day  hour\n",
       "0   100076952  35.554955  117.018204  2017-6-7 04:32:02    7     4\n",
       "1  5316539468  35.607245  117.035931  2017-6-8 08:42:43    8     8\n",
       "2   100236684  35.571947  116.979518  2017-6-8 08:51:58    8     8\n",
       "3   100226493  35.571953  116.979509  2017-6-8 08:58:06    8     8\n",
       "4   100240777  35.588850  116.947152  2017-6-8 08:48:16    8     8"
      ]
     },
     "execution_count": 18,
     "metadata": {},
     "output_type": "execute_result"
    }
   ],
   "source": [
    "data = pd.read_csv('/Users/valarian/Downloads/单车数据/曲阜数据/5-26 to 6-13/qufu_526_613_utc.csv', \\\n",
    "                    names = ['bid', 'lat', 'lng', 'time'], usecols = [0, 2, 3, 4])\n",
    "data3 = pd.read_csv('/Users/valarian/Downloads/单车数据/曲阜数据/6-13/qufu_613_utc.csv', \\\n",
    "                    names = ['bid', 'lat', 'lng', 'time'], usecols = [0, 2, 3, 4])\n",
    "data4 = pd.read_csv('/Users/valarian/Downloads/单车数据/曲阜数据/6-13 ~ 7-3/qufu_613_703_utc.csv', \\\n",
    "                    names = ['bid', 'lat', 'lng', 'time'], usecols = [0, 2, 3, 4])\n",
    "data2 = pd.concat([data, data3, data4], axis = 0, ignore_index=True)\n",
    "data2.head()\n",
    "day = pd.Series([int(d.split('-')[-1].split(' ')[0]) for d in data2.time])\n",
    "data2['day'] = day\n",
    "hour = pd.Series([int(h[-8:-6]) for h in data2.time])\n",
    "data2['hour'] = hour\n",
    "data2.head()"
   ]
  },
  {
   "cell_type": "code",
   "execution_count": 27,
   "metadata": {
    "scrolled": true
   },
   "outputs": [
    {
     "data": {
      "text/plain": [
       "bid     1632478\n",
       "lat     1632478\n",
       "lng     1632478\n",
       "time    1632478\n",
       "day     1632478\n",
       "hour    1632478\n",
       "dtype: int64"
      ]
     },
     "execution_count": 27,
     "metadata": {},
     "output_type": "execute_result"
    }
   ],
   "source": [
    "class a:\n",
    "    self.temp = 0\n",
    "    def b(self, c: int) -> int:\n",
    "        if c == 0:\n",
    "            return c\n",
    "        else: \n",
    "            self.temp = self.temp + c\n",
    "            b(c-1)\n",
    "            \n",
    "if __name__ == '__init__':\n",
    "    a()"
   ]
  },
  {
   "cell_type": "code",
   "execution_count": 6,
   "metadata": {},
   "outputs": [
    {
     "data": {
      "text/plain": [
       "{2}"
      ]
     },
     "execution_count": 6,
     "metadata": {},
     "output_type": "execute_result"
    }
   ],
   "source": [
    "set([1,2]) - set([1])"
   ]
  },
  {
   "cell_type": "code",
   "execution_count": 28,
   "metadata": {},
   "outputs": [
    {
     "data": {
      "text/plain": [
       "5208"
      ]
     },
     "execution_count": 28,
     "metadata": {},
     "output_type": "execute_result"
    }
   ],
   "source": [
    "len(set(data2.bid))"
   ]
  },
  {
   "cell_type": "code",
   "execution_count": 29,
   "metadata": {},
   "outputs": [
    {
     "data": {
      "text/plain": [
       "bid     0\n",
       "lat     0\n",
       "lng     0\n",
       "time    0\n",
       "day     0\n",
       "hour    0\n",
       "dtype: int64"
      ]
     },
     "execution_count": 29,
     "metadata": {},
     "output_type": "execute_result"
    }
   ],
   "source": [
    "data2.isnull().sum()"
   ]
  },
  {
   "cell_type": "code",
   "execution_count": 30,
   "metadata": {},
   "outputs": [
    {
     "data": {
      "text/plain": [
       "0"
      ]
     },
     "execution_count": 30,
     "metadata": {},
     "output_type": "execute_result"
    }
   ],
   "source": [
    "data.duplicated().sum()\n",
    "#data.drop_duplicates()"
   ]
  },
  {
   "cell_type": "code",
   "execution_count": 31,
   "metadata": {},
   "outputs": [
    {
     "name": "stdout",
     "output_type": "stream",
     "text": [
      "2017-5-26 07:09:15 2017-7-2 15:59:56\n"
     ]
    }
   ],
   "source": [
    "print(min(data2.time), max(data2.time))"
   ]
  },
  {
   "cell_type": "code",
   "execution_count": 9,
   "metadata": {
    "scrolled": true
   },
   "outputs": [
    {
     "data": {
      "text/plain": [
       "7988862"
      ]
     },
     "execution_count": 9,
     "metadata": {},
     "output_type": "execute_result"
    }
   ],
   "source": [
    "data2.bid.count()"
   ]
  },
  {
   "cell_type": "code",
   "execution_count": 32,
   "metadata": {},
   "outputs": [
    {
     "data": {
      "text/html": [
       "<div>\n",
       "<style scoped>\n",
       "    .dataframe tbody tr th:only-of-type {\n",
       "        vertical-align: middle;\n",
       "    }\n",
       "\n",
       "    .dataframe tbody tr th {\n",
       "        vertical-align: top;\n",
       "    }\n",
       "\n",
       "    .dataframe thead th {\n",
       "        text-align: right;\n",
       "    }\n",
       "</style>\n",
       "<table border=\"1\" class=\"dataframe\">\n",
       "  <thead>\n",
       "    <tr style=\"text-align: right;\">\n",
       "      <th></th>\n",
       "      <th>bid</th>\n",
       "      <th>lat</th>\n",
       "      <th>lng</th>\n",
       "      <th>day</th>\n",
       "      <th>hour</th>\n",
       "    </tr>\n",
       "  </thead>\n",
       "  <tbody>\n",
       "    <tr>\n",
       "      <th>count</th>\n",
       "      <td>1.632478e+06</td>\n",
       "      <td>1.632478e+06</td>\n",
       "      <td>1.632478e+06</td>\n",
       "      <td>1.632478e+06</td>\n",
       "      <td>1.632478e+06</td>\n",
       "    </tr>\n",
       "    <tr>\n",
       "      <th>mean</th>\n",
       "      <td>1.863922e+09</td>\n",
       "      <td>3.558554e+01</td>\n",
       "      <td>1.169868e+02</td>\n",
       "      <td>1.745037e+01</td>\n",
       "      <td>1.088046e+01</td>\n",
       "    </tr>\n",
       "    <tr>\n",
       "      <th>std</th>\n",
       "      <td>2.467961e+09</td>\n",
       "      <td>1.332446e-02</td>\n",
       "      <td>2.329074e-02</td>\n",
       "      <td>8.779412e+00</td>\n",
       "      <td>6.667955e+00</td>\n",
       "    </tr>\n",
       "    <tr>\n",
       "      <th>min</th>\n",
       "      <td>1.000722e+08</td>\n",
       "      <td>3.554997e+01</td>\n",
       "      <td>1.169402e+02</td>\n",
       "      <td>1.000000e+00</td>\n",
       "      <td>0.000000e+00</td>\n",
       "    </tr>\n",
       "    <tr>\n",
       "      <th>25%</th>\n",
       "      <td>1.002281e+08</td>\n",
       "      <td>3.557994e+01</td>\n",
       "      <td>1.169707e+02</td>\n",
       "      <td>1.200000e+01</td>\n",
       "      <td>5.000000e+00</td>\n",
       "    </tr>\n",
       "    <tr>\n",
       "      <th>50%</th>\n",
       "      <td>1.002397e+08</td>\n",
       "      <td>3.558719e+01</td>\n",
       "      <td>1.169879e+02</td>\n",
       "      <td>1.800000e+01</td>\n",
       "      <td>1.100000e+01</td>\n",
       "    </tr>\n",
       "    <tr>\n",
       "      <th>75%</th>\n",
       "      <td>5.316521e+09</td>\n",
       "      <td>3.559427e+01</td>\n",
       "      <td>1.169989e+02</td>\n",
       "      <td>2.500000e+01</td>\n",
       "      <td>1.600000e+01</td>\n",
       "    </tr>\n",
       "    <tr>\n",
       "      <th>max</th>\n",
       "      <td>1.000000e+10</td>\n",
       "      <td>3.562437e+01</td>\n",
       "      <td>1.170725e+02</td>\n",
       "      <td>3.100000e+01</td>\n",
       "      <td>2.300000e+01</td>\n",
       "    </tr>\n",
       "  </tbody>\n",
       "</table>\n",
       "</div>"
      ],
      "text/plain": [
       "                bid           lat           lng           day          hour\n",
       "count  1.632478e+06  1.632478e+06  1.632478e+06  1.632478e+06  1.632478e+06\n",
       "mean   1.863922e+09  3.558554e+01  1.169868e+02  1.745037e+01  1.088046e+01\n",
       "std    2.467961e+09  1.332446e-02  2.329074e-02  8.779412e+00  6.667955e+00\n",
       "min    1.000722e+08  3.554997e+01  1.169402e+02  1.000000e+00  0.000000e+00\n",
       "25%    1.002281e+08  3.557994e+01  1.169707e+02  1.200000e+01  5.000000e+00\n",
       "50%    1.002397e+08  3.558719e+01  1.169879e+02  1.800000e+01  1.100000e+01\n",
       "75%    5.316521e+09  3.559427e+01  1.169989e+02  2.500000e+01  1.600000e+01\n",
       "max    1.000000e+10  3.562437e+01  1.170725e+02  3.100000e+01  2.300000e+01"
      ]
     },
     "execution_count": 32,
     "metadata": {},
     "output_type": "execute_result"
    }
   ],
   "source": [
    "data2.describe()"
   ]
  },
  {
   "cell_type": "code",
   "execution_count": 33,
   "metadata": {
    "scrolled": true
   },
   "outputs": [
    {
     "name": "stdout",
     "output_type": "stream",
     "text": [
      "117.072540433963 116.940193363205 35.6243726119818 35.549965720608895\n"
     ]
    }
   ],
   "source": [
    "print(max(data2.lng), min(data2.lng), max(data2.lat), min(data2.lat))"
   ]
  },
  {
   "cell_type": "code",
   "execution_count": 7,
   "metadata": {},
   "outputs": [
    {
     "ename": "SyntaxError",
     "evalue": "invalid syntax (<ipython-input-7-df3d00ee0707>, line 1)",
     "output_type": "error",
     "traceback": [
      "\u001b[0;36m  File \u001b[0;32m\"<ipython-input-7-df3d00ee0707>\"\u001b[0;36m, line \u001b[0;32m1\u001b[0m\n\u001b[0;31m    day = pd.Series([int(d.split('-')[-1].split(' ')[0]) for d in data.5])\u001b[0m\n\u001b[0m                                                                       ^\u001b[0m\n\u001b[0;31mSyntaxError\u001b[0m\u001b[0;31m:\u001b[0m invalid syntax\n"
     ]
    }
   ],
   "source": [
    "day = pd.Series([int(d.split('-')[-1].split(' ')[0]) for d in data.5])\n",
    "data['day'] = day\n",
    "hour = pd.Series([int(h[-8:-6]) for h in data.time])\n",
    "data['hour'] = hour"
   ]
  },
  {
   "cell_type": "code",
   "execution_count": 34,
   "metadata": {},
   "outputs": [
    {
     "data": {
      "text/html": [
       "<script>\n",
       "    require.config({\n",
       "        paths: {\n",
       "            'echarts':'http://assets.pyecharts.org/assets/echarts.min'\n",
       "        }\n",
       "    });\n",
       "</script>\n",
       "\n",
       "    <div id=\"e2305034e0f1405da7759b0dc0a2e17d\" style=\"width:900px; height:500px;\"></div>\n",
       "\n",
       "\n",
       "<script>\n",
       "    require(['echarts'], function(echarts) {\n",
       "        var chart_e2305034e0f1405da7759b0dc0a2e17d = echarts.init(\n",
       "            document.getElementById('e2305034e0f1405da7759b0dc0a2e17d'), 'white', {renderer: 'canvas'});\n",
       "        var option_e2305034e0f1405da7759b0dc0a2e17d = {\n",
       "    \"color\": [\n",
       "        \"#c23531\",\n",
       "        \"#2f4554\",\n",
       "        \"#61a0a8\",\n",
       "        \"#d48265\",\n",
       "        \"#749f83\",\n",
       "        \"#ca8622\",\n",
       "        \"#bda29a\",\n",
       "        \"#6e7074\",\n",
       "        \"#546570\",\n",
       "        \"#c4ccd3\",\n",
       "        \"#f05b72\",\n",
       "        \"#ef5b9c\",\n",
       "        \"#f47920\",\n",
       "        \"#905a3d\",\n",
       "        \"#fab27b\",\n",
       "        \"#2a5caa\",\n",
       "        \"#444693\",\n",
       "        \"#726930\",\n",
       "        \"#b2d235\",\n",
       "        \"#6d8346\",\n",
       "        \"#ac6767\",\n",
       "        \"#1d953f\",\n",
       "        \"#6950a1\",\n",
       "        \"#918597\"\n",
       "    ],\n",
       "    \"series\": [\n",
       "        {\n",
       "            \"type\": \"line\",\n",
       "            \"name\": \"\\u8bb0\\u5f55\\u6570\",\n",
       "            \"symbolSize\": 4,\n",
       "            \"showSymbol\": false,\n",
       "            \"smooth\": false,\n",
       "            \"step\": false,\n",
       "            \"data\": [\n",
       "                [\n",
       "                    0,\n",
       "                    7031.142857142857\n",
       "                ],\n",
       "                [\n",
       "                    1,\n",
       "                    4554.0\n",
       "                ],\n",
       "                [\n",
       "                    2,\n",
       "                    3595.785714285714\n",
       "                ],\n",
       "                [\n",
       "                    3,\n",
       "                    3776.6428571428573\n",
       "                ],\n",
       "                [\n",
       "                    4,\n",
       "                    7253.785714285715\n",
       "                ],\n",
       "                [\n",
       "                    5,\n",
       "                    4692.214285714285\n",
       "                ],\n",
       "                [\n",
       "                    6,\n",
       "                    3591.0\n",
       "                ],\n",
       "                [\n",
       "                    7,\n",
       "                    4594.0\n",
       "                ],\n",
       "                [\n",
       "                    8,\n",
       "                    8229.357142857143\n",
       "                ],\n",
       "                [\n",
       "                    9,\n",
       "                    4821.857142857143\n",
       "                ],\n",
       "                [\n",
       "                    10,\n",
       "                    4308.642857142857\n",
       "                ],\n",
       "                [\n",
       "                    11,\n",
       "                    4132.785714285715\n",
       "                ],\n",
       "                [\n",
       "                    12,\n",
       "                    7892.428571428572\n",
       "                ],\n",
       "                [\n",
       "                    13,\n",
       "                    5780.571428571428\n",
       "                ],\n",
       "                [\n",
       "                    14,\n",
       "                    4034.285714285714\n",
       "                ],\n",
       "                [\n",
       "                    15,\n",
       "                    3466.714285714286\n",
       "                ],\n",
       "                [\n",
       "                    16,\n",
       "                    7438.642857142857\n",
       "                ],\n",
       "                [\n",
       "                    17,\n",
       "                    4684.214285714285\n",
       "                ],\n",
       "                [\n",
       "                    18,\n",
       "                    3141.285714285714\n",
       "                ],\n",
       "                [\n",
       "                    19,\n",
       "                    2925.1428571428573\n",
       "                ],\n",
       "                [\n",
       "                    20,\n",
       "                    6850.357142857143\n",
       "                ],\n",
       "                [\n",
       "                    21,\n",
       "                    3630.285714285714\n",
       "                ],\n",
       "                [\n",
       "                    22,\n",
       "                    2813.0714285714284\n",
       "                ],\n",
       "                [\n",
       "                    23,\n",
       "                    3367.3571428571427\n",
       "                ]\n",
       "            ],\n",
       "            \"label\": {\n",
       "                \"show\": true,\n",
       "                \"position\": \"top\",\n",
       "                \"fontSize\": 12\n",
       "            },\n",
       "            \"lineStyle\": {\n",
       "                \"width\": 1,\n",
       "                \"opacity\": 1,\n",
       "                \"curveness\": 0,\n",
       "                \"type\": \"solid\"\n",
       "            },\n",
       "            \"areaStyle\": {\n",
       "                \"opacity\": 0\n",
       "            }\n",
       "        }\n",
       "    ],\n",
       "    \"legend\": [\n",
       "        {\n",
       "            \"data\": [\n",
       "                \"\\u8bb0\\u5f55\\u6570\"\n",
       "            ],\n",
       "            \"selected\": {\n",
       "                \"\\u8bb0\\u5f55\\u6570\": true\n",
       "            },\n",
       "            \"show\": true\n",
       "        }\n",
       "    ],\n",
       "    \"tooltip\": {\n",
       "        \"trigger\": \"item\",\n",
       "        \"triggerOn\": \"mousemove|click\",\n",
       "        \"axisPointer\": {\n",
       "            \"type\": \"line\"\n",
       "        },\n",
       "        \"textStyle\": {\n",
       "            \"fontSize\": 14\n",
       "        },\n",
       "        \"borderWidth\": 0\n",
       "    },\n",
       "    \"yAxis\": [\n",
       "        {\n",
       "            \"show\": true,\n",
       "            \"scale\": false,\n",
       "            \"nameLocation\": \"end\",\n",
       "            \"nameGap\": 15,\n",
       "            \"gridIndex\": 0,\n",
       "            \"inverse\": false,\n",
       "            \"splitLine\": {\n",
       "                \"show\": false,\n",
       "                \"lineStyle\": {\n",
       "                    \"width\": 1,\n",
       "                    \"opacity\": 1,\n",
       "                    \"curveness\": 0,\n",
       "                    \"type\": \"solid\"\n",
       "                }\n",
       "            },\n",
       "            \"axisLine\": {\n",
       "                \"lineStyle\": {\n",
       "                    \"width\": 1,\n",
       "                    \"opacity\": 1,\n",
       "                    \"curveness\": 0,\n",
       "                    \"type\": \"solid\"\n",
       "                }\n",
       "            }\n",
       "        }\n",
       "    ],\n",
       "    \"xAxis\": [\n",
       "        {\n",
       "            \"show\": true,\n",
       "            \"scale\": false,\n",
       "            \"nameLocation\": \"end\",\n",
       "            \"nameGap\": 15,\n",
       "            \"gridIndex\": 0,\n",
       "            \"inverse\": false,\n",
       "            \"splitLine\": {\n",
       "                \"show\": false,\n",
       "                \"lineStyle\": {\n",
       "                    \"width\": 1,\n",
       "                    \"opacity\": 1,\n",
       "                    \"curveness\": 0,\n",
       "                    \"type\": \"solid\"\n",
       "                }\n",
       "            },\n",
       "            \"axisLine\": {\n",
       "                \"lineStyle\": {\n",
       "                    \"width\": 1,\n",
       "                    \"opacity\": 1,\n",
       "                    \"curveness\": 0,\n",
       "                    \"type\": \"solid\"\n",
       "                }\n",
       "            },\n",
       "            \"data\": [\n",
       "                0,\n",
       "                1,\n",
       "                2,\n",
       "                3,\n",
       "                4,\n",
       "                5,\n",
       "                6,\n",
       "                7,\n",
       "                8,\n",
       "                9,\n",
       "                10,\n",
       "                11,\n",
       "                12,\n",
       "                13,\n",
       "                14,\n",
       "                15,\n",
       "                16,\n",
       "                17,\n",
       "                18,\n",
       "                19,\n",
       "                20,\n",
       "                21,\n",
       "                22,\n",
       "                23\n",
       "            ]\n",
       "        }\n",
       "    ],\n",
       "    \"title\": [\n",
       "        {\n",
       "            \"text\": \"\\u5e73\\u5747\\u6bcf\\u65e5\\u6bcf\\u4e2a\\u5c0f\\u65f6\\u95f4\\u9694\\u6570\\u636e\\u91cf\\u7edf\\u8ba1\"\n",
       "        }\n",
       "    ]\n",
       "};\n",
       "        chart_e2305034e0f1405da7759b0dc0a2e17d.setOption(option_e2305034e0f1405da7759b0dc0a2e17d);\n",
       "    });\n",
       "</script>\n"
      ],
      "text/plain": [
       "<pyecharts.render.display.HTML at 0x11dba66d8>"
      ]
     },
     "execution_count": 34,
     "metadata": {},
     "output_type": "execute_result"
    }
   ],
   "source": [
    "line = (\n",
    "    pe.charts.Line()\n",
    "    .add_xaxis(list(range(24)))\n",
    "    .add_yaxis('记录数', [data2[data2.hour == x].count()[0]/14 for x in range(24)], is_symbol_show = False)\n",
    "    .set_global_opts(\n",
    "        title_opts=pe.options.TitleOpts(title=\"平均每日每个小时间隔数据量统计\"),\n",
    "    )\n",
    ")\n",
    "line.render_notebook()"
   ]
  },
  {
   "cell_type": "code",
   "execution_count": 36,
   "metadata": {},
   "outputs": [
    {
     "data": {
      "text/plain": [
       "<pandas.core.groupby.generic.DataFrameGroupBy object at 0x11b4ce208>"
      ]
     },
     "execution_count": 36,
     "metadata": {},
     "output_type": "execute_result"
    }
   ],
   "source": [
    "gp = data2.groupby('bid')\n",
    "gp"
   ]
  },
  {
   "cell_type": "code",
   "execution_count": 5,
   "metadata": {
    "scrolled": true
   },
   "outputs": [
    {
     "data": {
      "text/plain": [
       "bid\n",
       "0013N    25\n",
       "0018B    28\n",
       "001Qn    12\n",
       "001xe     2\n",
       "005lb     9\n",
       "Name: lat, dtype: int64"
      ]
     },
     "execution_count": 5,
     "metadata": {},
     "output_type": "execute_result"
    }
   ],
   "source": [
    "gp.count().lat.head()"
   ]
  },
  {
   "cell_type": "code",
   "execution_count": 8,
   "metadata": {},
   "outputs": [
    {
     "data": {
      "text/plain": [
       "1064"
      ]
     },
     "execution_count": 8,
     "metadata": {},
     "output_type": "execute_result"
    }
   ],
   "source": [
    "max(gp.count().lat)"
   ]
  },
  {
   "cell_type": "code",
   "execution_count": 37,
   "metadata": {},
   "outputs": [
    {
     "data": {
      "text/plain": [
       "<matplotlib.axes._subplots.AxesSubplot at 0x11b4b89b0>"
      ]
     },
     "execution_count": 37,
     "metadata": {},
     "output_type": "execute_result"
    },
    {
     "data": {
      "image/png": "[encoded data removed]",
      "text/plain": [
       "<Figure size 432x288 with 1 Axes>"
      ]
     },
     "metadata": {
      "needs_background": "light"
     },
     "output_type": "display_data"
    }
   ],
   "source": [
    "df = pd.DataFrame(gp.count().lat)\n",
    "df.plot(kind = 'kde', xlim = (0,max(gp.count().lat)+1), legend = False)"
   ]
  },
  {
   "cell_type": "code",
   "execution_count": null,
   "metadata": {},
   "outputs": [],
   "source": [
    "import pandas as pd\n",
    "import matplotlib.pyplot as plt\n",
    "import descartes\n",
    "import geopandas as gpd\n",
    "from shapely.geometry import Point, Polygon\n",
    "\n",
    "%matplotlib inline\n",
    "city_map = gpd.read_file('/Users/valarian/SJTU/SJTU/Data/shanghaitown/shanghaitown.shp')\n",
    "geometry = [Point(xy) for xy in zip(data2.lng, data2.lat)]\n",
    "geo_df = gpd.GeoDataFrame(data2, geometry = geometry)\n",
    "#fig, ax = plt.subplots(10,3,figsize = (15,60))\n",
    "days = set(geo_df['day'])\n",
    "for i in days:\n",
    "    fig, ax = plt.subplots(1,1,figsize = (4,4))\n",
    "    city_map.plot(ax = ax, alpha = 0.4)#, alpha = 0.4, color = 'grey')\n",
    "    geo_df[geo_df['day'] == i].plot(ax =ax, markersize = 0.2)\n",
    "    ax.set_title('day of month '+str(i))\n",
    "    plt.savefig('./qufu/eachday' + str(i) +'.png')\n",
    "\n",
    "# city_map.plot(ax = ax[i], alpha = 0.4)#, alpha = 0.4, color = 'grey')\n",
    "# geo_df[geo_df['hour'] == i].plot(ax =ax[i], markersize = 0.2)\n",
    "# ax[i].set_title(i+1)\n",
    "\n"
   ]
  }
 ],
 "metadata": {
  "kernelspec": {
   "display_name": "Python 3",
   "language": "python",
   "name": "python3"
  },
  "language_info": {
   "codemirror_mode": {
    "name": "ipython",
    "version": 3
   },
   "file_extension": ".py",
   "mimetype": "text/x-python",
   "name": "python",
   "nbconvert_exporter": "python",
   "pygments_lexer": "ipython3",
   "version": "3.7.1"
  }
 },
 "nbformat": 4,
 "nbformat_minor": 2
}
