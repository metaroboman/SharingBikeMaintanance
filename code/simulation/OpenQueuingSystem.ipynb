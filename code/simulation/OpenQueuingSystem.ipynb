{
 "cells": [
  {
   "cell_type": "markdown",
   "metadata": {},
   "source": [
    "这应该是最开始的版本"
   ]
  },
  {
   "cell_type": "code",
   "execution_count": 1,
   "metadata": {},
   "outputs": [],
   "source": [
    "import numpy as np\n",
    "import pandas as pd\n",
    "from numba import jit\n",
    "import seaborn as sb"
   ]
  },
  {
   "cell_type": "code",
   "execution_count": 93,
   "metadata": {},
   "outputs": [
    {
     "data": {
      "text/plain": [
       "0.2572840801170508"
      ]
     },
     "execution_count": 93,
     "metadata": {},
     "output_type": "execute_result"
    }
   ],
   "source": [
    "np.random.exponential(1, 1)[0]"
   ]
  },
  {
   "cell_type": "code",
   "execution_count": 159,
   "metadata": {},
   "outputs": [
    {
     "data": {
      "text/plain": [
       "True"
      ]
     },
     "execution_count": 159,
     "metadata": {},
     "output_type": "execute_result"
    }
   ],
   "source": [
    "class C():\n",
    "    def __init__(self):\n",
    "        head.next = E(30)\n",
    "        tail = head.next\n",
    "class E():\n",
    "    def __init__(self, t):\n",
    "        self.time = t\n",
    "        self.next = None\n",
    "\n",
    "        \n",
    "if __name__ == '__main__':\n",
    "    head = E(0)\n",
    "    tail = head\n",
    "    c = C()\n",
    "    isinstance(c, C)\n"
   ]
  },
  {
   "cell_type": "code",
   "execution_count": 156,
   "metadata": {},
   "outputs": [
    {
     "data": {
      "text/plain": [
       "'\\n    Simulate the sharing bikes running between blocks\\n\\n    System parameters definition:\\n                 T : system  clock by minutes\\n             event : events in the system\\n     _trans_matrix : possibility matrix of normal bikes transisting from one block to another\\n              _miu : arriving rate for each blocks\\n           _lambda : parameters of the distribution for the time for a bike riden to another\\n       _life_clock : life duration for a just repaired bike\\n    _time_interval : dicision time interval\\n           _blocks : list for all the blocks\\n'"
      ]
     },
     "execution_count": 156,
     "metadata": {},
     "output_type": "execute_result"
    },
    {
     "data": {
      "text/plain": [
       "\"\\n    'N: number of bikes\\n    'B: number of blocks\\n    \""
      ]
     },
     "execution_count": 156,
     "metadata": {},
     "output_type": "execute_result"
    },
    {
     "name": "stdout",
     "output_type": "stream",
     "text": [
      "99399 50842 99400 50480\n"
     ]
    }
   ],
   "source": [
    "'''\n",
    "    Simulate the sharing bikes running between blocks\n",
    "\n",
    "    System parameters definition:\n",
    "                 T : system  clock by minutes\n",
    "             event : events in the system\n",
    "     _trans_matrix : possibility matrix of normal bikes transisting from one block to another\n",
    "              _miu : arriving rate for each blocks\n",
    "           _lambda : parameters of the distribution for the time for a bike riden to another\n",
    "       _life_clock : life duration for a just repaired bike\n",
    "    _time_interval : dicision time interval\n",
    "           _blocks : list for all the blocks\n",
    "'''\n",
    "\n",
    "import numpy as np\n",
    "import pandas as pd\n",
    "from numba import jit\n",
    "\n",
    "class Block():\n",
    "    def __init__(self, name, event, bikes):\n",
    "        self.name = name\n",
    "        self.normal_bike = bikes  # 好车FIFO\n",
    "        self.arriving_bike = {}  # 正在来到这个block的车的list\n",
    "        self.customer_arriving = np.random.exponential(_miu[self.name - 1], 1)[0]\n",
    "        self.add_event(event, self.customer_arriving, self.name, 1, -1)\n",
    "        self.broken_bike = {}  # 坏车一视同仁\n",
    "        self.served, self.lost = 0, 0\n",
    "\n",
    "    def add_event(self, event, time, dest, typeofa, bike):\n",
    "        if event.time == 0:\n",
    "            event.next = Event(self.customer_arriving, self.name, 1, -1)\n",
    "        elif time <= event.time:\n",
    "            event.next = Event(event.time, event.obj, event.type, event.bike)\n",
    "            event.time, event.obj, event.type, event.bike = time, dest, typeofa, bike\n",
    "        else:\n",
    "            temp = event\n",
    "            while temp:\n",
    "                if temp.next == None:\n",
    "                    temp.next = Event(time, dest, typeofa, bike)\n",
    "                    break\n",
    "                elif time <= temp.next.time:\n",
    "                    _ = temp.next\n",
    "                    temp.next = Event(time, dest, typeofa, bike)\n",
    "                    temp.next.next = _\n",
    "                    break\n",
    "                else:\n",
    "                    temp = temp.next\n",
    "\n",
    "    def execute(self, event, time, activity, bike):\n",
    "        if activity == 1:\n",
    "            if self.normal_bike:\n",
    "                # bike和block served += 1\n",
    "                self.normal_bike[0].served += 1\n",
    "                self.served += 1\n",
    "                # 生成下一个到达，并添加至Event类中\n",
    "                self.customer_arriving = np.random.exponential(_miu[self.name - 1], 1)[0] + time\n",
    "                #print('customer arriving: ' + str(self.customer_arriving))\n",
    "                self.add_event(event, self.customer_arriving, self.name, 1, -1)\n",
    "                # 转移到什么地方去，调用对方instance添加一个arriving事件\n",
    "                destination = [1, 2][2 - self.name]\n",
    "                t = time + np.random.exponential(_lambda[self.name - 1], 1)[0]\n",
    "                #print(t)\n",
    "                self.add_event(event, t, destination, 2, self.normal_bike[0])\n",
    "                # 车出库，从list中删掉\n",
    "                blocks[destination].arriving_bike[self.normal_bike[0].id] = self.normal_bike[0]\n",
    "                del self.normal_bike[0]\n",
    "            else:\n",
    "                # lose这个顾客\n",
    "                self.lost += 1\n",
    "                # 生成下一个到达事件\n",
    "                self.customer_arriving = np.random.exponential(_miu[self.name - 1], 1)[0] + time\n",
    "                self.add_event(event, self.customer_arriving, self.name, 1, -1)\n",
    "        else:\n",
    "            # 那就是有一辆车进入\n",
    "            # normal list要添加\n",
    "            #print(event.time, event.obj, event.type, event.bike)\n",
    "            self.normal_bike.append(bike)\n",
    "            del self.arriving_bike[bike.id]\n",
    "\n",
    "\n",
    "class Bike():\n",
    "    def __init__(self, name):\n",
    "        self.id = name\n",
    "        self.state = True  # True for normal, False for broken\n",
    "        # self.t = T #上一次处理这个bike的时间\n",
    "        self.served, self.lost = 0, 0\n",
    "\n",
    "    def deteriorate(self):  # 每次维修完成后按一定参数的指数分布生成其使用寿命，也即下次损坏的的时间\n",
    "        self.death_time = T + np.random.exponential(_life_clock, 1)[0]\n",
    "        \n",
    "    def execute(self, event):\n",
    "        \n",
    "\n",
    "\n",
    "class Event():\n",
    "    def __init__(self, time, objct, activity, bike):\n",
    "        '''\n",
    "        type:1 for customer arriving, 2 for bike arriving\n",
    "        '''\n",
    "        self.time = time\n",
    "        self.obj = objct\n",
    "        self.type = activity\n",
    "        self.bike = bike\n",
    "        self.next = None\n",
    "\n",
    "\n",
    "if __name__ == '__main__':\n",
    "\n",
    "    '''\n",
    "    'N: number of bikes\n",
    "    'B: number of blocks\n",
    "    '''\n",
    "    T = 0  # 系统时钟\n",
    "    event = Event(0, -1, -1, -1)\n",
    "    _trans_matrix = [1, 1]  # 转移概率矩阵\n",
    "    _miu = [2, 2]  # 每个block中乘客的到达速率\n",
    "    _lambda = [5, 5]  # block之间骑行时间参数矩阵\n",
    "    _life_clock = 2000  # 刚修好的一辆车寿命服从的指数分布的参数\n",
    "    _time_interval = 30\n",
    "    blocks = {}\n",
    "\n",
    "    b1 = [Bike(1), Bike(2), Bike(3)]\n",
    "    blocks[1] = Block(1, event, b1)\n",
    "    event = event.next\n",
    "    b2 = [Bike(4), Bike(5), Bike(6)]\n",
    "    blocks[2] = Block(2, event, b2)\n",
    "\n",
    "    N, B = 10, 2\n",
    "\n",
    "    _periods = 10000\n",
    "\n",
    "    for i in range(_periods):\n",
    "        T += _time_interval\n",
    "        while event.time <= T:\n",
    "            if isinstance(event.obj, Bike):\n",
    "                event.obj.execute(event)\n",
    "            else:\n",
    "                blocks[event.obj].execute(event, event.time, event.type, event.bike)\n",
    "            # temp = event\n",
    "            # while event:\n",
    "            #     print(event.time, event.obj, event.type, event.bike)\n",
    "            #     event = event.next\n",
    "            # print('\\n\\n')\n",
    "            # event = temp\n",
    "            event = event.next\n",
    "            if not event: break\n",
    "    print(blocks[1].served, blocks[1].lost, blocks[2].served, blocks[2].lost)"
   ]
  }
 ],
 "metadata": {
  "kernelspec": {
   "display_name": "Python 3",
   "language": "python",
   "name": "python3"
  },
  "language_info": {
   "codemirror_mode": {
    "name": "ipython",
    "version": 3
   },
   "file_extension": ".py",
   "mimetype": "text/x-python",
   "name": "python",
   "nbconvert_exporter": "python",
   "pygments_lexer": "ipython3",
   "version": "3.7.1"
  }
 },
 "nbformat": 4,
 "nbformat_minor": 2
}
