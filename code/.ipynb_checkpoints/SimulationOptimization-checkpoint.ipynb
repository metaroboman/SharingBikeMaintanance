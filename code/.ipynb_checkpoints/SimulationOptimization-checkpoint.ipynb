{
 "cells": [
  {
   "cell_type": "code",
   "execution_count": 1,
   "metadata": {},
   "outputs": [],
   "source": [
    "import numpy as np\n",
    "import pandas as pd\n",
    "import numba as nb\n",
    "import matplotlib.pyplot as plt\n",
    "import seaborn as sb"
   ]
  },
  {
   "cell_type": "code",
   "execution_count": 4,
   "metadata": {},
   "outputs": [
    {
     "data": {
      "text/plain": [
       "[1, 2]"
      ]
     },
     "execution_count": 4,
     "metadata": {},
     "output_type": "execute_result"
    }
   ],
   "source": [
    "a = [1,2,3]\n",
    "b = a.pop()\n",
    "a"
   ]
  },
  {
   "cell_type": "code",
   "execution_count": 129,
   "metadata": {},
   "outputs": [
    {
     "data": {
      "text/plain": [
       "6"
      ]
     },
     "execution_count": 129,
     "metadata": {},
     "output_type": "execute_result"
    }
   ],
   "source": [
    "target = np.random.choice(np.arange(10), 1)\n",
    "target[0]"
   ]
  },
  {
   "cell_type": "code",
   "execution_count": 127,
   "metadata": {},
   "outputs": [],
   "source": [
    "if target == 5:\n",
    "    print('proper')"
   ]
  },
  {
   "cell_type": "code",
   "execution_count": 158,
   "metadata": {},
   "outputs": [
    {
     "name": "stdout",
     "output_type": "stream",
     "text": [
      "CPU times: user 1.59 s, sys: 18.7 ms, total: 1.61 s\n",
      "Wall time: 1.72 s\n"
     ]
    }
   ],
   "source": [
    "# 程序仿真部分\n",
    "\n",
    "import numpy as np\n",
    "import pandas as pd\n",
    "from numba import jit\n",
    "\n",
    "class Area():\n",
    "    def __init__(self, n, a_id):\n",
    "        self.a_id = a_id\n",
    "        self.normal_bike = n\n",
    "        self.broken_bike = 0\n",
    "\n",
    "    def move(self):\n",
    "        self.normal_bike -= 1\n",
    "        self.broken_bike += 1\n",
    "\n",
    "\n",
    "def binaryInsert(target, events):\n",
    "    for event in events:\n",
    "        if event >= target[-1]:\n",
    "            target.append(event)\n",
    "        else:\n",
    "            l, mid, r = 0, int(len(target) / 2), len(target) - 1\n",
    "            while 1:\n",
    "                if r - l == 1:\n",
    "                    target.insert(r, event)\n",
    "                    break\n",
    "                else:\n",
    "                    if event > target[mid]:\n",
    "                        l = mid\n",
    "                        mid = int((r + l) / 2)\n",
    "                    else:\n",
    "                        r = mid\n",
    "                        mid = int((r + l) / 2)\n",
    "\n",
    "\n",
    "def simulate(N, R, A, Q, P, t_limit):\n",
    "    '''\n",
    "    N: initial number of bikes in the network\n",
    "    R: rates of arriving and departing for each node\n",
    "    A: number of Areas\n",
    "    Q: matrix of tansitition probability\n",
    "    P: policy of dealing with broken bikes\n",
    "\n",
    "    T: system clock\n",
    "    scheduler: stack of upcoming events,[t, event_type, area], 1 for customer arrival, 2 for bike arrival\n",
    "    state: dateframe of system states\n",
    "    \n",
    "    stat: record of system state parameters\n",
    "    '''\n",
    "\n",
    "    # initiate\n",
    "    T = 0\n",
    "\n",
    "    # initiation of instances of Area and scheduler\n",
    "    scheduler = []\n",
    "    a = []\n",
    "    for i in range(A):\n",
    "        a.append(Area(N / A, i))\n",
    "        scheduler.append([np.random.exponential(1/R.loc[i].cus_arr), 1, a[i]])\n",
    "    scheduler.sort()\n",
    "\n",
    "    # system running\n",
    "    while T < t_limit:\n",
    "\n",
    "        T = scheduler[0][0]\n",
    "        if scheduler[0][1] == 1:\n",
    "            if scheduler[0][2].normal_bike == 0:\n",
    "                # this is a loss\n",
    "                event = [T + np.random.exponential(1/R.loc[scheduler[0][2].a_id].cus_arr), 1, scheduler[0][2]]\n",
    "                binaryInsert(scheduler, [event])\n",
    "            else:\n",
    "                target = np.random.choice(np.arange(A+1), 1, p=Q[scheduler[0][2].a_id])\n",
    "                if target == A:\n",
    "                    scheduler[0][2].move()\n",
    "                    continue\n",
    "                else:\n",
    "                    scheduler[0][2].normal_bike -= 1\n",
    "                    event1 = [T + np.random.exponential(1/R.loc[scheduler[0][2].a_id].ride), 2, a[target[0]]]\n",
    "                    event2 = [T + np.random.exponential(1/R.loc[scheduler[0][2].a_id].cus_arr), 1, scheduler[0][2]]\n",
    "                    binaryInsert(scheduler, [event1, event2])\n",
    "        else:\n",
    "            scheduler[0][2].normal_bike += 1\n",
    "        scheduler.pop(0)\n",
    "\n",
    "\n",
    "if __name__ == '__main__':\n",
    "    N = 10\n",
    "    A = 2\n",
    "    R = pd.DataFrame({'cus_arr': [5] * A, 'ride': [10] * A}, index=range(A))\n",
    "    Q = [np.random.rand(A+1) for i in range(A)]\n",
    "    Q = [q / sum(q) for q in Q]\n",
    "    P = 0\n",
    "    time_limit = 1000\n",
    "\n",
    "    simulate(N, R, A, Q, P, time_limit)\n"
   ]
  },
  {
   "cell_type": "code",
   "execution_count": 132,
   "metadata": {},
   "outputs": [
    {
     "data": {
      "text/plain": [
       "[[1, 3], [2, 3], [3, 3], [5, 3], [7, 3], [9, 3], [10, 1]]"
      ]
     },
     "execution_count": 132,
     "metadata": {},
     "output_type": "execute_result"
    }
   ],
   "source": [
    "def binaryInsert(target, events):\n",
    "    for event in events:\n",
    "        if event >= target[-1]:\n",
    "            target.append(event)\n",
    "        else:\n",
    "            l, mid, r = 0, int(len(target) / 2), len(target) - 1\n",
    "            while 1:\n",
    "                if r - l == 1:\n",
    "                    target.insert(r, event)\n",
    "                    break\n",
    "                else:\n",
    "                    if event > target[mid]:\n",
    "                        l = mid\n",
    "                        mid = int((r + l) / 2)\n",
    "                    else:\n",
    "                        r = mid\n",
    "                        mid = int((r + l) / 2)\n",
    "    return target\n",
    "                    \n",
    "binaryInsert([[1,3],[3,3],[5,3],[7,3],[9,3]], [[10,1], [2,3]])"
   ]
  },
  {
   "cell_type": "code",
   "execution_count": 29,
   "metadata": {},
   "outputs": [
    {
     "data": {
      "text/plain": [
       "10.0"
      ]
     },
     "execution_count": 29,
     "metadata": {},
     "output_type": "execute_result"
    }
   ],
   "source": [
    "a[8].normal_bike"
   ]
  }
 ],
 "metadata": {
  "kernelspec": {
   "display_name": "Python 3",
   "language": "python",
   "name": "python3"
  },
  "language_info": {
   "codemirror_mode": {
    "name": "ipython",
    "version": 3
   },
   "file_extension": ".py",
   "mimetype": "text/x-python",
   "name": "python",
   "nbconvert_exporter": "python",
   "pygments_lexer": "ipython3",
   "version": "3.7.1"
  }
 },
 "nbformat": 4,
 "nbformat_minor": 2
}
