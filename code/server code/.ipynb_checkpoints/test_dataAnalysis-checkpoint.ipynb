{
 "cells": [
  {
   "cell_type": "code",
   "execution_count": 3,
   "metadata": {},
   "outputs": [],
   "source": [
    "import numpy as np\n",
    "import pandas as pd\n",
    "\n",
    "import matplotlib.pyplot as plt\n"
   ]
  },
  {
   "cell_type": "code",
   "execution_count": null,
   "metadata": {
    "scrolled": false
   },
   "outputs": [],
   "source": [
    "#第一个拿到的数据集\n",
    "data = pd.read_csv('bike.csv')\n",
    "data.head()\n"
   ]
  },
  {
   "cell_type": "code",
   "execution_count": 14,
   "metadata": {},
   "outputs": [
    {
     "data": {
      "text/plain": [
       "str"
      ]
     },
     "execution_count": 14,
     "metadata": {},
     "output_type": "execute_result"
    }
   ],
   "source": [
    "type(data.time[0])"
   ]
  },
  {
   "cell_type": "code",
   "execution_count": null,
   "metadata": {
    "scrolled": false
   },
   "outputs": [],
   "source": [
    "data2 = pd.read_csv('/Users/valarian/Downloads/单车数据/曲阜数据/6-13/qufu_613_utc.csv', \\\n",
    "                    names = ['bid', 'lat', 'lng', 'time'], usecols = [0, 2, 3, 4])\n",
    "data2.head()"
   ]
  },
  {
   "cell_type": "code",
   "execution_count": 18,
   "metadata": {},
   "outputs": [],
   "source": [
    "d = pd.Series([int(x.split('-')[-1].split(' ')[0]) for x in data2.time])\n",
    "data2['day'] = d\n"
   ]
  },
  {
   "cell_type": "code",
   "execution_count": null,
   "metadata": {},
   "outputs": [],
   "source": [
    "import pandas as pd\n",
    "import matplotlib.pyplot as plt\n",
    "import descartes\n",
    "import geopandas as gpd\n",
    "from shapely.geometry import Point, Polygon\n",
    "\n",
    "%matplotlib inline\n",
    "city_map = gpd.read_file('/Users/valarian/SJTU/SJTU/Data/shanghaitown/shanghaitown.shp')\n",
    "geometry = [Point(xy) for xy in zip(data2.lng, data2.lat)]\n",
    "geo_df = gpd.GeoDataFrame(data2, geometry = geometry)\n",
    "#fig, ax = plt.subplots(10,3,figsize = (15,60))\n",
    "days = set(geo_df['day'])\n",
    "for i in days:\n",
    "    fig, ax = plt.subplots(1,1,figsize = (2,2))\n",
    "    city_map.plot(ax = ax, alpha = 0.4)#, alpha = 0.4, color = 'grey')\n",
    "    geo_df[geo_df['day'] == i].plot(ax =ax, markersize = 0.2)\n",
    "    ax.set_title('day of month '+str(i))\n",
    "\n",
    "\n",
    "# city_map.plot(ax = ax[i], alpha = 0.4)#, alpha = 0.4, color = 'grey')\n",
    "# geo_df[geo_df['hour'] == i].plot(ax =ax[i], markersize = 0.2)\n",
    "# ax[i].set_title(i+1)\n",
    "plt.savefig('eachday.png')\n",
    "plt.legend(prop={'size':15})"
   ]
  },
  {
   "cell_type": "code",
   "execution_count": 35,
   "metadata": {
    "scrolled": true
   },
   "outputs": [
    {
     "data": {
      "text/html": [
       "<div>\n",
       "<style scoped>\n",
       "    .dataframe tbody tr th:only-of-type {\n",
       "        vertical-align: middle;\n",
       "    }\n",
       "\n",
       "    .dataframe tbody tr th {\n",
       "        vertical-align: top;\n",
       "    }\n",
       "\n",
       "    .dataframe thead th {\n",
       "        text-align: right;\n",
       "    }\n",
       "</style>\n",
       "<table border=\"1\" class=\"dataframe\">\n",
       "  <thead>\n",
       "    <tr style=\"text-align: right;\">\n",
       "      <th></th>\n",
       "      <th>id</th>\n",
       "      <th>unique_id</th>\n",
       "      <th>car_id</th>\n",
       "      <th>bike_type</th>\n",
       "      <th>time</th>\n",
       "      <th>lat</th>\n",
       "      <th>lng</th>\n",
       "      <th>center</th>\n",
       "      <th>distance</th>\n",
       "      <th>createdAt</th>\n",
       "      <th>updatedAt</th>\n",
       "    </tr>\n",
       "  </thead>\n",
       "  <tbody>\n",
       "    <tr>\n",
       "      <th>1</th>\n",
       "      <td>171060</td>\n",
       "      <td>0216787333_3123060_12133998</td>\n",
       "      <td>216787333</td>\n",
       "      <td>1</td>\n",
       "      <td>2017-08-12 16:15:42.647204+08</td>\n",
       "      <td>31.230604</td>\n",
       "      <td>121.339990</td>\n",
       "      <td>0101000020E6100000F7DC1F65C2555E40830FACD8083B...</td>\n",
       "      <td>55</td>\n",
       "      <td>2017-08-12 13:46:13.251187+08</td>\n",
       "      <td>2017-08-12 16:15:42.647204+08</td>\n",
       "    </tr>\n",
       "    <tr>\n",
       "      <th>367890</th>\n",
       "      <td>1587650</td>\n",
       "      <td>0216787333_3123069_12133997</td>\n",
       "      <td>216787333</td>\n",
       "      <td>1</td>\n",
       "      <td>2017-08-12 15:58:08.865352+08</td>\n",
       "      <td>31.230697</td>\n",
       "      <td>121.339972</td>\n",
       "      <td>0101000020E6100000EBAB7D19C2555E40496219F10E3B...</td>\n",
       "      <td>56</td>\n",
       "      <td>2017-08-12 15:30:25.468982+08</td>\n",
       "      <td>2017-08-12 15:58:08.865352+08</td>\n",
       "    </tr>\n",
       "    <tr>\n",
       "      <th>953233</th>\n",
       "      <td>5647440</td>\n",
       "      <td>0216787333_3123061_12133971</td>\n",
       "      <td>216787333</td>\n",
       "      <td>1</td>\n",
       "      <td>2017-08-13 01:34:42.023951+08</td>\n",
       "      <td>31.230618</td>\n",
       "      <td>121.339710</td>\n",
       "      <td>0101000020E61000006FA049D0BD555E40AC4894CB093B...</td>\n",
       "      <td>81</td>\n",
       "      <td>2017-08-12 21:29:16.136673+08</td>\n",
       "      <td>2017-08-13 01:34:42.023951+08</td>\n",
       "    </tr>\n",
       "  </tbody>\n",
       "</table>\n",
       "</div>"
      ],
      "text/plain": [
       "             id                    unique_id     car_id  bike_type  \\\n",
       "1        171060  0216787333_3123060_12133998  216787333          1   \n",
       "367890  1587650  0216787333_3123069_12133997  216787333          1   \n",
       "953233  5647440  0216787333_3123061_12133971  216787333          1   \n",
       "\n",
       "                                 time        lat         lng  \\\n",
       "1       2017-08-12 16:15:42.647204+08  31.230604  121.339990   \n",
       "367890  2017-08-12 15:58:08.865352+08  31.230697  121.339972   \n",
       "953233  2017-08-13 01:34:42.023951+08  31.230618  121.339710   \n",
       "\n",
       "                                                   center  distance  \\\n",
       "1       0101000020E6100000F7DC1F65C2555E40830FACD8083B...        55   \n",
       "367890  0101000020E6100000EBAB7D19C2555E40496219F10E3B...        56   \n",
       "953233  0101000020E61000006FA049D0BD555E40AC4894CB093B...        81   \n",
       "\n",
       "                            createdAt                      updatedAt  \n",
       "1       2017-08-12 13:46:13.251187+08  2017-08-12 16:15:42.647204+08  \n",
       "367890  2017-08-12 15:30:25.468982+08  2017-08-12 15:58:08.865352+08  \n",
       "953233  2017-08-12 21:29:16.136673+08  2017-08-13 01:34:42.023951+08  "
      ]
     },
     "execution_count": 35,
     "metadata": {},
     "output_type": "execute_result"
    }
   ],
   "source": [
    "single = data[data.car_id == 216787333].sort_values(by = 'createdAt')\n",
    "single"
   ]
  },
  {
   "cell_type": "code",
   "execution_count": 14,
   "metadata": {},
   "outputs": [
    {
     "data": {
      "text/plain": [
       "<matplotlib.axes._subplots.AxesSubplot at 0x1a1ab91c88>"
      ]
     },
     "execution_count": 14,
     "metadata": {},
     "output_type": "execute_result"
    },
    {
     "data": {
      "image/png": "[encoded data removed]",
      "text/plain": [
       "<Figure size 432x288 with 1 Axes>"
      ]
     },
     "metadata": {
      "needs_background": "light"
     },
     "output_type": "display_data"
    }
   ],
   "source": [
    "data.bike_type.plot(kind = 'kde')"
   ]
  },
  {
   "cell_type": "code",
   "execution_count": null,
   "metadata": {
    "scrolled": true
   },
   "outputs": [],
   "source": [
    "import random\n",
    "\n",
    "from pyecharts import options as opts\n",
    "from pyecharts.charts import HeatMap\n",
    "from pyecharts.render import make_snapshot\n",
    "\n",
    "def heatmap_base() -> HeatMap:\n",
    "    value = [[i, j, random.randint(0, 50)] for i in range(24) for j in range(7)]\n",
    "    print(value)\n",
    "    c = (\n",
    "        HeatMap()\n",
    "        .add_xaxis(list(range(24)))\n",
    "        .add_yaxis(\"series0\", list(range(7)), value)\n",
    "        .set_global_opts(\n",
    "            title_opts=opts.TitleOpts(title=\"HeatMap-基本示例\"),\n",
    "            visualmap_opts=opts.VisualMapOpts(),\n",
    "        )\n",
    "    )\n",
    "    return c\n",
    "graph = heatmap_base()\n",
    "graph.render_notebook()\n",
    "make_snapshot(graph.render(), 'graph.png', browser = 'Safari')"
   ]
  },
  {
   "cell_type": "code",
   "execution_count": null,
   "metadata": {},
   "outputs": [],
   "source": [
    "# coding=utf-8\n",
    "import random\n",
    "\n",
    "from example.commons import Collector, Faker\n",
    "from pyecharts import options as opts\n",
    "from pyecharts.charts import HeatMap, Page\n",
    "\n",
    "C = Collector()\n",
    "\n",
    "\n",
    "@C.funcs\n",
    "def heatmap_base() -> HeatMap:\n",
    "    value = [[i, j, random.randint(0, 50)] for i in range(24) for j in range(7)]\n",
    "    c = (\n",
    "        HeatMap()\n",
    "        .add_xaxis(Faker.clock)\n",
    "        .add_yaxis(\"series0\", Faker.week, value)\n",
    "        .set_global_opts(\n",
    "            title_opts=opts.TitleOpts(title=\"HeatMap-基本示例\"),\n",
    "            visualmap_opts=opts.VisualMapOpts(),\n",
    "        )\n",
    "    )\n",
    "    return c\n",
    "\n",
    "\n",
    "Page().add(*[fn() for fn, _ in C.charts]).render()"
   ]
  },
  {
   "cell_type": "code",
   "execution_count": null,
   "metadata": {
    "scrolled": true
   },
   "outputs": [],
   "source": [
    "from pyecharts.charts import Bar\n",
    "from pyecharts.render import make_snapshot\n",
    "\n",
    "bar = (\n",
    "    Bar()\n",
    "    .add_xaxis([\"衬衫\", \"羊毛衫\", \"雪纺衫\", \"裤子\", \"高跟鞋\", \"袜子\"])\n",
    "    .add_yaxis(\"商家A\", [5, 20, 36, 10, 75, 90])\n",
    ")\n",
    "bar.render_notebook()\n"
   ]
  },
  {
   "cell_type": "code",
   "execution_count": null,
   "metadata": {},
   "outputs": [],
   "source": [
    "#测试"
   ]
  }
 ],
 "metadata": {
  "kernelspec": {
   "display_name": "Python 3",
   "language": "python",
   "name": "python3"
  },
  "language_info": {
   "codemirror_mode": {
    "name": "ipython",
    "version": 3
   },
   "file_extension": ".py",
   "mimetype": "text/x-python",
   "name": "python",
   "nbconvert_exporter": "python",
   "pygments_lexer": "ipython3",
   "version": "3.7.1"
  }
 },
 "nbformat": 4,
 "nbformat_minor": 2
}
