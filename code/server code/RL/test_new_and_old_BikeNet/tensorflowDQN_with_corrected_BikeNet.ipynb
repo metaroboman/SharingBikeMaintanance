{
 "cells": [
  {
   "cell_type": "code",
   "execution_count": null,
   "metadata": {},
   "outputs": [],
   "source": [
    "#tensorflow different parameterss"
   ]
  },
  {
   "cell_type": "code",
   "execution_count": 1,
   "metadata": {},
   "outputs": [
    {
     "name": "stderr",
     "output_type": "stream",
     "text": [
      "100%|██████████████████████████████████████| 3000/3000 [44:43<00:00,  1.13it/s]\n"
     ]
    },
    {
     "name": "stdout",
     "output_type": "stream",
     "text": [
      "learning over\n"
     ]
    }
   ],
   "source": [
    "\"\"\"\n",
    "This part of code is the Deep Q Network (DQN) brain.\n",
    "view the tensorboard picture about this DQN structure on: https://morvanzhou.github.io/tutorials/machine-learning/reinforcement-learning/4-3-DQN3/#modification\n",
    "View more on my tutorial page: https://morvanzhou.github.io/tutorials/\n",
    "Using:\n",
    "Tensorflow: r1.2\n",
    "\"\"\"\n",
    "\n",
    "import numpy as np\n",
    "import tensorflow as tf\n",
    "from tqdm import tqdm\n",
    "from numba import jit\n",
    "import random\n",
    "import heapq\n",
    "\n",
    "np.random.seed(1)\n",
    "tf.set_random_seed(1)\n",
    "\n",
    "\n",
    "# Deep Q Network off-policy\n",
    "class DeepQNetwork:\n",
    "    def __init__(\n",
    "            self,\n",
    "            n_actions,\n",
    "            n_features,\n",
    "            learning_rate=0.01,\n",
    "            reward_decay=0.9,\n",
    "            e_greedy=0.9,\n",
    "            replace_target_iter=300,\n",
    "            memory_size=500,\n",
    "            batch_size=32,\n",
    "            e_greedy_increment=None,\n",
    "            output_graph=False,\n",
    "    ):\n",
    "        self.n_actions = n_actions\n",
    "        self.n_features = n_features\n",
    "        self.lr = learning_rate\n",
    "        self.gamma = reward_decay\n",
    "        self.epsilon_max = e_greedy\n",
    "        self.replace_target_iter = replace_target_iter\n",
    "        self.memory_size = memory_size\n",
    "        self.batch_size = batch_size\n",
    "        self.epsilon_increment = e_greedy_increment\n",
    "        self.epsilon = 0 if e_greedy_increment is not None else self.epsilon_max\n",
    "\n",
    "        # total learning step\n",
    "        self.learn_step_counter = 0\n",
    "\n",
    "        # initialize zero memory [s, a, r, s_]\n",
    "        self.memory = np.zeros((self.memory_size, n_features * 2 + 2))\n",
    "\n",
    "        # consist of [target_net, evaluate_net]\n",
    "        self._build_net()\n",
    "\n",
    "        t_params = tf.get_collection(tf.GraphKeys.GLOBAL_VARIABLES, scope='target_net')\n",
    "        e_params = tf.get_collection(tf.GraphKeys.GLOBAL_VARIABLES, scope='eval_net')\n",
    "\n",
    "        with tf.variable_scope('hard_replacement'):\n",
    "            self.target_replace_op = [tf.assign(t, e) for t, e in zip(t_params, e_params)]\n",
    "\n",
    "        self.sess = tf.Session()\n",
    "        saver = tf.train.Saver()\n",
    "        saver.restore(self.sess, \"C:/Rebalancing/data/result/tfmodel/MyModel\")\n",
    "\n",
    "        if output_graph:\n",
    "            # $ tensorboard --logdir=logs\n",
    "            tf.summary.FileWriter(\"logs/\", self.sess.graph)\n",
    "\n",
    "        #self.sess.run(tf.global_variables_initializer())\n",
    "        self.cost_his = []\n",
    "\n",
    "    def _build_net(self):\n",
    "        # ------------------ all inputs ------------------------\n",
    "        self.s = tf.placeholder(tf.float32, [None, self.n_features], name='s')  # input State\n",
    "        self.s_ = tf.placeholder(tf.float32, [None, self.n_features], name='s_')  # input Next State\n",
    "        self.r = tf.placeholder(tf.float32, [None, ], name='r')  # input Reward\n",
    "        self.a = tf.placeholder(tf.int32, [None, ], name='a')  # input Action\n",
    "\n",
    "        w_initializer, b_initializer = tf.random_normal_initializer(0., 0.3), tf.constant_initializer(0.1)\n",
    "\n",
    "        # ------------------ build evaluate_net ------------------\n",
    "        with tf.variable_scope('eval_net'):\n",
    "            e1 = tf.layers.dense(self.s, 20, tf.nn.relu, kernel_initializer=w_initializer,\n",
    "                                 bias_initializer=b_initializer, name='e1')\n",
    "            self.q_eval = tf.layers.dense(e1, self.n_actions, kernel_initializer=w_initializer,\n",
    "                                          bias_initializer=b_initializer, name='q')\n",
    "\n",
    "        # ------------------ build target_net ------------------\n",
    "        with tf.variable_scope('target_net'):\n",
    "            t1 = tf.layers.dense(self.s_, 20, tf.nn.relu, kernel_initializer=w_initializer,\n",
    "                                 bias_initializer=b_initializer, name='t1')\n",
    "            self.q_next = tf.layers.dense(t1, self.n_actions, kernel_initializer=w_initializer,\n",
    "                                          bias_initializer=b_initializer, name='t2')\n",
    "\n",
    "        with tf.variable_scope('q_target'):\n",
    "            q_target = self.r + self.gamma * tf.reduce_max(self.q_next, axis=1, name='Qmax_s_')    # shape=(None, )\n",
    "            self.q_target = tf.stop_gradient(q_target)\n",
    "        with tf.variable_scope('q_eval'):\n",
    "            a_indices = tf.stack([tf.range(tf.shape(self.a)[0], dtype=tf.int32), self.a], axis=1)\n",
    "            self.q_eval_wrt_a = tf.gather_nd(params=self.q_eval, indices=a_indices)    # shape=(None, )\n",
    "        with tf.variable_scope('loss'):\n",
    "            self.loss = tf.reduce_mean(tf.squared_difference(self.q_target, self.q_eval_wrt_a, name='TD_error'))\n",
    "        with tf.variable_scope('train'):\n",
    "            self._train_op = tf.train.RMSPropOptimizer(self.lr).minimize(self.loss)\n",
    "\n",
    "    def store_transition(self, s, a, r, s_):\n",
    "        if not hasattr(self, 'memory_counter'):\n",
    "            self.memory_counter = 0\n",
    "        transition = np.hstack((s, [a, r], s_))\n",
    "        # replace the old memory with new memory\n",
    "        index = self.memory_counter % self.memory_size\n",
    "        self.memory[index, :] = transition\n",
    "        self.memory_counter += 1\n",
    "\n",
    "    def choose_action(self, observation):\n",
    "        # to have batch dimension when feed into tf placeholder\n",
    "        observation = observation[np.newaxis, :]\n",
    "\n",
    "        if np.random.uniform() < self.epsilon:\n",
    "            # forward feed the observation and get q value for every actions\n",
    "            actions_value = self.sess.run(self.q_eval, feed_dict={self.s: observation})\n",
    "            action = np.argmax(actions_value)\n",
    "        else:\n",
    "            action = np.random.randint(0, self.n_actions)\n",
    "        return action\n",
    "\n",
    "    def learn(self):\n",
    "        # check to replace target parameters\n",
    "        if self.learn_step_counter % self.replace_target_iter == 0:\n",
    "            self.sess.run(self.target_replace_op)\n",
    "            #print('\\ntarget_params_replaced\\n')\n",
    "\n",
    "        # sample batch memory from all memory\n",
    "        if self.memory_counter > self.memory_size:\n",
    "            sample_index = np.random.choice(self.memory_size, size=self.batch_size)\n",
    "        else:\n",
    "            sample_index = np.random.choice(self.memory_counter, size=self.batch_size)\n",
    "        batch_memory = self.memory[sample_index, :]\n",
    "\n",
    "        _, cost = self.sess.run(\n",
    "            [self._train_op, self.loss],\n",
    "            feed_dict={\n",
    "                self.s: batch_memory[:, :self.n_features],\n",
    "                self.a: batch_memory[:, self.n_features],\n",
    "                self.r: batch_memory[:, self.n_features + 1],\n",
    "                self.s_: batch_memory[:, -self.n_features:],\n",
    "            })\n",
    "\n",
    "        self.cost_his.append(cost)\n",
    "\n",
    "        # increasing epsilon\n",
    "        self.epsilon = self.epsilon + self.epsilon_increment if self.epsilon < self.epsilon_max else self.epsilon_max\n",
    "        self.learn_step_counter += 1\n",
    "\n",
    "    def plot_cost(self):\n",
    "        import matplotlib.pyplot as plt\n",
    "        plt.plot(np.arange(len(self.cost_his)), self.cost_his)\n",
    "        plt.ylabel('Cost')\n",
    "        plt.xlabel('training steps')\n",
    "        plt.show()\n",
    "\n",
    "# if __name__ == '__main__':\n",
    "#     DQN = DeepQNetwork(3,4, output_graph=True)\n",
    "\n",
    "\n",
    "class Area():\n",
    "    def __init__(self, n, a_id):\n",
    "        self.a_id = a_id\n",
    "        self.normal_bike = n\n",
    "        self.broken_bike = 0\n",
    "\n",
    "    def move(self):\n",
    "        self.normal_bike -= 1\n",
    "        self.broken_bike += 1\n",
    "\n",
    "    def repair(self):\n",
    "        if self.broken_bike > 0:\n",
    "            self.normal_bike += 1\n",
    "            self.broken_bike -= 1\n",
    "\n",
    "\n",
    "def binaryInsert(target, events):\n",
    "    for event in events:\n",
    "        if event >= target[-1]:\n",
    "            target.append(event)\n",
    "        else:\n",
    "            l, mid, r = 0, int(len(target) / 2), len(target) - 1\n",
    "            while 1:\n",
    "                if r - l == 1:\n",
    "                    target.insert(r, event)\n",
    "                    break\n",
    "                else:\n",
    "                    if event > target[mid]:\n",
    "                        l = mid\n",
    "                        mid = int((r + l) / 2)\n",
    "                    else:\n",
    "                        r = mid\n",
    "                        mid = int((r + l) / 2)\n",
    "\n",
    "\n",
    "class BikeNet():\n",
    "    def __init__(self, N, R, A, Q, repair, P, time_limit):\n",
    "        self.N = N\n",
    "        self.R = R\n",
    "        self.A = A\n",
    "        self.Q = Q\n",
    "        self.repair = repair\n",
    "        self.P = P\n",
    "        self.time_limit = time_limit\n",
    "        self.area = list(range(self.A+1))\n",
    "        self.reset()\n",
    "        self.trans = {}\n",
    "\n",
    "    def reset(self):\n",
    "        # self.__init__(self.N, self.R, self.A, self.Q, self.P, self.time_limit)\n",
    "        # stat, S = pd.DataFrame(columns=['type', 'place', 't']), 0\n",
    "        # loss, L = pd.DataFrame(columns=['place', 't']), 0\n",
    "        # broken, B = pd.DataFrame(columns=['place', 'ng', 'nb', 't']), 0\n",
    "\n",
    "        # initiation of instances of Area and scheduler\n",
    "        self.T = 0\n",
    "        self.carrier_position = 0\n",
    "        self.scheduler = []\n",
    "        self.a = []  # list of instances of areas\n",
    "        self.s = np.array([(self.N / self.A) if i % 2 == 0 else 0 for i in range(2 * self.A)])\n",
    "        for i in range(A):\n",
    "            self.a.append(Area(self.N / self.A, i))\n",
    "            self.scheduler.append([np.random.exponential(1 / self.R[i][0]), 1, self.a[i]])\n",
    "        self.scheduler.sort()\n",
    "        heapq.heapify(self.scheduler)\n",
    "\n",
    "        return self.s.copy()\n",
    "    #@profile\n",
    "    def step(self, action):\n",
    "        # time for carrier to take the action and repair one bicycle\n",
    "        t = (abs(self.carrier_position % 3 - action % 3) + abs(self.carrier_position // 3 - action // 3)) *0.5 + self.repair\n",
    "        t_cursor = self.T + t\n",
    "        self.carrier_position = action\n",
    "        reward = 0\n",
    "\n",
    "        # update the atate of QN during the tansformation time\n",
    "        self.T = self.scheduler[0][0]\n",
    "        while self.T < t_cursor:\n",
    "            if self.scheduler[0][1] == 1:\n",
    "                # stat.loc[S], S = [scheduler[0][1], scheduler[0][2].a_id, T], S+1\n",
    "                if self.scheduler[0][2].normal_bike == 0:\n",
    "                    # this is a loss\n",
    "                    reward -= 1\n",
    "                    # loss.loc[L], L = [scheduler[0][2].a_id, self.T], L+1\n",
    "                    event = [self.T + np.random.exponential(1 / self.R[self.scheduler[0][2].a_id][0]), 1,\n",
    "                             self.scheduler[0][2]]\n",
    "                    heapq.heappush(self.scheduler, event)\n",
    "                else:\n",
    "                    #target = random.choices(self.area, self.Q[self.scheduler[0][2].a_id], k=1)\n",
    "                    target = np.random.choice(self.area, 1, p=self.Q[self.scheduler[0][2].a_id])\n",
    "                    if target[0] == self.A:\n",
    "                        # broken.loc[B], B = [self.scheduler[0][2].a_id, self.scheduler[0][2].normal_bike, self.scheduler[0][2].broken_bike, T], B+1\n",
    "                        self.scheduler[0][2].move()\n",
    "                        self.s[self.scheduler[0][2].a_id * 2], self.s[self.scheduler[0][2].a_id * 2 + 1] = \\\n",
    "                        self.scheduler[0][2].normal_bike, self.scheduler[0][2].broken_bike\n",
    "                        continue\n",
    "                    else:\n",
    "                        self.scheduler[0][2].normal_bike -= 1\n",
    "                        self.s[self.scheduler[0][2].a_id * 2] -= 1\n",
    "                        event1 = [self.T + np.random.exponential(1 / self.R[self.scheduler[0][2].a_id][1]), 2,\n",
    "                                  self.a[target[0]]]\n",
    "                        event2 = [self.T + np.random.exponential(1 / self.R[self.scheduler[0][2].a_id][0]), 1,\n",
    "                                  self.scheduler[0][2]]\n",
    "                        heapq.heappush(self.scheduler, event1)\n",
    "                        heapq.heappush(self.scheduler, event2)\n",
    "            else:\n",
    "                # stat.loc[S], S = [scheduler[0][1], scheduler[0][2].a_id, T], S+1\n",
    "                self.scheduler[0][2].normal_bike += 1\n",
    "                self.s[self.scheduler[0][2].a_id * 2] += 1\n",
    "            self.scheduler.pop(0)\n",
    "            self.T = self.scheduler[0][0]\n",
    "\n",
    "        self.a[action].repair()\n",
    "        s_ = self.s.copy()\n",
    "\n",
    "        self.T = t_cursor\n",
    "        if self.T < self.time_limit:\n",
    "            return s_, reward, 0\n",
    "        else:\n",
    "            return s_, reward, 1\n",
    "\n",
    "\n",
    "@jit\n",
    "def simulate():\n",
    "    n_episodes = 3000\n",
    "    result = []\n",
    "    for episode in tqdm(range(n_episodes)):\n",
    "    #for episode in range(n_episodes):\n",
    "        step = 0\n",
    "        sum_r = 0\n",
    "        # initial observation\n",
    "        observation = env.reset()\n",
    "        action = 0\n",
    "        #observation = np.array(int(N/A)) #devide all the normal bikes to all the areas evenly at the beginning\n",
    "\n",
    "        while True:\n",
    "            # fresh env\n",
    "            #env.render()\n",
    "\n",
    "            # RL choose action based on observation\n",
    "            #if not env.a[action].broken_bike:\n",
    "            action = RL.choose_action(observation)\n",
    "            #    action = (action+1)%A\n",
    "\n",
    "            # RL take action and get next observation and reward\n",
    "            observation_, reward, done = env.step(action)\n",
    "\n",
    "            RL.store_transition(observation, action, reward, observation_)\n",
    "\n",
    "            if (step > 800) and (step % 50 == 0):\n",
    "                RL.learn()\n",
    "            #RL.learn()\n",
    "\n",
    "            # swap observation\n",
    "            observation = observation_\n",
    "\n",
    "            # break while loop when end of this episode\n",
    "            if done:\n",
    "                break\n",
    "            step += 1\n",
    "            sum_r += reward\n",
    "\n",
    "        result.append([episode, sum_r])\n",
    "\n",
    "    # end of game\n",
    "    print('learning over')\n",
    "    return result\n",
    "\n",
    "\n",
    "if __name__ == \"__main__\":\n",
    "    # maze game\n",
    "    np.random.seed(1)\n",
    "    N = 80 #total number of bikes in the QN\n",
    "    A = 4 #A for areas, indicates the aumber of areas and the action space\n",
    "    #R = pd.DataFrame({'cus_arr': [1] * A, 'ride': [0.5] * A}, index=range(A))\n",
    "    R = {}  # [customer_arrval, ride]\n",
    "    for i in range(A): R[i] = [0.5*i+0.1, 0.5]\n",
    "    Q = [np.random.rand(A) for i in range(A)]\n",
    "    Q = [q / sum(q)*0.99 for q in Q]\n",
    "    Q = [np.append(q, 0.01) for q in Q]\n",
    "    #Q = [[0,0.9,0.1], [0.9,0,0.1]]\n",
    "    t_repair = 0.5\n",
    "    P = 0\n",
    "    time_limit = 1800\n",
    "\n",
    "    env = BikeNet(N, R, A, Q, t_repair, P, time_limit)\n",
    "\n",
    "    RL = DeepQNetwork(A, 2*A,\n",
    "                      learning_rate=0.0001,\n",
    "                      reward_decay=0.9,\n",
    "                      e_greedy=0.8,\n",
    "                      replace_target_iter=200,\n",
    "                      memory_size=10000,\n",
    "                      # output_graph=True\n",
    "                      )\n",
    "    output = simulate()\n",
    "    #print(np.array(output)[:,1].mean())\n",
    "    #RL.plot_cost()"
   ]
  },
  {
   "cell_type": "code",
   "execution_count": 2,
   "metadata": {},
   "outputs": [
    {
     "data": {
      "text/plain": [
       "'C:/Rebalancing/data/result/tfmodel/MyModel'"
      ]
     },
     "execution_count": 2,
     "metadata": {},
     "output_type": "execute_result"
    }
   ],
   "source": [
    "saver = tf.train.Saver()\n",
    "saver.save(RL.sess,\"C:/Rebalancing/data/result/tfmodel/MyModel\")"
   ]
  },
  {
   "cell_type": "code",
   "execution_count": 2,
   "metadata": {},
   "outputs": [
    {
     "data": {
      "text/plain": [
       "-4699.422666666666"
      ]
     },
     "execution_count": 2,
     "metadata": {},
     "output_type": "execute_result"
    }
   ],
   "source": [
    "#bear\n",
    "output = np.array(output)\n",
    "output[:,1].mean()"
   ]
  },
  {
   "cell_type": "code",
   "execution_count": 5,
   "metadata": {
    "scrolled": true
   },
   "outputs": [
    {
     "data": {
      "text/plain": [
       "[<matplotlib.lines.Line2D at 0xca54668>]"
      ]
     },
     "execution_count": 5,
     "metadata": {},
     "output_type": "execute_result"
    },
    {
     "data": {
      "image/png": "[encoded data removed]",
      "text/plain": [
       "<Figure size 432x288 with 1 Axes>"
      ]
     },
     "metadata": {
      "needs_background": "light"
     },
     "output_type": "display_data"
    }
   ],
   "source": [
    "#tensorflow 0-3000\n",
    "output = np.array(output)\n",
    "import matplotlib.pyplot as plt\n",
    "plt.plot(output[:,1])"
   ]
  },
  {
   "cell_type": "code",
   "execution_count": 6,
   "metadata": {},
   "outputs": [],
   "source": [
    "import pandas as pd\n",
    "result = pd.DataFrame(output)\n",
    "result.to_csv('C:/Rebalancing/data/result/tfmodel/3000-6000.csv')"
   ]
  },
  {
   "cell_type": "code",
   "execution_count": 3,
   "metadata": {},
   "outputs": [
    {
     "data": {
      "text/plain": [
       "[<matplotlib.lines.Line2D at 0xc9b8828>]"
      ]
     },
     "execution_count": 3,
     "metadata": {},
     "output_type": "execute_result"
    },
    {
     "data": {
      "image/png": "[encoded data removed]",
      "text/plain": [
       "<Figure size 432x288 with 1 Axes>"
      ]
     },
     "metadata": {
      "needs_background": "light"
     },
     "output_type": "display_data"
    }
   ],
   "source": [
    "#tensorflow 1-3000\n",
    "output = np.array(output)\n",
    "import matplotlib.pyplot as plt\n",
    "plt.plot(output[:,1])"
   ]
  },
  {
   "cell_type": "code",
   "execution_count": 4,
   "metadata": {},
   "outputs": [
    {
     "data": {
      "text/plain": [
       "-1665.1763333333333"
      ]
     },
     "execution_count": 4,
     "metadata": {},
     "output_type": "execute_result"
    }
   ],
   "source": [
    "#mean 1-3000\n",
    "output = np.array(output)\n",
    "output[:,1].mean()"
   ]
  }
 ],
 "metadata": {
  "kernelspec": {
   "display_name": "rl",
   "language": "python",
   "name": "rl"
  },
  "language_info": {
   "codemirror_mode": {
    "name": "ipython",
    "version": 3
   },
   "file_extension": ".py",
   "mimetype": "text/x-python",
   "name": "python",
   "nbconvert_exporter": "python",
   "pygments_lexer": "ipython3",
   "version": "3.5.6"
  }
 },
 "nbformat": 4,
 "nbformat_minor": 2
}
