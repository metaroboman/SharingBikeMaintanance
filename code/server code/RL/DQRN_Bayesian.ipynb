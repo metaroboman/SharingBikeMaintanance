{
 "cells": [
  {
   "cell_type": "code",
   "execution_count": 52,
   "metadata": {},
   "outputs": [],
   "source": [
    "from collections import deque\n",
    "import heapq\n",
    "import random\n",
    "import numpy as np\n",
    "from tqdm import tqdm\n",
    "import numpy as np\n",
    "import torch\n",
    "import torch.nn as nn\n",
    "import torch.nn.functional as Fs"
   ]
  },
  {
   "cell_type": "code",
   "execution_count": 53,
   "metadata": {},
   "outputs": [],
   "source": [
    "MEMORY_SIZE = 500\n",
    "MAX_STEP = 60"
   ]
  },
  {
   "cell_type": "code",
   "execution_count": null,
   "metadata": {},
   "outputs": [],
   "source": [
    "class Area():\n",
    "    "
   ]
  },
  {
   "cell_type": "code",
   "execution_count": 54,
   "metadata": {},
   "outputs": [],
   "source": [
    "class BikeNet():\n",
    "    def __init__(self, N, A, R, Q, repair, warmup_time, run_time, start_position=0):\n",
    "        self.N = N\n",
    "        self.A = A\n",
    "        self.R = R\n",
    "        self.Q = Q\n",
    "        self.repair = repair\n",
    "        self.warmup_time = warmup_time\n",
    "        self.run_time = run_time\n",
    "        self.time_limit = warmup_time + run_time\n",
    "        self.car = start_position\n",
    "        self.edge = int(self.A**0.5)\n",
    "        self.areas = list(range(A + 1))\n",
    "\n",
    "        self.reset()\n",
    "\n",
    "    def reset(self):\n",
    "        self.T = 0\n",
    "        self.carrier_position = self.car\n",
    "        self.state = [int(self.N / self.A)] * self.A + [0] * self.A\n",
    "        self.scheduler = []\n",
    "        heapq.heapify(self.scheduler)\n",
    "        for i in range(self.A):\n",
    "            heapq.heappush(self.scheduler, [random.expovariate(self.R[i][0]), -1, i])\n",
    "        heapq.heapify(self.scheduler)\n",
    "        return np.array(self.state)\n",
    "\n",
    "    def warmup(self):\n",
    "        s = self.reset()\n",
    "\n",
    "        while self.T < self.warmup_time:\n",
    "            action = random.randint(0,3)\n",
    "            result = self.step(action, 0)\n",
    "\n",
    "        self.T = self.warmup_time\n",
    "        return np.array(env.state)\n",
    "\n",
    "    def get_distance(self, start, end):\n",
    "        dist = abs(start % (self.edge) - end % (self.edge)) + abs(\n",
    "            start // (self.edge) - end // (self.edge))\n",
    "        return dist\n",
    "    \n",
    "    def step(self, action, not_warm):\n",
    "        \n",
    "        cus = 0\n",
    "        # time for carrier to take the action and repair one bicycle\n",
    "        dist = self.get_distance(self.carrier_position, action)\n",
    "        t = dist * 2\n",
    "        if self.state[action + self.A] > 0:\n",
    "            t_cursor = self.T + t + self.repair\n",
    "        else:\n",
    "            t_cursor = self.T + t\n",
    "\n",
    "        event = self.scheduler[0]\n",
    "        self.T, kind, location = event[0], event[1], event[2]\n",
    "\n",
    "        # update the atate of QN during the tansformation time\n",
    "        while self.T < t_cursor:\n",
    "            # 车到达\n",
    "            if kind == 1:\n",
    "                self.state[location] += 1\n",
    "                heapq.heappop(self.scheduler)\n",
    "            else:# 顾客到达\n",
    "                if self.state[location] == 0:  # 但没车\n",
    "                    cus += 1\n",
    "                    #rewards -= 1\n",
    "                    heapq.heappop(self.scheduler)\n",
    "                else:\n",
    "                    target = np.random.choice(self.areas, 1, p=self.Q[location])[0]\n",
    "                    if target == self.A:  # 顾客到达，发现是坏车\n",
    "                        self.state[location] -= 1\n",
    "                        self.state[location + self.A] += 1\n",
    "                        continue\n",
    "                    else:  # 顾客到达，顺利骑行\n",
    "                        cus += 1\n",
    "                        self.state[location] -= 1\n",
    "                        heapq.heappop(self.scheduler)\n",
    "                        next_time = random.expovariate(self.R[location][1]) + self.T\n",
    "                        heapq.heappush(self.scheduler, [next_time, 1, target])\n",
    "                next_time = random.expovariate(self.R[location][0]*0.999**self.T) + self.T\n",
    "                heapq.heappush(self.scheduler, [next_time, -1, location])\n",
    "\n",
    "            if self.scheduler:\n",
    "                event = self.scheduler[0]\n",
    "                self.T, kind, location = event[0], event[1], event[2]\n",
    "            else:\n",
    "                break\n",
    "\n",
    "        if not_warm == 1:\n",
    "            if self.state[action + self.A] > 0:\n",
    "                self.state[self.carrier_position] += 1\n",
    "                self.state[self.carrier_position + self.A] -= 1\n",
    "\n",
    "        self.carrier_position = action\n",
    "        self.T = t_cursor\n",
    "\n",
    "        s_ = np.array(self.state)\n",
    "\n",
    "        #if self.T <= self.time_limit and self.scheduler:\n",
    "        return s_, cus, 0\n",
    "        #else:\n",
    "        #    return s_, cus, 1, t\n",
    "  "
   ]
  },
  {
   "cell_type": "code",
   "execution_count": 55,
   "metadata": {},
   "outputs": [
    {
     "data": {
      "text/plain": [
       "array([66, 51, 64, 23, 34,  1,  0,  0,  1,  2, 10,  1,  0,  2, 20,  9,  8,\n",
       "       18])"
      ]
     },
     "execution_count": 55,
     "metadata": {},
     "output_type": "execute_result"
    }
   ],
   "source": [
    "      \n",
    "random.seed(0)\n",
    "N = 360  # total number of bikes in the QN\n",
    "A = 9  # A for areas, indicates the number of areas and the action space\n",
    "R = {}  # [customer_arrval, ride]\n",
    "for i in range(A): R[i] = [0.25 * i+0.5, 0.2]\n",
    "#Q = [[0.15,0.3,0.3,0.15,0.1],\n",
    "#     [0.3,0.15,0.15,0.3,0.1],\n",
    "#     [0.3,0.15,0.15,0.3,0.1],\n",
    "#     [0.15,0.3,0.3,0.15,0.1]]\n",
    "Q = [x/sum(x) for x in np.random.rand(A,A+1)]\n",
    "# Q = [[0,0.9,0.1], [0.9,0,0.1]]\n",
    "t_repair = 2\n",
    "warmup_time = 60\n",
    "run_time = 180\n",
    "\n",
    "env = BikeNet(N=N,\n",
    "              A=A,\n",
    "              R=R,\n",
    "              Q=Q,\n",
    "              repair=t_repair,\n",
    "              warmup_time=warmup_time,\n",
    "              run_time=run_time,\n",
    "              start_position=0)\n",
    "env.warmup()"
   ]
  },
  {
   "cell_type": "code",
   "execution_count": 56,
   "metadata": {},
   "outputs": [],
   "source": [
    "class Memory():\n",
    "    def __init__(self,memsize):\n",
    "        self.memsize = memsize\n",
    "        self.memory = deque(maxlen=self.memsize)\n",
    "    \n",
    "    def add_episode(self,epsiode):\n",
    "        self.memory.append(epsiode)\n",
    "    \n",
    "    def get_batch(self,bsize):\n",
    "        sampled_epsiodes = np.array(random.sample(self.memory,bsize))\n",
    "        #batch = []\n",
    "        #for episode in sampled_epsiodes:\n",
    "        #    point = np.random.randint(0,len(episode)+1-time_step)\n",
    "        #    batch.append(episode[point:point+time_step])\n",
    "        return sampled_epsiodes"
   ]
  },
  {
   "cell_type": "code",
   "execution_count": 57,
   "metadata": {},
   "outputs": [
    {
     "name": "stderr",
     "output_type": "stream",
     "text": [
      "100%|████████████████████████████████████████| 500/500 [00:25<00:00, 19.25it/s]\n"
     ]
    },
    {
     "name": "stdout",
     "output_type": "stream",
     "text": [
      "Populated with 500 Episodes\n"
     ]
    }
   ],
   "source": [
    "mem = Memory(memsize=MEMORY_SIZE)\n",
    "# Fill memory\n",
    "for i in tqdm(range(0,MEMORY_SIZE)):\n",
    "    \n",
    "    prev_state = env.warmup()\n",
    "    processed_prev_state = prev_state\n",
    "    #processed_prev_state = preprocess_image(prev_state)\n",
    "    \n",
    "    action = np.random.randint(0,4)\n",
    "    #if not env.scheduler: break\n",
    "    next_state,reward,done = env.step(action,1)\n",
    "    #time_count += t\n",
    "    processed_next_state = next_state #preprocess_image(next_state)\n",
    "\n",
    "    mem.add_episode(list(processed_prev_state)+[action]+[reward]+list(processed_next_state))\n",
    "\n",
    "    prev_state = next_state\n",
    "    processed_prev_state = processed_next_state\n",
    "            \n",
    "print('Populated with %d Episodes'%(len(mem.memory)))"
   ]
  },
  {
   "cell_type": "code",
   "execution_count": 58,
   "metadata": {},
   "outputs": [],
   "source": [
    "\"\"\"\n",
    "This part of code is the Deep Q Network (DQN) brain.\n",
    "view the tensorboard picture about this DQN structure on: https://morvanzhou.github.io/tutorials/machine-learning/reinforcement-learning/4-3-DQN3/#modification\n",
    "View more on my tutorial page: https://morvanzhou.github.io/tutorials/\n",
    "Using:\n",
    "PyTorch\n",
    "\"\"\"\n",
    "# np.random.seed(1)\n",
    "# USE_CUDA = torch.cuda.is_available()\n",
    "\n",
    "\n",
    "# Deep Q Network off-policy\n",
    "class DQN(nn.Module):\n",
    "    def __init__(self, num_inputs, num_outputs):\n",
    "        super(DQN, self).__init__()\n",
    "        self.line1 = nn.Linear(num_inputs, 64)\n",
    "        self.line2 = nn.Linear(64, 32)\n",
    "        self.line3 = nn.Linear(32, num_outputs)\n",
    "\n",
    "    def forward(self, x):\n",
    "        x = torch.sigmoid(self.line1(x))\n",
    "        x = F.relu(self.line2(x))\n",
    "        x = self.line3(x)\n",
    "        return x"
   ]
  },
  {
   "cell_type": "code",
   "execution_count": 59,
   "metadata": {
    "scrolled": true
   },
   "outputs": [
    {
     "name": "stderr",
     "output_type": "stream",
     "text": [
      "100%|██████████████████████████████████████| 1000/1000 [02:48<00:00,  5.11it/s]\n"
     ]
    },
    {
     "name": "stdout",
     "output_type": "stream",
     "text": [
      "learning over\n"
     ]
    }
   ],
   "source": [
    "import numpy as np\n",
    "import torch\n",
    "import torch.nn as nn\n",
    "from torch.autograd import Variable\n",
    "#from NeuralNetwork import DQN\n",
    "\n",
    "class Train():\n",
    "    def __init__(\n",
    "            self,\n",
    "            n_actions,\n",
    "            n_features,\n",
    "            n_episodes,\n",
    "            learning_rate=0.01,\n",
    "            reward_decay=0.9,\n",
    "            e_greedy=0.9,\n",
    "            replace_target_iter=300,\n",
    "            memory_size=500,\n",
    "            batch_size=32,\n",
    "            e_greedy_increment=None,\n",
    "            output_graph=False,\n",
    "    ):\n",
    "        self.n_actions = n_actions\n",
    "        self.n_features = n_features\n",
    "        self.n_episodes = n_episodes\n",
    "        self.lr = learning_rate\n",
    "        self.gamma = reward_decay\n",
    "        self.epsilon_min = e_greedy\n",
    "        self.replace_target_iter = replace_target_iter\n",
    "        self.memory_size = memory_size\n",
    "        self.batch_size = batch_size\n",
    "        self.epsilon_increment = e_greedy_increment\n",
    "        self.epsilon = 0.99 if e_greedy_increment is not None else self.epsilon_min\n",
    "\n",
    "        # total learning step\n",
    "        self.learn_step_counter = 0\n",
    "\n",
    "        # consist of [target_net, evaluate_net]\n",
    "        self.target_net = DQN(n_features, n_actions)\n",
    "        self.eval_net = DQN(n_features, n_actions)\n",
    "        self.target_net.load_state_dict(self.eval_net.state_dict())\n",
    "        #self.eval_net.load_state_dict(torch.load('C:/Rebalancing/data/result/pytorchmodel/params_lossMinusMean.pkl'))\n",
    "\n",
    "        self.criterion = nn.MSELoss()\n",
    "        self.optimizer = torch.optim.Adagrad(self.eval_net.parameters(), lr=self.lr)\n",
    "\n",
    "\n",
    "    def choose_action(self, observation):\n",
    "        # to have batch dimension when feed into tf placeholder\n",
    "        observation = observation[np.newaxis, :]\n",
    "\n",
    "        if np.random.uniform() < self.epsilon:\n",
    "            # forward feed the observation and get q value for every actions\n",
    "            actions_value = self.eval_net(Variable(torch.from_numpy(observation).float())).cpu().detach().numpy()\n",
    "            action = np.argmax(actions_value)\n",
    "        else:\n",
    "            action = np.random.randint(0, self.n_actions)\n",
    "        return action\n",
    "\n",
    "    def learn(self):\n",
    "        # check to replace target parameters\n",
    "        if self.learn_step_counter % self.replace_target_iter == 0:\n",
    "            # self.sess.run(self.target_replace_op)\n",
    "            self.target_net.load_state_dict(self.eval_net.state_dict())\n",
    "            # print('\\ntarget_params_replaced\\n')\n",
    "\n",
    "        # sample batch memory from all memory\n",
    "        batch_memory = mem.get_batch(self.batch_size)\n",
    "        \n",
    "\n",
    "        self.s = Variable(torch.from_numpy(batch_memory[:, :self.n_features]).float(), requires_grad=True)\n",
    "        self.a = Variable(torch.from_numpy(batch_memory[:, self.n_features]).long())\n",
    "        self.r = Variable(torch.from_numpy(batch_memory[:, self.n_features + 1]).float())\n",
    "        self.s_ = Variable(torch.from_numpy(batch_memory[:, -self.n_features:]).float())\n",
    "\n",
    "        current_Q_values = self.eval_net(self.s).gather(1, self.a.unsqueeze(1)).view(-1)\n",
    "        next_Q_values = self.target_net(self.s_).detach().max(1)[0]\n",
    "        # Compute the target of the current Q values\n",
    "        target_Q_values = self.r + (self.gamma * next_Q_values)\n",
    "        # Compute Bellman error\n",
    "        loss = self.criterion(target_Q_values, current_Q_values)\n",
    "\n",
    "        self.optimizer.zero_grad()\n",
    "        # run backward pass\n",
    "        loss.backward()\n",
    "\n",
    "        # Perfom the update\n",
    "        self.optimizer.step()\n",
    "\n",
    "        # increasing epsilon\n",
    "        self.epsilon = self.epsilon + self.epsilon_increment if self.epsilon > self.epsilon_min else self.epsilon_min\n",
    "        self.learn_step_counter += 1\n",
    "\n",
    "\n",
    "\n",
    "#from bikeNet import BikeNet\n",
    "#from model import Train\n",
    "#from SimulationOptimization import BikeNet, Area, binaryInsert\n",
    "import numpy as np\n",
    "import random\n",
    "from tqdm import tqdm\n",
    "MAX_STEP = 60\n",
    "#@profile\n",
    "def run():\n",
    "    result = []\n",
    "    for episode in tqdm(range(RL.n_episodes)):\n",
    "        sum_r = 0\n",
    "        #sum_c = 0\n",
    "        step = 0\n",
    "        step_count = 0\n",
    "        # initial observation\n",
    "        observation = env.warmup()\n",
    "\n",
    "        while step_count<MAX_STEP:\n",
    "\n",
    "            # RL choose action based on observation\n",
    "            action = RL.choose_action(observation)\n",
    "            # action = (action+1)%9\n",
    "            # RL take action and get next observation and reward\n",
    "            observation_, reward, done = env.step(action, 1)\n",
    "            mem.add_episode(list(observation)+[action]+[reward]+list(observation_))\n",
    "\n",
    "            if step % 10 == 0:\n",
    "                RL.learn()\n",
    "\n",
    "            # swap observation\n",
    "            observation = observation_\n",
    "\n",
    "            # break while loop when end of this episode\n",
    "            if done:\n",
    "                break\n",
    "            step += 1\n",
    "            step_count += 1\n",
    "            sum_r += reward\n",
    "            #sum_c += n_customer\n",
    "\n",
    "        result.append(sum_r)\n",
    "\n",
    "    # end of game\n",
    "    print('learning over')\n",
    "    return result\n",
    "\n",
    "if __name__ == '__main__':\n",
    "    \n",
    "    RL = Train(n_actions=A,\n",
    "               n_features=2 * A,\n",
    "               n_episodes=1000,\n",
    "               learning_rate=0.001,\n",
    "               reward_decay=1.0,\n",
    "               e_greedy=0.1,\n",
    "               replace_target_iter=200,\n",
    "               memory_size=20000,\n",
    "               e_greedy_increment=-0.0001\n",
    "               # output_graph=True\n",
    "               )\n",
    "    output = run()\n",
    "\n",
    "    #print(output)\n",
    "    # RL.plot_cost()"
   ]
  },
  {
   "cell_type": "code",
   "execution_count": 60,
   "metadata": {
    "scrolled": false
   },
   "outputs": [
    {
     "data": {
      "text/plain": [
       "[<matplotlib.lines.Line2D at 0xa1e76d8>]"
      ]
     },
     "execution_count": 60,
     "metadata": {},
     "output_type": "execute_result"
    },
    {
     "data": {
      "image/png": "[encoded data removed]",
      "text/plain": [
       "<Figure size 432x288 with 1 Axes>"
      ]
     },
     "metadata": {
      "needs_background": "light"
     },
     "output_type": "display_data"
    }
   ],
   "source": [
    "output = np.array(output)\n",
    "import matplotlib.pyplot as plt\n",
    "plt.plot(output)"
   ]
  },
  {
   "cell_type": "code",
   "execution_count": 25,
   "metadata": {},
   "outputs": [
    {
     "data": {
      "text/plain": [
       "759.2806666666667"
      ]
     },
     "execution_count": 25,
     "metadata": {},
     "output_type": "execute_result"
    }
   ],
   "source": [
    "output[-1500:].mean()"
   ]
  },
  {
   "cell_type": "code",
   "execution_count": 27,
   "metadata": {},
   "outputs": [],
   "source": [
    "import pandas as pd\n",
    "result = pd.DataFrame(output)\n",
    "result.to_csv('C:/Rebalancing/data/result/pytorchmodel/correctDQN4000.csv')"
   ]
  },
  {
   "cell_type": "code",
   "execution_count": 26,
   "metadata": {},
   "outputs": [],
   "source": [
    "torch.save(RL.eval_net.state_dict(), 'C:/Rebalancing/data/result/pytorchmodel/params_lossMinusMean.pkl')"
   ]
  },
  {
   "cell_type": "code",
   "execution_count": null,
   "metadata": {},
   "outputs": [],
   "source": []
  }
 ],
 "metadata": {
  "kernelspec": {
   "display_name": "rl",
   "language": "python",
   "name": "rl"
  },
  "language_info": {
   "codemirror_mode": {
    "name": "ipython",
    "version": 3
   },
   "file_extension": ".py",
   "mimetype": "text/x-python",
   "name": "python",
   "nbconvert_exporter": "python",
   "pygments_lexer": "ipython3",
   "version": "3.5.6"
  }
 },
 "nbformat": 4,
 "nbformat_minor": 2
}
