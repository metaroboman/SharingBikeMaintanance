{
 "cells": [
  {
   "cell_type": "code",
   "execution_count": 35,
   "metadata": {},
   "outputs": [
    {
     "name": "stderr",
     "output_type": "stream",
     "text": [
      "C:\\Users\\acemec\\Anaconda3\\lib\\importlib\\_bootstrap.py:219: RuntimeWarning: numpy.ufunc size changed, may indicate binary incompatibility. Expected 192 from C header, got 216 from PyObject\n",
      "  return f(*args, **kwds)\n",
      "C:\\Users\\acemec\\Anaconda3\\lib\\importlib\\_bootstrap.py:219: RuntimeWarning: numpy.ufunc size changed, may indicate binary incompatibility. Expected 192 from C header, got 216 from PyObject\n",
      "  return f(*args, **kwds)\n",
      "C:\\Users\\acemec\\Anaconda3\\lib\\importlib\\_bootstrap.py:219: RuntimeWarning: numpy.ufunc size changed, may indicate binary incompatibility. Expected 216, got 192\n",
      "  return f(*args, **kwds)\n",
      "C:\\Users\\acemec\\Anaconda3\\lib\\importlib\\_bootstrap.py:219: RuntimeWarning: numpy.ufunc size changed, may indicate binary incompatibility. Expected 192 from C header, got 216 from PyObject\n",
      "  return f(*args, **kwds)\n"
     ]
    }
   ],
   "source": [
    "import numpy as np\n",
    "import pandas as pd\n",
    "import seaborn as sb"
   ]
  },
  {
   "cell_type": "code",
   "execution_count": 38,
   "metadata": {
    "scrolled": true
   },
   "outputs": [
    {
     "name": "stderr",
     "output_type": "stream",
     "text": [
      "100%|██████████████████████████████████| 100000/100000 [22:22<00:00, 74.46it/s]\n"
     ]
    }
   ],
   "source": [
    "#closed network with two queues and constant propagation delay\n",
    "from tqdm import tqdm\n",
    "\n",
    "\n",
    "T = 0\n",
    "N = 100000\n",
    "n_customer = 100\n",
    "np.random.seed(1)\n",
    "prop_delay1 = np.random.exponential(1/10, N)\n",
    "prop_delay2 = np.random.exponential(1/10, N)\n",
    "miu1 = 1/10\n",
    "miu2 = 1/10\n",
    "\n",
    "_ = np.random.exponential(miu1, N)\n",
    "ins1 = [sum(_[:i+1]) for i in range(n_customer)]\n",
    "ins2 = []\n",
    "delay1 = []\n",
    "delay2 = []\n",
    "scheduler = [[s, 1] for s in ins1]\n",
    "\n",
    "rw, W = pd.DataFrame(columns = ['place', 'arr', 'ser', 'lea']), n_customer\n",
    "rl1, L1 = pd.DataFrame(columns=['n_sys', 't_sys']), 0\n",
    "rld1, Ld1 = pd.DataFrame(columns=['n_sys', 't_sys']), 0\n",
    "rl2, L2 = pd.DataFrame(columns=['n_sys', 't_sys']), 0\n",
    "rld2, Ld2 = pd.DataFrame(columns=['n_sys', 't_sys']), 0\n",
    "\n",
    "for i in range(n_customer):\n",
    "    rw.loc[i] = [1, 0, sum(_[:i]), sum(_[:i])+_[i]]\n",
    "\n",
    "for n in tqdm(range(N)):\n",
    "\n",
    "    T, obj = scheduler[0]\n",
    "\n",
    "    if obj == 1:\n",
    "        rl1.loc[L1], L1 = [len(ins1), T], L1+1\n",
    "        rld1.loc[Ld1], Ld1 = [len(delay1), T], Ld1+1\n",
    "        rw.loc[W], W = [-1, T, T, T+prop_delay1[n]], W+1\n",
    "        delay1.append(T+prop_delay1[n])\n",
    "        scheduler.append([T+prop_delay1[n], -1])\n",
    "        ins1.pop(0)\n",
    "    elif obj == 2:\n",
    "        rl2.loc[L2], L2 = [len(ins2), T], L2+1\n",
    "        rld2.loc[Ld2], Ld2 = [len(delay2), T], Ld2+1\n",
    "        rw.loc[W], W = [-2, T, T, T+prop_delay2[n]], W+1\n",
    "        delay2.append(T+prop_delay2[n])\n",
    "        scheduler.append([T+prop_delay2[n], -2])\n",
    "        ins2.pop(0)\n",
    "    elif obj == -1:\n",
    "        rld1.loc[Ld1], Ld1 = [len(delay1), T], Ld1+1\n",
    "        rl2.loc[L2], L2 = [len(ins2), T], L2+1\n",
    "        if ins2: rw.loc[W], W = [2, T, ins2[-1], ins2[-1]+np.random.exponential(miu2)], W+1\n",
    "        else: rw.loc[W], W = [2, T, T, T+np.random.exponential(miu2)], W+1\n",
    "        ins2.append(rw.iloc[W-1][3])\n",
    "        scheduler.append([rw.iloc[W-1][3], 2])\n",
    "        delay1.pop(0)\n",
    "    else:\n",
    "        rld2.loc[Ld2], Ld2 = [len(delay2), T], Ld2+1\n",
    "        rl1.loc[L1], L1 = [len(ins1), T], L1+1\n",
    "        if ins1: rw.loc[W], W = [1, T, ins1[-1], ins1[-1]+np.random.exponential(miu1)], W+1\n",
    "        else: rw.loc[W], W = [1, T, T, T+np.random.exponential(miu1)], W+1\n",
    "        ins1.append(rw.iloc[W-1][3])\n",
    "        scheduler.append([rw.iloc[W-1][3], 1])\n",
    "        delay2.pop(0)\n",
    "    scheduler.pop(0)\n",
    "    scheduler.sort()\n",
    "#print(rw)\n",
    "\n"
   ]
  },
  {
   "cell_type": "code",
   "execution_count": 53,
   "metadata": {},
   "outputs": [],
   "source": [
    "rw.to_csv('exp10delayRW.csv')\n",
    "rl1.to_csv('exp10delayRL1.csv')\n",
    "rld1.to_csv('exp10delayRLD1.csv')\n",
    "rl2.to_csv('exp10delayRL2.csv')\n",
    "rld2.to_csv('exp10delayRLD2.csv')"
   ]
  },
  {
   "cell_type": "code",
   "execution_count": 44,
   "metadata": {},
   "outputs": [
    {
     "data": {
      "text/plain": [
       "0.10115528396233484"
      ]
     },
     "execution_count": 44,
     "metadata": {},
     "output_type": "execute_result"
    }
   ],
   "source": [
    "np.average(rw.loc[rw.place == -1.0].arr.diff()[1:])"
   ]
  },
  {
   "cell_type": "code",
   "execution_count": 45,
   "metadata": {},
   "outputs": [
    {
     "data": {
      "text/plain": [
       "<matplotlib.axes._subplots.AxesSubplot at 0x4eeac8d0>"
      ]
     },
     "execution_count": 45,
     "metadata": {},
     "output_type": "execute_result"
    },
    {
     "data": {
      "image/png": "[encoded data removed]",
      "text/plain": [
       "<Figure size 432x288 with 1 Axes>"
      ]
     },
     "metadata": {
      "needs_background": "light"
     },
     "output_type": "display_data"
    }
   ],
   "source": [
    "sb.distplot(rw.loc[rw.place == 1.0].arr.diff()[1:])\n",
    "sb.distplot(np.random.exponential(0.1, 20000))"
   ]
  },
  {
   "cell_type": "code",
   "execution_count": 49,
   "metadata": {},
   "outputs": [
    {
     "data": {
      "text/plain": [
       "0.006980366950328359"
      ]
     },
     "execution_count": 49,
     "metadata": {},
     "output_type": "execute_result"
    }
   ],
   "source": [
    "rl1['seg'] = rl1.t_sys.diff()\n",
    "rl1.head()\n",
    "sum(rl1[rl1.n_sys == 0.0].seg[2:])/rw.lea.max()"
   ]
  },
  {
   "cell_type": "code",
   "execution_count": 12,
   "metadata": {},
   "outputs": [
    {
     "data": {
      "text/plain": [
       "0.730968380571279"
      ]
     },
     "execution_count": 12,
     "metadata": {},
     "output_type": "execute_result"
    }
   ],
   "source": [
    "sum(rl1.t_sys.diff()[1:])/rl1.t_sys.max()"
   ]
  },
  {
   "cell_type": "code",
   "execution_count": 51,
   "metadata": {},
   "outputs": [
    {
     "ename": "AttributeError",
     "evalue": "'DataFrame' object has no attribute 'd'",
     "output_type": "error",
     "traceback": [
      "\u001b[1;31m---------------------------------------------------------------------------\u001b[0m",
      "\u001b[1;31mAttributeError\u001b[0m                            Traceback (most recent call last)",
      "\u001b[1;32m<ipython-input-51-edc47e0ac4db>\u001b[0m in \u001b[0;36m<module>\u001b[1;34m\u001b[0m\n\u001b[0;32m      1\u001b[0m \u001b[0mrl2\u001b[0m\u001b[1;33m[\u001b[0m\u001b[1;34m'd'\u001b[0m\u001b[1;33m]\u001b[0m \u001b[1;33m=\u001b[0m \u001b[0mrl2\u001b[0m\u001b[1;33m.\u001b[0m\u001b[0mt_sys\u001b[0m\u001b[1;33m.\u001b[0m\u001b[0mdiff\u001b[0m\u001b[1;33m(\u001b[0m\u001b[1;33m)\u001b[0m\u001b[1;33m\u001b[0m\u001b[1;33m\u001b[0m\u001b[0m\n\u001b[1;32m----> 2\u001b[1;33m \u001b[0msum\u001b[0m\u001b[1;33m(\u001b[0m\u001b[0mrl1\u001b[0m\u001b[1;33m[\u001b[0m\u001b[0mrl1\u001b[0m\u001b[1;33m.\u001b[0m\u001b[0mn_sys\u001b[0m \u001b[1;33m==\u001b[0m \u001b[1;36m0.0\u001b[0m\u001b[1;33m]\u001b[0m\u001b[1;33m.\u001b[0m\u001b[0md\u001b[0m\u001b[1;33m[\u001b[0m\u001b[1;36m1\u001b[0m\u001b[1;33m:\u001b[0m\u001b[1;33m]\u001b[0m\u001b[1;33m)\u001b[0m\u001b[1;33m/\u001b[0m\u001b[0mrl2\u001b[0m\u001b[1;33m.\u001b[0m\u001b[0mt_sys\u001b[0m\u001b[1;33m.\u001b[0m\u001b[0mmax\u001b[0m\u001b[1;33m(\u001b[0m\u001b[1;33m)\u001b[0m\u001b[1;33m\u001b[0m\u001b[1;33m\u001b[0m\u001b[0m\n\u001b[0m",
      "\u001b[1;32m~\\Anaconda3\\lib\\site-packages\\pandas\\core\\generic.py\u001b[0m in \u001b[0;36m__getattr__\u001b[1;34m(self, name)\u001b[0m\n\u001b[0;32m   5065\u001b[0m             \u001b[1;32mif\u001b[0m \u001b[0mself\u001b[0m\u001b[1;33m.\u001b[0m\u001b[0m_info_axis\u001b[0m\u001b[1;33m.\u001b[0m\u001b[0m_can_hold_identifiers_and_holds_name\u001b[0m\u001b[1;33m(\u001b[0m\u001b[0mname\u001b[0m\u001b[1;33m)\u001b[0m\u001b[1;33m:\u001b[0m\u001b[1;33m\u001b[0m\u001b[1;33m\u001b[0m\u001b[0m\n\u001b[0;32m   5066\u001b[0m                 \u001b[1;32mreturn\u001b[0m \u001b[0mself\u001b[0m\u001b[1;33m[\u001b[0m\u001b[0mname\u001b[0m\u001b[1;33m]\u001b[0m\u001b[1;33m\u001b[0m\u001b[1;33m\u001b[0m\u001b[0m\n\u001b[1;32m-> 5067\u001b[1;33m             \u001b[1;32mreturn\u001b[0m \u001b[0mobject\u001b[0m\u001b[1;33m.\u001b[0m\u001b[0m__getattribute__\u001b[0m\u001b[1;33m(\u001b[0m\u001b[0mself\u001b[0m\u001b[1;33m,\u001b[0m \u001b[0mname\u001b[0m\u001b[1;33m)\u001b[0m\u001b[1;33m\u001b[0m\u001b[1;33m\u001b[0m\u001b[0m\n\u001b[0m\u001b[0;32m   5068\u001b[0m \u001b[1;33m\u001b[0m\u001b[0m\n\u001b[0;32m   5069\u001b[0m     \u001b[1;32mdef\u001b[0m \u001b[0m__setattr__\u001b[0m\u001b[1;33m(\u001b[0m\u001b[0mself\u001b[0m\u001b[1;33m,\u001b[0m \u001b[0mname\u001b[0m\u001b[1;33m,\u001b[0m \u001b[0mvalue\u001b[0m\u001b[1;33m)\u001b[0m\u001b[1;33m:\u001b[0m\u001b[1;33m\u001b[0m\u001b[1;33m\u001b[0m\u001b[0m\n",
      "\u001b[1;31mAttributeError\u001b[0m: 'DataFrame' object has no attribute 'd'"
     ]
    }
   ],
   "source": [
    "rl2['d'] = rl2.t_sys.diff()\n",
    "sum(rl1[rl1.n_sys == 0.0].d[1:])/rl2.t_sys.max()"
   ]
  },
  {
   "cell_type": "code",
   "execution_count": 52,
   "metadata": {},
   "outputs": [
    {
     "data": {
      "text/plain": [
       "0.10115744205942857"
      ]
     },
     "execution_count": 52,
     "metadata": {},
     "output_type": "execute_result"
    }
   ],
   "source": [
    "np.average(rw[rw.place==1.0].arr.diff()[1:])"
   ]
  },
  {
   "cell_type": "code",
   "execution_count": 21,
   "metadata": {},
   "outputs": [
    {
     "data": {
      "text/plain": [
       "6288.5384486276835"
      ]
     },
     "execution_count": 21,
     "metadata": {},
     "output_type": "execute_result"
    }
   ],
   "source": [
    "rl2.t_sys.max()"
   ]
  }
 ],
 "metadata": {
  "kernelspec": {
   "display_name": "Python 3",
   "language": "python",
   "name": "python3"
  },
  "language_info": {
   "codemirror_mode": {
    "name": "ipython",
    "version": 3
   },
   "file_extension": ".py",
   "mimetype": "text/x-python",
   "name": "python",
   "nbconvert_exporter": "python",
   "pygments_lexer": "ipython3",
   "version": "3.7.3"
  }
 },
 "nbformat": 4,
 "nbformat_minor": 2
}
