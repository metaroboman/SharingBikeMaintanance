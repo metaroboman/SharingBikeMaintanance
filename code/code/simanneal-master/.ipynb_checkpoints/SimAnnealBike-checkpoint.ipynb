{
 "cells": [
  {
   "cell_type": "code",
   "execution_count": 1,
   "metadata": {},
   "outputs": [],
   "source": [
    "from simanneal import Annealer\n",
    "from bikemodel import BikeModel\n",
    "import numpy as np"
   ]
  },
  {
   "cell_type": "markdown",
   "metadata": {},
   "source": [
    "set the total servers to a certain integer"
   ]
  },
  {
   "cell_type": "code",
   "execution_count": 2,
   "metadata": {},
   "outputs": [],
   "source": [
    "Instance = 4\n",
    "np.random.seed(0)\n",
    "\n",
    "A, M = 2, 6\n",
    "FileAdd = 'C:\\\\Rebalancing\\\\nowModel\\\\result\\\\A'+str(A)+'M'+str(M)\n",
    "\n",
    "def getPij(a):\n",
    "    temp = np.log1p(np.random.rand(A,A))\n",
    "    return (temp/sum(temp)).T\n",
    "Pij = getPij(A)\n",
    "ArrLst = np.log1p((np.random.rand(A)))\n",
    "Beta = 0.3\n",
    "\n",
    "Tau = 1\n",
    "C = 3\n",
    "Mu = 1\n",
    "N = 1\n",
    "\n",
    "RhoMtx = [[1/(abs(j-i)+1) for i in range(A)] for j in range(A)]\n",
    "\n",
    "Total = 10\n",
    "TimeLimit = 25000"
   ]
  },
  {
   "cell_type": "code",
   "execution_count": 3,
   "metadata": {},
   "outputs": [],
   "source": [
    "class BikeNet(Annealer):\n",
    "    def set_init_params(self, A, M, Pij=[], ArrLst=[], RhoMtx=[], Beta=0.3, Tau=1.0, C=2, Mu=1.0, Total=10, TimeLimit=25000):\n",
    "        self.Total_server = Total\n",
    "        self.timeLimit = TimeLimit\n",
    "        self.areas = list(range(A))\n",
    "        self.A, self.M, self.Pij, self.ArrLst, self.RhoMtx, self.Beta, self.Tau, self.C, self.Mu = \\\n",
    "            A, M, Pij, ArrLst, RhoMtx, Beta, Tau, C, Mu\n",
    "        \n",
    "    def move(self):\n",
    "        \"\"\"Swaps two cities in the route.\"\"\"\n",
    "        \n",
    "        self.state[0] = random.randint(1, self.Total_server-2)\n",
    "        self.state[1] = random.randint(1, self.Total_server - self.gather_server -1)\n",
    "        self.state[2] = self.Total_server - self.gather_server - self.repair_server\n",
    "        \n",
    "    def energy(self):\n",
    "        \"\"\"Calculates the length of the route.\"\"\"\n",
    "        e = 0\n",
    "        model = BikeModel(self.A, self.M, self.Pij, self.ArrLst, self.RhoMtx, self.Beta, self.Tau, self.C, self.Mu, self.state)\n",
    "        #print(model.M)\n",
    "        e = model.simulate()\n",
    "        return e"
   ]
  },
  {
   "cell_type": "code",
   "execution_count": 4,
   "metadata": {},
   "outputs": [],
   "source": [
    "bn = BikeNet([3,4,3])\n",
    "bn.set_init_params(A, M, Pij, ArrLst, RhoMtx, Beta, Tau, C, Mu, Total, TimeLimit)"
   ]
  },
  {
   "cell_type": "code",
   "execution_count": 5,
   "metadata": {},
   "outputs": [
    {
     "data": {
      "text/plain": [
       "0.8616842663930463"
      ]
     },
     "execution_count": 5,
     "metadata": {},
     "output_type": "execute_result"
    }
   ],
   "source": [
    "bn.energy()"
   ]
  },
  {
   "cell_type": "code",
   "execution_count": null,
   "metadata": {},
   "outputs": [],
   "source": [
    "itinerary, servedRate = bn.anneal()"
   ]
  }
 ],
 "metadata": {
  "kernelspec": {
   "display_name": "Python 3",
   "language": "python",
   "name": "python3"
  },
  "language_info": {
   "codemirror_mode": {
    "name": "ipython",
    "version": 3
   },
   "file_extension": ".py",
   "mimetype": "text/x-python",
   "name": "python",
   "nbconvert_exporter": "python",
   "pygments_lexer": "ipython3",
   "version": "3.7.3"
  }
 },
 "nbformat": 4,
 "nbformat_minor": 2
}
