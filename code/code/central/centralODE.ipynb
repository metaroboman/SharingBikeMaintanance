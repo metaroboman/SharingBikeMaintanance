{
 "cells": [
  {
   "cell_type": "markdown",
   "metadata": {},
   "source": [
    "**Update the dynamic of the model**  \n",
    "2020-6-13\n",
    "\n",
    "- In the previous version, the B_ and D_ was fixed, and reallocate evenly\n",
    "- may research on the diffrent settings \n",
    "- In this version, allocate the bikes according to the arrival ratex\n",
    "- In the next set the D_ can be the bikes left in the distribute pool"
   ]
  },
  {
   "cell_type": "code",
   "execution_count": 1,
   "metadata": {},
   "outputs": [],
   "source": [
    "import numpy as np\n",
    "import pandas as pd\n",
    "import matplotlib.pyplot as plt\n",
    "import sympy as sp\n",
    "from math import factorial\n",
    "from math import isclose\n",
    "from tqdm import tqdm\n",
    "import csv\n",
    "from scipy.sparse import csr_matrix\n",
    "from scipy.sparse import identity\n",
    "from scipy.sparse.linalg import spsolve\n",
    "from numba import jit\n",
    "from numpy.random import choice"
   ]
  },
  {
   "cell_type": "code",
   "execution_count": 17,
   "metadata": {},
   "outputs": [],
   "source": [
    "# set the parameters\n",
    "# get the number of states S\n",
    "'''\n",
    "A: number of areas\n",
    "M: number of total bikes\n",
    "S: number of total states\n",
    "Pij: transfering possibility matrix\n",
    "Beta: broken rate\n",
    "ArrMtx: arrival rates of each area\n",
    "Gamma: gathering rate\n",
    "Mu: fix rate\n",
    "Delta: distributing rate\n",
    "RhoMtx: matrix of ride rates\n",
    "N: number of fix servers\n",
    "B_: valve value at broken pool\n",
    "D_: valve value at distributing pool\n",
    "'''\n",
    "\n",
    "A = 2\n",
    "M = 6\n",
    "Pij = [[0.3, 0.7],\n",
    "       [0.7, 0.3]]\n",
    "# Pij = [[0.1, 0.2, 0.3, 0.4],\n",
    "#        [0.2, 0.3, 0.4, 0.1],\n",
    "#        [0.3, 0.4, 0.1, 0.2],\n",
    "#        [0.4, 0.3, 0.2, 0.1]]\n",
    "Beta = 0.4\n",
    "ArrLst = [2.5, 5.0]\n",
    "#ArrLst = [5.0, 5.0, 6.0, 7.0]\n",
    "Gamma = 1.0\n",
    "Mu = 1.0\n",
    "Delta = 1.0\n",
    "# RhoMtx = [[1.0, 1.0], \n",
    "#           [1.0, 1.0]]\n",
    "RhoMtx = [[1.0] * A for i in range(A)]\n",
    "N = 4\n",
    "B_, D_ = 3, 3"
   ]
  },
  {
   "cell_type": "code",
   "execution_count": 18,
   "metadata": {},
   "outputs": [
    {
     "name": "stdout",
     "output_type": "stream",
     "text": [
      "CPU times: user 67.3 ms, sys: 2.42 ms, total: 69.7 ms\n",
      "Wall time: 69.5 ms\n",
      "9 1267\n"
     ]
    }
   ],
   "source": [
    "# generate state dictionary direrctly\n",
    "\n",
    "def temp(x, i, index, possSet):\n",
    "    x.append(i)\n",
    "    generate_R(x.copy(), index, possSet)\n",
    "\n",
    "def generate_R(s, index, possSet):\n",
    "    L = A+3+A**2\n",
    "    if len(s)==L and sum(s)==M and sum(s[-2:]) in possSet:\n",
    "        State[tuple(s)] = index[0]\n",
    "        index[0] += 1\n",
    "    elif len(s)>L or sum(s)>M or (len(s)==L and not sum(s[-2:]) in possSet):\n",
    "        return 0\n",
    "    else:\n",
    "        for i in range(M+1):\n",
    "            temp(s.copy(), i, index, possSet)\n",
    "def getPossSet():\n",
    "    possSet = []\n",
    "    inLst = [i for i in range(0, M+1, B_)]\n",
    "    #print(inLst)\n",
    "    for _ in inLst:\n",
    "        fake = [i for i in range(_, -1, -D_)]\n",
    "        possSet += fake\n",
    "        #print(fake)\n",
    "    return set(possSet)\n",
    "def getState():\n",
    "    # generate state dictionary direrctly\n",
    "    State = {}\n",
    "    index = [0]\n",
    "    possSet = getPossSet()\n",
    "    for i in range(M+1):\n",
    "        generate_R([i], index, possSet)\n",
    "    return State\n",
    "\n",
    "State = {}\n",
    "%time getState()\n",
    "\n",
    "n_state = len(State)\n",
    "n_queue = A+3+A**2\n",
    "print(n_queue, n_state)"
   ]
  },
  {
   "cell_type": "code",
   "execution_count": 19,
   "metadata": {},
   "outputs": [
    {
     "data": {
      "text/plain": [
       "[2, 4]"
      ]
     },
     "execution_count": 19,
     "metadata": {},
     "output_type": "execute_result"
    }
   ],
   "source": [
    "def get_target_number():\n",
    "    #A, M, D_, ArrLst = A, M, D_, ArrLst\n",
    "    arr = np.array(ArrLst)/sum(ArrLst)\n",
    "    num_dis = [int(M*x) for x in arr]\n",
    "    left = M - sum(num_dis)\n",
    "    for i in np.argsort(ArrLst)[::-1][:left]:\n",
    "        num_dis[i] += 1\n",
    "    return num_dis\n",
    "num_dis = get_target_number()\n",
    "num_dis"
   ]
  },
  {
   "cell_type": "code",
   "execution_count": 6,
   "metadata": {},
   "outputs": [],
   "source": [
    "n, col, val = 0, [], []\n",
    "tempS = [3,3,0,0,0]\n",
    "arr_rank = np.argsort(num_dis)[::-1]\n",
    "N_lst = tempS[:A]\n",
    "dbar = D_\n",
    "#print(arr_rank, num_dis,N_lst1, dbar1)\n",
    "result_lst = []\n",
    "#    A, D_, num_dis = A, D_, num_dis\n",
    "# DP, Ni\n",
    "def get_before_reallocate(arr_rank, num_dis, N_lst, dbar, result_lst):\n",
    "    #if dbar == 0: return result_lst\n",
    "    #print(arr_rank, num_dis, N_lst, dbar, result_lst)\n",
    "    i = arr_rank[0]\n",
    "    if N_lst[i]<num_dis[i]:\n",
    "        if dbar<=N_lst[i]:\n",
    "            result = N_lst.copy()\n",
    "            result[i] -= dbar\n",
    "            result_lst.append(result)\n",
    "    elif N_lst[i]>num_dis[i]:\n",
    "        if arr_rank.size!=0:\n",
    "            get_before_reallocate(arr_rank[1:], num_dis, N_lst, dbar, result_lst)\n",
    "    else:\n",
    "        if arr_rank.size==1:\n",
    "            if N_lst[i]>=dbar: \n",
    "                result = N_lst.copy()\n",
    "                result[i] -= dbar\n",
    "                result_lst.append(result)\n",
    "        else: \n",
    "            for j in range(min(N_lst[i], dbar)+1):\n",
    "                arr_rank1 = arr_rank[1:]\n",
    "                result = N_lst.copy()\n",
    "                result[i] -= j\n",
    "                get_before_reallocate(arr_rank1, num_dis, result, dbar-j, result_lst)\n",
    "    \n",
    "for s in State:\n",
    "    tempS = list(s)\n",
    "    #    A, D_, num_dis = A, D_, num_dis\n",
    "        # DP, Ni\n",
    "    arr_rank = np.argsort(num_dis)[::-1]\n",
    "    N_lst1 = tempS[:A]\n",
    "    tempsum =sum(N_lst1)\n",
    "    dbar1 = D_\n",
    "    result_lst = []\n",
    "    get_before_reallocate(arr_rank, num_dis, N_lst1, dbar1, result_lst)\n",
    "    result_lst1 = [tuple(x) for x in result_lst]\n",
    "    assert(len(result_lst)==len(set(result_lst1)))\n",
    "        \n",
    "#     tempS[-1] += D_\n",
    "#     tail = tempS[-3:]\n",
    "#     for x in result_lst:\n",
    "#         temp = x+tail\n",
    "#         assert(len(result_lst)==len(set(result_lst)))\n",
    "#         if sum(x)-tempsum!=-D_:\n",
    "#             print(x, tempS)\n",
    "        #assert(sum(N_lst1)-sum(temp)==D_)"
   ]
  },
  {
   "cell_type": "code",
   "execution_count": 20,
   "metadata": {},
   "outputs": [],
   "source": [
    "# 使用scipy.sparse.csr_sparse\n",
    "# generate R matrix\n",
    "\n",
    "def INi(ni):\n",
    "    if ni > 0: return 1\n",
    "    else: return 0\n",
    "def IBP(bp):\n",
    "    if bp >= B_: return 1\n",
    "    else: return 0\n",
    "def IDP(dp):\n",
    "    if dp >= D_: return 1\n",
    "    else: return 0\n",
    "def IS(s):\n",
    "    # 判断是不是都是在0到M之间\n",
    "    if tuple(s) in State.keys(): return 1\n",
    "    else: return 0\n",
    "    \n",
    "def get_target_number():\n",
    "    #A, M, D_, ArrLst = A, M, D_, ArrLst\n",
    "    arr = np.array(ArrLst)/sum(ArrLst)\n",
    "    num_dis = [int(M*x) for x in arr]\n",
    "    left = M - sum(num_dis)\n",
    "    for i in np.argsort(ArrLst)[::-1][:left]:\n",
    "        num_dis[i] += 1\n",
    "    return num_dis\n",
    "num_dis = get_target_number()\n",
    "\n",
    "def arrRateIn(s):\n",
    "    n, col, val = 0, [], []\n",
    "    for i in range(A):\n",
    "        for j in range(A):\n",
    "            tempS = list(s)\n",
    "            # Ni, Rij\n",
    "            y = A + i*A + j\n",
    "            a1 = tempS[i] = tempS[i] + 1\n",
    "            a2 = tempS[y] = tempS[y] - 1\n",
    "            if IS(tempS):\n",
    "                n += 1\n",
    "                col.append(State[tuple(tempS)])\n",
    "                val.append(ArrLst[i]*Pij[i][j])\n",
    "    #         print(tempS)\n",
    "    # print(n, col, val)\n",
    "    # print('arr-----------')\n",
    "    return n, col, val\n",
    "            \n",
    "def backRateIn(s):\n",
    "    n, col, val = 0, [], []\n",
    "    for i in range(A):\n",
    "        for j in range(A):\n",
    "            tempS = list(s)\n",
    "            # Ni, Rij\n",
    "            y = A + j*A + i\n",
    "            a1 = tempS[i] = tempS[i] - 1\n",
    "            a2 = tempS[y] = tempS[y] + 1\n",
    "            if IS(tempS):\n",
    "                n += 1\n",
    "                col.append(State[tuple(tempS)])\n",
    "                val.append(RhoMtx[j][i]*a2*(1-Beta))\n",
    "    #         print(tempS)\n",
    "    # print(n, col, val)\n",
    "    # print('back-----------')\n",
    "    return n, col, val\n",
    "\n",
    "def broRateIn(s):\n",
    "    n, col, val = 0, [], []\n",
    "    for i in range(A):\n",
    "        for j in range(A):\n",
    "            tempS = list(s)\n",
    "            #Rij, BP\n",
    "            y = A + i*A + j\n",
    "            a1 = tempS[y] = tempS[y] + 1\n",
    "            a2 = tempS[-3] = tempS[-3] - 1\n",
    "            if IS(tempS):\n",
    "                n += 1\n",
    "                col.append(State[tuple(tempS)])\n",
    "                val.append(RhoMtx[i][j]*a1*Beta)\n",
    "    #         print(tempS)\n",
    "    # print(n, col, val)\n",
    "    # print('bro-----------')\n",
    "    return n, col, val\n",
    "\n",
    "def gathRateIn(s):\n",
    "    n, col, val = 0, [], []\n",
    "    tempS = list(s)\n",
    "    # BP, RC\n",
    "    a1 = tempS[-3] = tempS[-3] + B_\n",
    "    a2 = tempS[-2] = tempS[-2] - B_\n",
    "    if IS(tempS):\n",
    "        n += 1\n",
    "        col.append(State[tuple(tempS)])\n",
    "        val.append(Gamma)\n",
    "    # print(tempS)\n",
    "    # print(n, col, val)\n",
    "    # print('gath-----------')\n",
    "    return n, col, val\n",
    "\n",
    "def fixRateIn(s):\n",
    "    n, col, val = 0, [], []\n",
    "    tempS = list(s)\n",
    "    # RC, DP\n",
    "    a1 = tempS[-2] = tempS[-2] + 1\n",
    "    a2 = tempS[-1] = tempS[-1] - 1\n",
    "    if IS(tempS):\n",
    "        n += 1\n",
    "        col.append(State[tuple(tempS)])\n",
    "        val.append(Mu*min(a1, N))\n",
    "    # print(tempS)\n",
    "    # print(n, col, val)\n",
    "    # print('fix-----------')\n",
    "    return n, col, val\n",
    "\n",
    "def redRateIn(s):\n",
    "    n, col, val = 0, [], []\n",
    "    tempS = list(s)\n",
    "#    A, D_, num_dis = A, D_, num_dis\n",
    "    # DP, Ni\n",
    "    arr_rank, N_lst1, dbar1, result_lst = np.argsort(num_dis)[::-1], tempS[:A], D_, []\n",
    "    get_before_reallocate(arr_rank, num_dis, N_lst1, dbar1, result_lst)\n",
    "    tempS[-1] += D_\n",
    "    tail = tempS[A:]\n",
    "    for x in result_lst:\n",
    "        temp = x+tail\n",
    "        if IS(temp):\n",
    "            n += 1\n",
    "            col.append(State[tuple(temp)])\n",
    "            val.append(Delta)\n",
    "    # print(tempS)\n",
    "    # print(n, col, val)\n",
    "    # print('red-----------')\n",
    "    return n, col, val\n",
    "    \n",
    "def getRateOut(s):\n",
    "    outRate = 0\n",
    "    for i in range(A):\n",
    "        if INi(s[i]):\n",
    "            outRate += ArrLst[i]\n",
    "        else: continue\n",
    "    for i in range(A):\n",
    "        for j in range(A):\n",
    "            outRate += RhoMtx[i][j] * s[A+i*A+j]\n",
    "    outRate += Gamma*IBP(s[-3]) + Mu*min(s[-2], N) + Delta*IDP(s[-1])\n",
    "    # inRate += sum(list(map(lambda a: a[0]*a[1], zip(x,y))))\n",
    "    return -outRate\n",
    "\n",
    "def getRateIn(s):\n",
    "    n, col, val = 0, [], []\n",
    "    '''\n",
    "    # customer arrival: arrRateIn\n",
    "    # ride back: backRateIn\n",
    "    # ride break down: broRateIn\n",
    "    # gathering: gathRateIn\n",
    "    # fixing: fixRateIn\n",
    "    # redistributing: redRateIn\n",
    "    '''\n",
    "    for f in [arrRateIn, backRateIn, broRateIn, gathRateIn, fixRateIn, redRateIn]:\n",
    "        tempN, tempCol, tempVal = f(s)\n",
    "        n += tempN\n",
    "        col += tempCol\n",
    "        val += tempVal\n",
    "    \n",
    "    return n, col, val\n",
    "\n",
    "def generateR():\n",
    "    #R = csr_matrix((S,S), dtype=np.float)\n",
    "    Row, Col, Value = [], [], []\n",
    "    for k, s in enumerate(State):\n",
    "        '''\n",
    "        number of row: n\n",
    "        row number: k\n",
    "        column number: col\n",
    "        value: data\n",
    "        '''\n",
    "        # 加1\n",
    "        if k==n_state-1: # collect the last row as a test instance\n",
    "            tempN, tempCol, tempVal = getRateIn(s)\n",
    "            tempCol += [k]\n",
    "            tempVal += [getRateOut(s)]\n",
    "        else:            # generate the mtx\n",
    "            # set rate out for state s\n",
    "            Row += [k]\n",
    "            Col += [k]\n",
    "            Value += [getRateOut(s)]\n",
    "\n",
    "            # set rate in for state s\n",
    "            tempN, tempCol, tempVal = getRateIn(s)\n",
    "            Row += [k] * tempN\n",
    "            Col += tempCol\n",
    "            Value += tempVal\n",
    "\n",
    "    Row += [k] * n_state\n",
    "    Col += list(range(n_state))\n",
    "    Value += [1] * n_state\n",
    "    R = csr_matrix((Value, (Row, Col)), dtype=np.float) #.toarray()\n",
    "    testArr = csr_matrix((tempVal, ([0]*(tempN+1), tempCol)), dtype=np.float)\n",
    "    return R, testArr\n",
    "BalanceMtx, testArr = generateR()\n",
    "\n"
   ]
  },
  {
   "cell_type": "code",
   "execution_count": 13,
   "metadata": {
    "scrolled": true
   },
   "outputs": [
    {
     "name": "stdout",
     "output_type": "stream",
     "text": [
      "1267\n"
     ]
    },
    {
     "data": {
      "text/plain": [
       "(1267, 1267)"
      ]
     },
     "execution_count": 13,
     "metadata": {},
     "output_type": "execute_result"
    }
   ],
   "source": [
    "print(np.linalg.matrix_rank(BalanceMtx.toarray()))\n",
    "#np.linalg.det(BalanceMtx.toarray())\n",
    "BalanceMtx.toarray().shape"
   ]
  },
  {
   "cell_type": "code",
   "execution_count": 21,
   "metadata": {},
   "outputs": [
    {
     "data": {
      "text/plain": [
       "array([1.15508557e-02, 1.15508557e-02, 1.15508557e-02, ...,\n",
       "       4.34010798e-06, 2.96702537e-06, 6.17222497e-06])"
      ]
     },
     "execution_count": 21,
     "metadata": {},
     "output_type": "execute_result"
    }
   ],
   "source": [
    "b = np.array([0]*(n_state-1) + [1])\n",
    "\n",
    "x = spsolve(BalanceMtx, b)\n",
    "x"
   ]
  },
  {
   "cell_type": "code",
   "execution_count": 22,
   "metadata": {},
   "outputs": [
    {
     "data": {
      "text/plain": [
       "1.0000000000000002"
      ]
     },
     "execution_count": 22,
     "metadata": {},
     "output_type": "execute_result"
    }
   ],
   "source": [
    "sum(x)"
   ]
  },
  {
   "cell_type": "code",
   "execution_count": 23,
   "metadata": {},
   "outputs": [
    {
     "data": {
      "text/plain": [
       "(1.0000000000000004, array([3.81461288e-18]))"
      ]
     },
     "execution_count": 23,
     "metadata": {},
     "output_type": "execute_result"
    }
   ],
   "source": [
    "BalanceMtx.toarray()[-1].dot(x), testArr.toarray().dot(x)"
   ]
  },
  {
   "cell_type": "code",
   "execution_count": 41,
   "metadata": {
    "scrolled": true
   },
   "outputs": [],
   "source": [
    "portionState = {}\n",
    "with open('test.csv', 'w') as fout:\n",
    "    for k,s in enumerate(State):\n",
    "        portionState[s] = x[k]\n",
    "        [fout.write(str(temp)+',') for temp in s]\n",
    "        fout.write('%s\\n'%(x[k]))\n",
    "        #print(s, x[k])\n",
    "#portionState"
   ]
  },
  {
   "cell_type": "code",
   "execution_count": 42,
   "metadata": {
    "scrolled": true
   },
   "outputs": [
    {
     "data": {
      "text/plain": [
       "(1.4474438575351734,\n",
       " 1.2916038786667852,\n",
       " 0.5030781211581118,\n",
       " 2.4631561086804084,\n",
       " 0.7977961551176286)"
      ]
     },
     "execution_count": 42,
     "metadata": {},
     "output_type": "execute_result"
    }
   ],
   "source": [
    "normalBikes, brokenBikes, idle, BP, RC, DP = 0,0,0,0,0,0\n",
    "for k,s in enumerate(portionState):\n",
    "    por = portionState[s]\n",
    "    normalBikes += sum(s[:-3]) * por\n",
    "    brokenBikes += sum(s[-3:]) * por\n",
    "    if s[-2] == 0: idle += por\n",
    "    BP += s[-3] * por\n",
    "    RC += s[-2] * por\n",
    "    DP += s[-1] * por\n",
    "# normalBikes, brokenBikes, idle, BP, RC, DP\n",
    "BP, DP, idle, normalBikes, RC"
   ]
  },
  {
   "cell_type": "code",
   "execution_count": 35,
   "metadata": {
    "scrolled": true
   },
   "outputs": [
    {
     "data": {
      "text/html": [
       "<div>\n",
       "<style scoped>\n",
       "    .dataframe tbody tr th:only-of-type {\n",
       "        vertical-align: middle;\n",
       "    }\n",
       "\n",
       "    .dataframe tbody tr th {\n",
       "        vertical-align: top;\n",
       "    }\n",
       "\n",
       "    .dataframe thead th {\n",
       "        text-align: right;\n",
       "    }\n",
       "</style>\n",
       "<table border=\"1\" class=\"dataframe\">\n",
       "  <thead>\n",
       "    <tr style=\"text-align: right;\">\n",
       "      <th></th>\n",
       "      <th>c0</th>\n",
       "      <th>c1</th>\n",
       "      <th>c2</th>\n",
       "      <th>c3</th>\n",
       "      <th>c4</th>\n",
       "      <th>c5</th>\n",
       "      <th>c6</th>\n",
       "      <th>c7</th>\n",
       "      <th>c8</th>\n",
       "      <th>p</th>\n",
       "    </tr>\n",
       "  </thead>\n",
       "  <tbody>\n",
       "    <tr>\n",
       "      <th>0</th>\n",
       "      <td>0</td>\n",
       "      <td>0</td>\n",
       "      <td>0</td>\n",
       "      <td>0</td>\n",
       "      <td>0</td>\n",
       "      <td>0</td>\n",
       "      <td>0</td>\n",
       "      <td>0</td>\n",
       "      <td>4</td>\n",
       "      <td>0.018907</td>\n",
       "    </tr>\n",
       "    <tr>\n",
       "      <th>1</th>\n",
       "      <td>0</td>\n",
       "      <td>0</td>\n",
       "      <td>0</td>\n",
       "      <td>0</td>\n",
       "      <td>0</td>\n",
       "      <td>0</td>\n",
       "      <td>0</td>\n",
       "      <td>1</td>\n",
       "      <td>3</td>\n",
       "      <td>0.009454</td>\n",
       "    </tr>\n",
       "    <tr>\n",
       "      <th>2</th>\n",
       "      <td>0</td>\n",
       "      <td>0</td>\n",
       "      <td>0</td>\n",
       "      <td>0</td>\n",
       "      <td>0</td>\n",
       "      <td>0</td>\n",
       "      <td>0</td>\n",
       "      <td>2</td>\n",
       "      <td>2</td>\n",
       "      <td>0.007090</td>\n",
       "    </tr>\n",
       "    <tr>\n",
       "      <th>3</th>\n",
       "      <td>0</td>\n",
       "      <td>0</td>\n",
       "      <td>0</td>\n",
       "      <td>0</td>\n",
       "      <td>0</td>\n",
       "      <td>0</td>\n",
       "      <td>0</td>\n",
       "      <td>3</td>\n",
       "      <td>1</td>\n",
       "      <td>0.003216</td>\n",
       "    </tr>\n",
       "    <tr>\n",
       "      <th>4</th>\n",
       "      <td>0</td>\n",
       "      <td>0</td>\n",
       "      <td>0</td>\n",
       "      <td>0</td>\n",
       "      <td>0</td>\n",
       "      <td>0</td>\n",
       "      <td>0</td>\n",
       "      <td>4</td>\n",
       "      <td>0</td>\n",
       "      <td>0.000973</td>\n",
       "    </tr>\n",
       "  </tbody>\n",
       "</table>\n",
       "</div>"
      ],
      "text/plain": [
       "   c0  c1  c2  c3  c4  c5  c6  c7  c8         p\n",
       "0   0   0   0   0   0   0   0   0   4  0.018907\n",
       "1   0   0   0   0   0   0   0   1   3  0.009454\n",
       "2   0   0   0   0   0   0   0   2   2  0.007090\n",
       "3   0   0   0   0   0   0   0   3   1  0.003216\n",
       "4   0   0   0   0   0   0   0   4   0  0.000973"
      ]
     },
     "execution_count": 35,
     "metadata": {},
     "output_type": "execute_result"
    }
   ],
   "source": [
    "names = ['c'+str(i) for i in range(n_queue)] + ['p']\n",
    "df = pd.read_csv('test.csv', names=names)\n",
    "df.head()"
   ]
  },
  {
   "cell_type": "code",
   "execution_count": 17,
   "metadata": {},
   "outputs": [
    {
     "name": "stdout",
     "output_type": "stream",
     "text": [
      "Stored 'cenState' (dict)\n",
      "Stored 'cenPorState' (dict)\n"
     ]
    }
   ],
   "source": [
    "# %store -d State\n",
    "# %store -d portionState\n",
    "cenState = State\n",
    "cenPorState = portionState\n",
    "%store cenState\n",
    "%store cenPorState"
   ]
  },
  {
   "cell_type": "code",
   "execution_count": 46,
   "metadata": {},
   "outputs": [
    {
     "data": {
      "text/plain": [
       "0.00016257952247527563"
      ]
     },
     "execution_count": 46,
     "metadata": {},
     "output_type": "execute_result"
    }
   ],
   "source": [
    "portionState[(1,1,1,1,1,1,0,1,1)]"
   ]
  },
  {
   "cell_type": "code",
   "execution_count": 50,
   "metadata": {
    "scrolled": false
   },
   "outputs": [
    {
     "data": {
      "text/plain": [
       "(1.5573405349930055e-05, (3, 0, 0, 0, 0, 0, 3, 2, 0))"
      ]
     },
     "execution_count": 50,
     "metadata": {},
     "output_type": "execute_result"
    }
   ],
   "source": [
    "sorted(zip(portionState.values(), portionState.keys()), reverse=True)[5000]"
   ]
  }
 ],
 "metadata": {
  "kernelspec": {
   "display_name": "Python 3",
   "language": "python",
   "name": "python3"
  },
  "language_info": {
   "codemirror_mode": {
    "name": "ipython",
    "version": 3
   },
   "file_extension": ".py",
   "mimetype": "text/x-python",
   "name": "python",
   "nbconvert_exporter": "python",
   "pygments_lexer": "ipython3",
   "version": "3.7.3"
  }
 },
 "nbformat": 4,
 "nbformat_minor": 2
}
