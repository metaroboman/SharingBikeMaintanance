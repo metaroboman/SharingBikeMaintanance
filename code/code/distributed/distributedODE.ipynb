{
 "cells": [
  {
   "cell_type": "code",
   "execution_count": 1,
   "metadata": {},
   "outputs": [],
   "source": [
    "import numpy as np\n",
    "import pandas as pd\n",
    "import matplotlib.pyplot as plt\n",
    "import sympy as sp\n",
    "from math import factorial\n",
    "from tqdm import tqdm\n",
    "import csv\n",
    "from scipy.sparse import csr_matrix\n",
    "from scipy.sparse import identity\n",
    "from scipy.sparse.linalg import spsolve"
   ]
  },
  {
   "cell_type": "code",
   "execution_count": 2,
   "metadata": {},
   "outputs": [],
   "source": [
    "np.random.seed(1)\n",
    "A = 2\n",
    "M = 6\n",
    "\n",
    "def getPij(a):\n",
    "    temp = np.random.rand(A,A)\n",
    "    return (temp/sum(temp)).T\n",
    "Pij = getPij(A)\n",
    "ArrLst = np.random.rand(A)\n",
    "Beta = 0.3\n",
    "RhoMtx = np.random.rand(A, A)\n",
    "\n",
    "Theta = 1.0\n",
    "Mu =1.0\n",
    "N = 1"
   ]
  },
  {
   "cell_type": "code",
   "execution_count": 27,
   "metadata": {},
   "outputs": [
    {
     "name": "stdout",
     "output_type": "stream",
     "text": [
      "3432\n"
     ]
    }
   ],
   "source": [
    "# set the parameters\n",
    "# get the number of states S\n",
    "'''\n",
    "A: number of areas\n",
    "M: number of total bikes\n",
    "S: number of total states\n",
    "Pij: transfering possibility matrix\n",
    "Beta: broken rate\n",
    "ArrMtx: arrival rates of each area\n",
    "Theta: moving rate\n",
    "Mu: fix rate\n",
    "RhoMtx: matrix of ride rates\n",
    "N: number of fix servers\n",
    "'''\n",
    "\n",
    "A = 2\n",
    "M = 6\n",
    "S = int(factorial(A+A-1+A**2+M)/factorial(A+A-1+A**2)/factorial(M)) * A\n",
    "print(S)\n",
    "Pij = [[0.3, 0.7],\n",
    "       [0.7, 0.3]]\n",
    "Beta = 0.4\n",
    "ArrLst = [5.0, 5.0]\n",
    "Theta = 1.0\n",
    "Mu = 0.3\n",
    "RhoMtx = [[1.0, 1.0], \n",
    "          [1.0, 1.0]]\n",
    "N = 1"
   ]
  },
  {
   "cell_type": "code",
   "execution_count": 3,
   "metadata": {
    "scrolled": true
   },
   "outputs": [
    {
     "data": {
      "text/plain": [
       "(8, 3432)"
      ]
     },
     "execution_count": 3,
     "metadata": {},
     "output_type": "execute_result"
    }
   ],
   "source": [
    "# generate state dictionary direrctly\n",
    "\n",
    "State = {}\n",
    "index = [0]\n",
    "\n",
    "def temp(x, i, index, l):\n",
    "    x.append(i)\n",
    "    generate_R(x.copy(), index, l)\n",
    "    \n",
    "def generate_R(s, index, l):\n",
    "    if len(s)==A+A+A**2 and sum(s)==M:\n",
    "        State[tuple(s+[l])] = index[0]\n",
    "        index[0] += 1\n",
    "    elif len(s)>A+3+A**2 or sum(s)>M:\n",
    "        return 0\n",
    "    else:\n",
    "        for i in range(M+1):\n",
    "            temp(s.copy(), i, index, l)\n",
    "            \n",
    "for l in range(A):\n",
    "    for i in range(M+1):\n",
    "        generate_R([i], index, l)\n",
    "n_state = len(State)\n",
    "n_queue = A+A+A**2\n",
    "n_queue, n_state"
   ]
  },
  {
   "cell_type": "code",
   "execution_count": 4,
   "metadata": {},
   "outputs": [],
   "source": [
    "# 使用scipy.sparse.csr_sparse\n",
    "# generate R matrix\n",
    "\n",
    "def INi(ni):\n",
    "    if ni > 0: return 1\n",
    "    else: return 0\n",
    "def IL(s):\n",
    "    if s[A+s[-1]] == 0: return 1\n",
    "    else: return 0\n",
    "def IS(l):\n",
    "    # 判断是不是都是在0到M之间\n",
    "    if len(l) == sum(list(map(lambda x: M >= x >= 0, l))): return 1\n",
    "    else: return 0\n",
    "\n",
    "def arrRateIn(s):\n",
    "    n, col, val = 0, [], []\n",
    "    for i in range(A):\n",
    "        for j in range(A):\n",
    "            tempS = list(s)\n",
    "            # Ni, Rij\n",
    "            y = 2*A + i*A + j\n",
    "            a1 = tempS[i] = tempS[i] + 1\n",
    "            a2 = tempS[y] = tempS[y] - 1\n",
    "            if IS([a1, a2]):\n",
    "                n += 1\n",
    "                col.append(State[tuple(tempS)])\n",
    "                val.append(ArrLst[i]*Pij[i][j])\n",
    "    #         print(tempS)\n",
    "    # print(n, col, val)\n",
    "    # print('arr-----------')\n",
    "    return n, col, val\n",
    "            \n",
    "def backRateIn(s):\n",
    "    n, col, val = 0, [], []\n",
    "    for i in range(A):\n",
    "        for j in range(A):\n",
    "            tempS = list(s)\n",
    "            # Ni, Rij\n",
    "            y = 2*A + j*A + i\n",
    "            a1 = tempS[i] = tempS[i] - 1\n",
    "            a2 = tempS[y] = tempS[y] + 1\n",
    "            if IS([a1, a2]):\n",
    "                n += 1\n",
    "                col.append(State[tuple(tempS)])\n",
    "                val.append(RhoMtx[j][i]*a2*(1-Beta))\n",
    "    #         print(tempS)\n",
    "    # print(n, col, val)\n",
    "    # print('back-----------')\n",
    "    return n, col, val\n",
    "\n",
    "def broRateIn(s):\n",
    "    n, col, val = 0, [], []\n",
    "    for i in range(A):\n",
    "        for j in range(A):\n",
    "            tempS = list(s)\n",
    "            #Rij, BP\n",
    "            y = 2*A + j*A + i\n",
    "            a1 = tempS[y] = tempS[y] + 1\n",
    "            a2 = tempS[A+i] = tempS[A+i] - 1\n",
    "            if IS([a1, a2]):\n",
    "                n += 1\n",
    "                col.append(State[tuple(tempS)])\n",
    "                val.append(RhoMtx[j][i]*a1*Beta)\n",
    "    #         print(tempS)\n",
    "    # print(n, col, val)\n",
    "    # print('bro-----------')\n",
    "    return n, col, val\n",
    "\n",
    "def fixRateIn(s):\n",
    "    n, col, val = 0, [], []\n",
    "    tempS = list(s)\n",
    "    # RC, DP\n",
    "    L = s[-1]\n",
    "    a1 = tempS[A+L] = tempS[A+L] + 1\n",
    "    a2 = tempS[L] = tempS[L] - 1\n",
    "    if IS([a1, a2]):\n",
    "        n += 1\n",
    "        col.append(State[tuple(tempS)])\n",
    "        val.append(Mu*min(tempS[A+L], N))\n",
    "    # print(tempS)\n",
    "    # print(n, col, val)\n",
    "    # print('fix-----------')\n",
    "    return n, col, val\n",
    "\n",
    "def movRateIn(s):\n",
    "    n, col, val = 0, [], []\n",
    "    tempS = list(s)\n",
    "    index = (s[-1]-1) % A\n",
    "    tempS[A+index] = 0\n",
    "    tempS[-1] = index\n",
    "    if sum(tempS[:-1]) == M:\n",
    "        n += 1\n",
    "        col.append(State[tuple(tempS)])\n",
    "        val.append(Theta)\n",
    "    # print(tempS)\n",
    "    # print(n, col, val)\n",
    "    # print('red-----------')\n",
    "    return n, col, val\n",
    "    \n",
    "def getRateOut(s):\n",
    "    outRate = 0\n",
    "    for i in range(A):\n",
    "        if INi(s[i]):\n",
    "            outRate += ArrLst[i]\n",
    "        else: continue\n",
    "    for i in range(A):\n",
    "        for j in range(A):\n",
    "            outRate += RhoMtx[i][j] * s[2*A+i*A+j]\n",
    "    outRate += Mu*min(s[A+s[-1]], N) + Theta*IL(s)\n",
    "    # inRate += sum(list(map(lambda a: a[0]*a[1], zip(x,y))))\n",
    "    return -outRate\n",
    "\n",
    "def getRateIn(s):\n",
    "    n, col, val = 0, [], []\n",
    "    '''\n",
    "    # customer arrival: arrRateIn\n",
    "    # ride back: backRateIn\n",
    "    # ride break down: broRateIn\n",
    "    # gathering: gathRateIn\n",
    "    # fixing: fixRateIn\n",
    "    # redistributing: redRateIn\n",
    "    '''\n",
    "    for f in [arrRateIn, backRateIn, broRateIn, fixRateIn, movRateIn]:\n",
    "        tempN, tempCol, tempVal = f(s)\n",
    "        n += tempN\n",
    "        col += tempCol\n",
    "        val += tempVal\n",
    "    \n",
    "    return n, col, val\n",
    "\n",
    "def generateR():\n",
    "    #R = csr_matrix((S,S), dtype=np.float)\n",
    "    Row, Col, Value = [], [], []\n",
    "    for k, s in enumerate(State):\n",
    "        '''\n",
    "        number of row: n\n",
    "        row number: k\n",
    "        column number: col\n",
    "        value: data\n",
    "        '''\n",
    "        # 加1\n",
    "        if k==n_state-1: # collect the last row as a test instance\n",
    "            tempN, tempCol, tempVal = getRateIn(s)\n",
    "            tempCol += [k]\n",
    "            tempVal += [getRateOut(s)]\n",
    "        else:            # generate the mtx\n",
    "            # set rate out for state s\n",
    "            Row += [k]\n",
    "            Col += [k]\n",
    "            Value += [getRateOut(s)]\n",
    "\n",
    "            # set rate in for state s\n",
    "            tempN, tempCol, tempVal = getRateIn(s)\n",
    "            Row += [k] * tempN\n",
    "            Col += tempCol\n",
    "            Value += tempVal\n",
    "\n",
    "    Row += [k] * n_state\n",
    "    Col += list(range(n_state))\n",
    "    Value += [1] * n_state\n",
    "    R = csr_matrix((Value, (Row, Col)), dtype=np.float) #.toarray()\n",
    "    testArr = csr_matrix((tempVal, ([0]*(tempN+1), tempCol)), dtype=np.float)\n",
    "    return R, testArr\n",
    "BalanceMtx, testArr = generateR()\n",
    "    # 原始\n",
    "#         # set rate out for state s\n",
    "#         Row += [k]\n",
    "#         Col += [k]\n",
    "#         Value += [getRateOut(s)]\n",
    "\n",
    "#         # set rate in for state s\n",
    "#         tempN, tempCol, tempVal = getRateIn(s)\n",
    "#         Row += [k] * tempN\n",
    "#         Col += tempCol\n",
    "#         Value += tempVal\n",
    "\n",
    "#     R = csr_matrix((Value, (Row, Col)), dtype=np.float) #.toarray()\n",
    "#     return R\n",
    "\n",
    "# BalanceMtx = generateR()\n"
   ]
  },
  {
   "cell_type": "code",
   "execution_count": 17,
   "metadata": {
    "scrolled": true
   },
   "outputs": [
    {
     "name": "stdout",
     "output_type": "stream",
     "text": [
      "3432\n"
     ]
    },
    {
     "data": {
      "text/plain": [
       "(3432, 3432)"
      ]
     },
     "execution_count": 17,
     "metadata": {},
     "output_type": "execute_result"
    }
   ],
   "source": [
    "print(np.linalg.matrix_rank(BalanceMtx.toarray()))\n",
    "#np.linalg.det(BalanceMtx.toarray())\n",
    "BalanceMtx.toarray().shape"
   ]
  },
  {
   "cell_type": "code",
   "execution_count": 5,
   "metadata": {},
   "outputs": [],
   "source": [
    "b = np.array([0]*(n_state-1) + [1])\n",
    "x = spsolve(BalanceMtx, b)\n",
    "#b"
   ]
  },
  {
   "cell_type": "code",
   "execution_count": 6,
   "metadata": {},
   "outputs": [
    {
     "data": {
      "text/plain": [
       "(1.0, array([-1.96920761e-16]))"
      ]
     },
     "execution_count": 6,
     "metadata": {},
     "output_type": "execute_result"
    }
   ],
   "source": [
    "BalanceMtx.toarray()[-1].dot(x), testArr.toarray().dot(x)"
   ]
  },
  {
   "cell_type": "code",
   "execution_count": 7,
   "metadata": {},
   "outputs": [],
   "source": [
    "portionState = {}\n",
    "for k,s in enumerate(State):\n",
    "    portionState[s] = x[k]\n",
    "    #print(s, x[k])"
   ]
  },
  {
   "cell_type": "code",
   "execution_count": 33,
   "metadata": {},
   "outputs": [
    {
     "name": "stdout",
     "output_type": "stream",
     "text": [
      "Stored 'disState' (dict)\n",
      "Stored 'disPorState' (dict)\n"
     ]
    }
   ],
   "source": [
    "# %store -d State\n",
    "# %store -d portionState\n",
    "disState = State\n",
    "disPorState = portionState\n",
    "%store disState\n",
    "%store disPorState"
   ]
  },
  {
   "cell_type": "code",
   "execution_count": 8,
   "metadata": {},
   "outputs": [
    {
     "data": {
      "text/plain": [
       "(5.931924899668865, 0.06807510033113703, 0.9559669569007838)"
      ]
     },
     "execution_count": 8,
     "metadata": {},
     "output_type": "execute_result"
    }
   ],
   "source": [
    "normalBikes, brokenBikes, idle,  = 0,0,0\n",
    "for k,s in enumerate(portionState):\n",
    "    por = portionState[s]\n",
    "    normalBikes += sum(s[:A]+s[2*A:-1]) * por\n",
    "    brokenBikes += sum(s[A:2*A]) * por\n",
    "    if s[A+s[-1]] == 0: idle += por\n",
    "\n",
    "normalBikes, brokenBikes, idle"
   ]
  },
  {
   "cell_type": "code",
   "execution_count": 13,
   "metadata": {
    "scrolled": false
   },
   "outputs": [
    {
     "data": {
      "text/plain": [
       "(2.0206703688947715e-05, (0, 3, 0, 3, 1, 0, 1, 0, 1))"
      ]
     },
     "execution_count": 13,
     "metadata": {},
     "output_type": "execute_result"
    }
   ],
   "source": [
    "sorted(zip(portionState.values(), portionState.keys()), reverse=True)[7000]"
   ]
  },
  {
   "cell_type": "code",
   "execution_count": 37,
   "metadata": {},
   "outputs": [
    {
     "data": {
      "text/html": [
       "<div>\n",
       "<style scoped>\n",
       "    .dataframe tbody tr th:only-of-type {\n",
       "        vertical-align: middle;\n",
       "    }\n",
       "\n",
       "    .dataframe tbody tr th {\n",
       "        vertical-align: top;\n",
       "    }\n",
       "\n",
       "    .dataframe thead th {\n",
       "        text-align: right;\n",
       "    }\n",
       "</style>\n",
       "<table border=\"1\" class=\"dataframe\">\n",
       "  <thead>\n",
       "    <tr style=\"text-align: right;\">\n",
       "      <th></th>\n",
       "      <th></th>\n",
       "      <th></th>\n",
       "      <th></th>\n",
       "      <th></th>\n",
       "      <th></th>\n",
       "      <th></th>\n",
       "      <th></th>\n",
       "      <th></th>\n",
       "      <th>sep</th>\n",
       "    </tr>\n",
       "    <tr>\n",
       "      <th>a</th>\n",
       "      <th>b</th>\n",
       "      <th>c</th>\n",
       "      <th>d</th>\n",
       "      <th>e</th>\n",
       "      <th>f</th>\n",
       "      <th>g</th>\n",
       "      <th>h</th>\n",
       "      <th>i</th>\n",
       "      <th></th>\n",
       "    </tr>\n",
       "  </thead>\n",
       "  <tbody>\n",
       "    <tr>\n",
       "      <th rowspan=\"5\" valign=\"top\">0</th>\n",
       "      <th rowspan=\"5\" valign=\"top\">0</th>\n",
       "      <th rowspan=\"5\" valign=\"top\">0</th>\n",
       "      <th rowspan=\"5\" valign=\"top\">0</th>\n",
       "      <th rowspan=\"5\" valign=\"top\">0</th>\n",
       "      <th rowspan=\"5\" valign=\"top\">0</th>\n",
       "      <th rowspan=\"5\" valign=\"top\">0</th>\n",
       "      <th>0</th>\n",
       "      <th>4</th>\n",
       "      <td>35.419437</td>\n",
       "    </tr>\n",
       "    <tr>\n",
       "      <th>1</th>\n",
       "      <th>3</th>\n",
       "      <td>164.238025</td>\n",
       "    </tr>\n",
       "    <tr>\n",
       "      <th>2</th>\n",
       "      <th>2</th>\n",
       "      <td>262.310724</td>\n",
       "    </tr>\n",
       "    <tr>\n",
       "      <th>3</th>\n",
       "      <th>1</th>\n",
       "      <td>232.574894</td>\n",
       "    </tr>\n",
       "    <tr>\n",
       "      <th>4</th>\n",
       "      <th>0</th>\n",
       "      <td>74.160347</td>\n",
       "    </tr>\n",
       "    <tr>\n",
       "      <th>...</th>\n",
       "      <th>...</th>\n",
       "      <th>...</th>\n",
       "      <th>...</th>\n",
       "      <th>...</th>\n",
       "      <th>...</th>\n",
       "      <th>...</th>\n",
       "      <th>...</th>\n",
       "      <th>...</th>\n",
       "      <td>...</td>\n",
       "    </tr>\n",
       "    <tr>\n",
       "      <th rowspan=\"4\" valign=\"top\">3</th>\n",
       "      <th rowspan=\"3\" valign=\"top\">0</th>\n",
       "      <th rowspan=\"2\" valign=\"top\">0</th>\n",
       "      <th rowspan=\"2\" valign=\"top\">0</th>\n",
       "      <th rowspan=\"2\" valign=\"top\">0</th>\n",
       "      <th>0</th>\n",
       "      <th>1</th>\n",
       "      <th>0</th>\n",
       "      <th>0</th>\n",
       "      <td>38.768088</td>\n",
       "    </tr>\n",
       "    <tr>\n",
       "      <th>1</th>\n",
       "      <th>0</th>\n",
       "      <th>0</th>\n",
       "      <th>0</th>\n",
       "      <td>26.529209</td>\n",
       "    </tr>\n",
       "    <tr>\n",
       "      <th>1</th>\n",
       "      <th>0</th>\n",
       "      <th>0</th>\n",
       "      <th>0</th>\n",
       "      <th>0</th>\n",
       "      <th>0</th>\n",
       "      <th>0</th>\n",
       "      <td>109.387500</td>\n",
       "    </tr>\n",
       "    <tr>\n",
       "      <th>1</th>\n",
       "      <th>0</th>\n",
       "      <th>0</th>\n",
       "      <th>0</th>\n",
       "      <th>0</th>\n",
       "      <th>0</th>\n",
       "      <th>0</th>\n",
       "      <th>0</th>\n",
       "      <td>31.456372</td>\n",
       "    </tr>\n",
       "    <tr>\n",
       "      <th>4</th>\n",
       "      <th>0</th>\n",
       "      <th>0</th>\n",
       "      <th>0</th>\n",
       "      <th>0</th>\n",
       "      <th>0</th>\n",
       "      <th>0</th>\n",
       "      <th>0</th>\n",
       "      <th>0</th>\n",
       "      <td>10.835077</td>\n",
       "    </tr>\n",
       "  </tbody>\n",
       "</table>\n",
       "<p>299 rows × 1 columns</p>\n",
       "</div>"
      ],
      "text/plain": [
       "                          sep\n",
       "a b c d e f g h i            \n",
       "0 0 0 0 0 0 0 0 4   35.419437\n",
       "              1 3  164.238025\n",
       "              2 2  262.310724\n",
       "              3 1  232.574894\n",
       "              4 0   74.160347\n",
       "...                       ...\n",
       "3 0 0 0 0 0 1 0 0   38.768088\n",
       "          1 0 0 0   26.529209\n",
       "    1 0 0 0 0 0 0  109.387500\n",
       "  1 0 0 0 0 0 0 0   31.456372\n",
       "4 0 0 0 0 0 0 0 0   10.835077\n",
       "\n",
       "[299 rows x 1 columns]"
      ]
     },
     "execution_count": 37,
     "metadata": {},
     "output_type": "execute_result"
    }
   ],
   "source": [
    "names=['a', 'b', 'c', 'd', 'e', 'f', 'g', 'h', 'i', 't']\n",
    "r = pd.read_csv('testPoolCentralSimulation.csv', names=names)\n",
    "\n",
    "r['sep'] = r.t.diff()\n",
    "r = r[1:]\n",
    "r[['a','b']] = r[['a','b']].astype(int)\n",
    "r = r.drop(columns=['t'])\n",
    "#r.head()\n",
    "r.groupby(by=['a', 'b', 'c', 'd', 'e', 'f', 'g', 'h', 'i']).sum()"
   ]
  }
 ],
 "metadata": {
  "kernelspec": {
   "display_name": "Python 3",
   "language": "python",
   "name": "python3"
  },
  "language_info": {
   "codemirror_mode": {
    "name": "ipython",
    "version": 3
   },
   "file_extension": ".py",
   "mimetype": "text/x-python",
   "name": "python",
   "nbconvert_exporter": "python",
   "pygments_lexer": "ipython3",
   "version": "3.7.1"
  }
 },
 "nbformat": 4,
 "nbformat_minor": 2
}
